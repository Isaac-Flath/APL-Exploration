{
 "cells": [
  {
   "cell_type": "raw",
   "id": "9265352a",
   "metadata": {},
   "source": [
    "---\n",
    "title: \"About\"\n",
    "image: profile.jpg\n",
    "about:\n",
    "  template: jolla\n",
    "  links:\n",
    "    - icon: twitter\n",
    "      text: Twitter\n",
    "      href: https://twitter.com/fastdotai\n",
    "    - icon: github\n",
    "      text: Github\n",
    "      href: https://github.com/fastai/apl-study\n",
    "\n",
    "---"
   ]
  },
  {
   "cell_type": "markdown",
   "id": "14bffccd",
   "metadata": {},
   "source": [
    "# About this blog\n",
    "\n",
    "This blog is a work in progress to document and share learning that the Fastai APL Study Group has as they learn Dyalog APL.  If you are interested, join us! \n",
    "\n",
    "Check out [the forum](https://forums.fast.ai/t/apl-array-programming/97188) for meeting time and resources!"
   ]
  },
  {
   "cell_type": "code",
   "execution_count": null,
   "id": "431a64ca",
   "metadata": {},
   "outputs": [],
   "source": []
  }
 ],
 "metadata": {
  "kernelspec": {
   "display_name": "Dyalog APL",
   "language": "apl",
   "name": "dyalog-kernel"
  },
  "language_info": {
   "file_extension": ".apl",
   "mimetype": "text/apl",
   "name": "APL"
  },
  "toc": {
   "base_numbering": 1,
   "nav_menu": {},
   "number_sections": true,
   "sideBar": true,
   "skip_h1_title": false,
   "title_cell": "Table of Contents",
   "title_sidebar": "Contents",
   "toc_cell": false,
   "toc_position": {},
   "toc_section_display": true,
   "toc_window_display": false
  }
 },
 "nbformat": 4,
 "nbformat_minor": 5
}
