{
 "cells": [
  {
   "cell_type": "raw",
   "id": "20b9bbfc-97c9-444a-a8c5-ce2ab23e80bb",
   "metadata": {},
   "source": [
    "---\n",
    "title: \"Knapsack II\"\n",
    "author: \"Felix Flath\"\n",
    "date: \"2022-08-06\"\n",
    "categories: [Dyalog, APL]\n",
    "image: \"image.jpg\"\n",
    "---"
   ]
  },
  {
   "cell_type": "markdown",
   "id": "8371004f-601b-4899-9917-5f055c68f413",
   "metadata": {},
   "source": [
    "# Intro\n",
    "\n",
    "In the previous knapsack post we showed a basic branch and bound approach to solving the knapsack problem. This is a notebook of experiments on different ways to improve the performance ."
   ]
  },
  {
   "cell_type": "code",
   "execution_count": 250,
   "id": "e2fd29ef-3d8c-4e07-b70e-772fefc0afe2",
   "metadata": {},
   "outputs": [
    {
     "data": {
      "text/html": [
       "<span style=\"white-space:pre; font-family: monospace\">┌→────────────────┐\n",
       "│Was ON -style=max│\n",
       "└─────────────────┘\n",
       "</span>"
      ]
     },
     "execution_count": 250,
     "metadata": {},
     "output_type": "execute_result"
    },
    {
     "data": {
      "text/html": [
       "<span style=\"white-space:pre; font-family: monospace\">┌→─────┐\n",
       "│Was ON│\n",
       "└──────┘\n",
       "</span>"
      ]
     },
     "execution_count": 250,
     "metadata": {},
     "output_type": "execute_result"
    }
   ],
   "source": [
    "⍝| echo: false\n",
    "⍝| output: false\n",
    "]box on -style=max\n",
    "]rows on\n",
    "⎕io←0"
   ]
  },
  {
   "cell_type": "markdown",
   "id": "27343c14-07f2-43c6-a270-3c5d79cc742a",
   "metadata": {},
   "source": [
    "## Functions\n",
    "\n",
    "See the previous knapsack post for what these are and how they fit."
   ]
  },
  {
   "cell_type": "code",
   "execution_count": 39,
   "id": "7014bd2e-81ed-43e1-b28a-2ff028de9302",
   "metadata": {},
   "outputs": [],
   "source": [
    "branch←{⍪,((,/,∘0),(,/,∘1))⍤1⊢⍵}"
   ]
  },
  {
   "cell_type": "code",
   "execution_count": 40,
   "id": "c6fecdb9-7e32-41a0-9440-c59316ab114d",
   "metadata": {},
   "outputs": [],
   "source": [
    "]dinput\n",
    "weight←{\n",
    "    c mw is←⍺           ⍝ split the right argument into components count, max weight, and items\n",
    "    vs ws←↓⍉↑is         ⍝ extract a list of values and a list of weights from the item lis\n",
    "    psolution←c↑⍵       ⍝ pad the partial solution with 0s to the lenght of the item list\n",
    "    +/ws∧psolution      ⍝ use the partial solution as a mask to select the weights of the items we take and sum them\n",
    "}"
   ]
  },
  {
   "cell_type": "code",
   "execution_count": 41,
   "id": "41d699e5-fef9-4c59-9f00-e69859e66507",
   "metadata": {},
   "outputs": [],
   "source": [
    "]dinput\n",
    "value←{\n",
    "    c mw is←⍺\n",
    "    mw≤⍺ weight ⍵ :0 ⍝ if the weight is more than the capacity the value is 0\n",
    "    vs ws←↓⍉↑is\n",
    "    psolution←c↑⍵\n",
    "    +/vs∧psolution\n",
    "}"
   ]
  },
  {
   "cell_type": "code",
   "execution_count": 42,
   "id": "a19a2318-a40a-4a58-9978-10d051ee6d33",
   "metadata": {},
   "outputs": [],
   "source": [
    "]dinput\n",
    "greedy←{\n",
    " c mw is←⍺\n",
    " cw←⍺ weight ⍵\n",
    " c ≤ ⍴⍵: ⍺ value ⍵ ⍝ stop if we have looked at all items\n",
    " mw=cw: ⍺ value ⍵  ⍝ stop if knapsack is full\n",
    " mw<cw: 0          ⍝ stop if knapsack is overfull\n",
    " v w←⊃is↓⍨⍴⍵       ⍝ drop items that have already been considered\n",
    " ⍺∇⍵,w≤mw-cw       ⍝ recurse with an additional item considered\n",
    "}"
   ]
  },
  {
   "cell_type": "code",
   "execution_count": 43,
   "id": "8e088365-dc75-4661-944c-116cb1cfaccd",
   "metadata": {},
   "outputs": [],
   "source": [
    "]dinput\n",
    "optimistic←{\n",
    "     c mw is←⍺\n",
    "\n",
    "     vs ws←↓⍉↑is\n",
    "\n",
    "     cv ← ⍺ value ⍵\n",
    "     cw ← ⍺ weight ⍵\n",
    "\n",
    "     vs ws←↓⍉↑is↓⍨⍴⍵                     ⍝ drop the items already decided\n",
    "     cw>mw:0                             ⍝ if the weight already exceeds max capacity return 0\n",
    "     d←(⍴⍵)↓÷⌿⍤1⊢↑is                     ⍝ density\n",
    "     cv++/d×ws⌊0⌈¯1↓(mw-cw),(mw-cw)-+\\ws ⍝ current value plus optimistic guess for remainder\n",
    "\n",
    " }"
   ]
  },
  {
   "cell_type": "code",
   "execution_count": 44,
   "id": "362dbf4f-428f-4937-8fee-854a8524cccd",
   "metadata": {},
   "outputs": [],
   "source": [
    "]dinput\n",
    "bound←{\n",
    "     best ks←⍺\n",
    "     ⍵⌿⍨best≤ks∘optimistic∘⊃⍤1⊢⍵    ⍝ filter branches where the best solution is less than the optimistic solution \n",
    " }"
   ]
  },
  {
   "cell_type": "code",
   "execution_count": 45,
   "id": "9f3f25b2-1b65-4512-854e-009a0741184b",
   "metadata": {},
   "outputs": [],
   "source": [
    "]dinput\n",
    "read_ks←{\n",
    "     temp←↓⍎⍤1⊢↑⊃⎕NGET ⍵ 1\n",
    "     count max_weight←⊃temp\n",
    "     items←1↓temp\n",
    "     items←items⌷⍨⊂⍒÷⌿⍤1⊢↑items\n",
    "     count max_weight items\n",
    " }"
   ]
  },
  {
   "cell_type": "code",
   "execution_count": 46,
   "id": "6bd0b8d8-0ee7-456a-aead-79e17b196a9e",
   "metadata": {},
   "outputs": [],
   "source": [
    "]dinput\n",
    "solver1←{\n",
    "     c mw is←⍵\n",
    "     g←⍵ greedy ⍬\n",
    "     s←g ⍵∘bound∘branch⍣c⊢⍬\n",
    "     ⊃(,s)⌷⍨⊂⍒⍵∘value∘⊃⍤1⊢s\n",
    "}"
   ]
  },
  {
   "cell_type": "markdown",
   "id": "08dc608a-3edc-44e6-af14-9cfb6a1a3780",
   "metadata": {},
   "source": [
    "# Baseline\n",
    "\n",
    "First lets make it easy to run experiments"
   ]
  },
  {
   "cell_type": "code",
   "execution_count": 49,
   "id": "7c82be03-7526-455e-9e1d-f55bac869745",
   "metadata": {},
   "outputs": [],
   "source": [
    "'time' ⎕cy 'dfns'"
   ]
  },
  {
   "cell_type": "code",
   "execution_count": 73,
   "id": "eab78339-8461-4615-8664-bc97fe5ede1d",
   "metadata": {},
   "outputs": [],
   "source": [
    "]dinput\n",
    "experiment←{\n",
    "    knapsack←read_ks ⍵\n",
    "    s←⍺⍺ time knapsack\n",
    "    (knapsack value s) (knapsack weight s)\n",
    "}"
   ]
  },
  {
   "cell_type": "code",
   "execution_count": 75,
   "id": "4f207542-669b-44a1-adaa-63eee2c18622",
   "metadata": {},
   "outputs": [
    {
     "data": {
      "text/html": [
       "<span style=\"white-space:pre; font-family: monospace\">┌→───────┐\n",
       "│25:06.61│\n",
       "└────────┘\n",
       "┌→───────────┐\n",
       "│109899 99999│\n",
       "└~───────────┘\n",
       "</span>"
      ]
     },
     "execution_count": 75,
     "metadata": {},
     "output_type": "execute_result"
    }
   ],
   "source": [
    "solver1 experiment 'ks_1000_0'"
   ]
  },
  {
   "cell_type": "markdown",
   "id": "0defdeb0-be69-4e27-b82b-6d35b8126a33",
   "metadata": {},
   "source": [
    "25 minutes for these particular 1000 items"
   ]
  },
  {
   "cell_type": "markdown",
   "id": "f6250aff-31e8-4abe-95d6-cde422c2a6cc",
   "metadata": {},
   "source": [
    "# Experiments"
   ]
  },
  {
   "cell_type": "markdown",
   "id": "76abb43e-2bc1-4e8d-917d-1115b6087876",
   "metadata": {},
   "source": [
    "## Bound\n",
    "\n",
    "One of the issues is the how we prune branches. If we have too low of a value it doesn't prune very many branches. The current solver only uses the greedy value and we never update this. \n",
    "\n",
    "The way things currently work is we branch, we calculate the optimistic values and we compare. What if we branch, calculate the optimistic values, take the 5 highest value branches and use those as the starting point for our greedy algorithm. We take the highest value between those and use that to prune our branches."
   ]
  },
  {
   "cell_type": "code",
   "execution_count": 227,
   "id": "103d66da-3254-46ea-b957-dbcb086edf53",
   "metadata": {},
   "outputs": [],
   "source": [
    "]dinput\n",
    "solver2_←{\n",
    "    ks←⍺\n",
    "    c mw is←ks\n",
    "    branches←{⍵⌷⍨∘⊂∘⍒ ks∘optimistic∘⊃⍤1⊢⍵} branch ⍵\n",
    "    best←⌈/ks∘greedy∘⊃⍤1⊢5↑branches\n",
    "    ret←branches⌿⍨best≤ks∘optimistic∘⊃⍤1⊢branches\n",
    "    ret\n",
    "}"
   ]
  },
  {
   "cell_type": "code",
   "execution_count": 246,
   "id": "8a7f9912-371c-45d6-bb9d-c7716389f50f",
   "metadata": {},
   "outputs": [],
   "source": [
    "]dinput\n",
    "solver2←{\n",
    "    c mw is←⍵\n",
    "    ss←⍵∘solver2_⍣(c-1)⊢ branch⍣2⊢⍬\n",
    "    ⊃ss\n",
    "}"
   ]
  },
  {
   "cell_type": "code",
   "execution_count": 239,
   "id": "0881d72e-eb47-4c0c-8cab-1929e40ae5be",
   "metadata": {},
   "outputs": [
    {
     "data": {
      "text/html": [
       "<span style=\"white-space:pre; font-family: monospace\">┌→──────────┐\n",
       "│12248 30996│\n",
       "└~──────────┘\n",
       "</span>"
      ]
     },
     "execution_count": 239,
     "metadata": {},
     "output_type": "execute_result"
    }
   ],
   "source": [
    "solver2 ks19"
   ]
  },
  {
   "cell_type": "code",
   "execution_count": 247,
   "id": "5c5e9a09-cad1-4b7e-8c54-6aa8f127120a",
   "metadata": {},
   "outputs": [
    {
     "data": {
      "text/html": [
       "<span style=\"white-space:pre; font-family: monospace\">┌→────┐\n",
       "│31.96│\n",
       "└─────┘\n",
       "┌→───────────┐\n",
       "│109899 99999│\n",
       "└~───────────┘\n",
       "</span>"
      ]
     },
     "execution_count": 247,
     "metadata": {},
     "output_type": "execute_result"
    }
   ],
   "source": [
    "solver2 experiment 'ks_1000_0'"
   ]
  },
  {
   "cell_type": "markdown",
   "id": "2ba421d5-544a-4c63-8901-652394050310",
   "metadata": {},
   "source": [
    "Huge success. We went from 25 minutes to 32 seconds."
   ]
  }
 ],
 "metadata": {
  "kernelspec": {
   "display_name": "Dyalog APL",
   "language": "apl",
   "name": "dyalog-kernel"
  },
  "language_info": {
   "file_extension": ".apl",
   "mimetype": "text/apl",
   "name": "APL"
  }
 },
 "nbformat": 4,
 "nbformat_minor": 5
}
