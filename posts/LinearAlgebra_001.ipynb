{
 "cells": [
  {
   "cell_type": "raw",
   "metadata": {},
   "source": [
    "---\n",
    "title: \"Linear Algebra\"\n",
    "author: \"Isaac Flath\"\n",
    "date: \"2022-07-10\"\n",
    "categories: [Dyalog, APL, Linear Algebra]\n",
    "image: \"image.jpg\"\n",
    "---"
   ]
  },
  {
   "cell_type": "markdown",
   "metadata": {},
   "source": [
    "# Introduction\n",
    "\n",
    "I am working through a couple of linear algebra books/courses as I write this.  All content in here will be heavily inspired by those resources:\n",
    "\n",
    "+ Gilbert Strang. 18.06 Linear Algebra. Spring 2010. Massachusetts Institute of Technology: MIT OpenCourseWare, https://ocw.mit.edu. License: Creative Commons BY-NC-SA.\n",
    "+ Applied Linear Algebra with A. P. L. by Garry Helzer (Author)\n",
    "\n",
    "\n",
    "**I have 2 main goals:**\n",
    "+ Learn Dyalog APL:  APL works very differently than other languages I have done.  By learning it I will learn another way of thinking and approaching problems.  By having more ways to think and approach problems I become smarter.  I want to be smarter.\n",
    "+ Improve my mathematical foundation\n",
    "\n",
    "To do this I plan to go through math material and courses in Dyalog APL.  In the beginning I will be reviewing basic math while learning APL, but eventually I will get to content where I am both learning APL and math at the same time.  This is where I will document what I do.\n",
    "\n",
    "**Where to learn APL**\n",
    "\n",
    "Check out the [fastai apl study group](https://forums.fast.ai/t/apl-array-programming/97188), accompanying [videos](https://www.youtube.com/playlist?list=PLfYUBJiXbdtSgU6S_3l6pX-4hQYKNJZFU), and [anki decks](https://github.com/Isaac-Flath/anki/) if you want to learn APL ."
   ]
  },
  {
   "cell_type": "markdown",
   "metadata": {},
   "source": [
    "# Matrix Multiplication\n",
    "\n",
    "Let's start with 2 matrices and multiply them together.  First, we define the matrices."
   ]
  },
  {
   "cell_type": "code",
   "execution_count": 25,
   "metadata": {},
   "outputs": [
    {
     "data": {
      "text/html": [
       "<span style=\"white-space:pre; font-family: monospace\">┌→────────────────┐\n",
       "│Was ON -style=max│\n",
       "└─────────────────┘\n",
       "</span>"
      ]
     },
     "execution_count": 25,
     "metadata": {},
     "output_type": "execute_result"
    }
   ],
   "source": [
    "⍝| echo: false\n",
    "]box on -style=max"
   ]
  },
  {
   "cell_type": "code",
   "execution_count": 26,
   "metadata": {
    "scrolled": true
   },
   "outputs": [
    {
     "data": {
      "text/html": [
       "<span style=\"white-space:pre; font-family: monospace\">┌→──┐\n",
       "↓2 5│\n",
       "│1 3│\n",
       "└~──┘\n",
       "</span>"
      ]
     },
     "execution_count": 26,
     "metadata": {},
     "output_type": "execute_result"
    },
    {
     "data": {
      "text/html": [
       "<span style=\"white-space:pre; font-family: monospace\">┌→┐\n",
       "↓1│\n",
       "│2│\n",
       "└~┘\n",
       "</span>"
      ]
     },
     "execution_count": 26,
     "metadata": {},
     "output_type": "execute_result"
    }
   ],
   "source": [
    "⎕ ← a1 ← 2 2 ⍴ 2 5 1 3\n",
    "⎕ ← a2 ← 2 1 ⍴ 1 2"
   ]
  },
  {
   "cell_type": "markdown",
   "metadata": {},
   "source": [
    "We take the rows of `⍺2` times the columns of `⍺1` to do a linear combination to do matrix multiplication.\n",
    "\n",
    "$1\\begin{bmatrix}2\\\\1\\end{bmatrix} + 2\\begin{bmatrix}5\\\\3\\end{bmatrix}$\n",
    "\n",
    "We can do this exactly in APL and see our answer."
   ]
  },
  {
   "cell_type": "code",
   "execution_count": 68,
   "metadata": {},
   "outputs": [
    {
     "data": {
      "text/html": [
       "<span style=\"white-space:pre; font-family: monospace\">┌→───┐\n",
       "│12 7│\n",
       "└~───┘\n",
       "</span>"
      ]
     },
     "execution_count": 68,
     "metadata": {},
     "output_type": "execute_result"
    }
   ],
   "source": [
    "⎕ ← (col1 ← a1[;1] × a2[1;]) + (col2 ← a1[;2] × a2[2;])"
   ]
  },
  {
   "cell_type": "markdown",
   "metadata": {},
   "source": [
    "in APL we would normally not write is all out but would write it using the dot (`.`) function.  Let's figure out what that is and how it works.\n",
    "\n",
    "The `.` applies the operators the surround it (`⍺` and `⍵`) in a specific way and order called an inner product.  \n",
    "\n",
    "In our matrix multiplication problem it looks like this.  $\\begin{bmatrix}(1⍵2)⍺(2⍵5)\\\\(1⍵1)⍺(2⍵3)\\end{bmatrix}$\n",
    "\n",
    "Let's walk through this in our matrix multiplication example above one operator at a time to understand it a bit better"
   ]
  },
  {
   "cell_type": "markdown",
   "metadata": {},
   "source": [
    "\n",
    "**Step 1: Apply the `⍵` argument**\n",
    "\n",
    "I like to visualize the first step like this:\n",
    "\n",
    "$\\begin{bmatrix}⍵&&1\\\\&⍵&2\\\\2&5&\\end{bmatrix}$\n",
    "$\\begin{bmatrix}⍵&&1\\\\&⍵&2\\\\1&3&\\end{bmatrix}$\n",
    "\n",
    "\n",
    "We first apply whatever the `⍵` parameter is and combine elements.  Just as we did above manually we need to do multiplication here so we know the `⍵` parameter must be `×`.  These calculation are:\n",
    "\n",
    "*Matrix 1:*\n",
    "+ $1 × 2 = 2$\n",
    "+ $2 × 5 = 10$\n",
    "\n",
    "*Matrix 2:*\n",
    "+ $1 × 1 = 1$\n",
    "+ $2 × 3 = 6$\n",
    "\n",
    "So far we have `⍺.×`.  We can show the result of our calculations above in matrices.\n",
    "\n",
    "$\\begin{bmatrix}2&⍺\\\\&10\\end{bmatrix}$\n",
    "$\\begin{bmatrix}1&⍺\\\\&6\\end{bmatrix}$\n",
    "\n",
    "**Step 2: Apply the ⍺ argument**\n",
    "\n",
    "The next thing the `.` operator does is combine all the numbers in each of step 1 resulting matrices using `⍺`.  To get the linear combination we did above we need to add the numbers in each matrix, so the `⍺` operator must be `+`.\n",
    "\n",
    "\n",
    "\n",
    "If we do that addition:\n",
    "+ Matrix 1: 2 + 10 = 12 \n",
    "+ Matrix 2: 1 + 6 = 7\n",
    "\n",
    "Leaving us with our answer of $\\begin{bmatrix}12\\\\7\\end{bmatrix}$\n",
    "\n",
    "So to do matrix multiplication we simply need to use:"
   ]
  },
  {
   "cell_type": "code",
   "execution_count": 67,
   "metadata": {},
   "outputs": [
    {
     "data": {
      "text/html": [
       "<span style=\"white-space:pre; font-family: monospace\">┌→─┐\n",
       "↓12│\n",
       "│ 7│\n",
       "└~─┘\n",
       "</span>"
      ]
     },
     "execution_count": 67,
     "metadata": {},
     "output_type": "execute_result"
    }
   ],
   "source": [
    "a1 +.× a2"
   ]
  },
  {
   "cell_type": "markdown",
   "metadata": {},
   "source": [
    "> Note:  This is just 1 example of using the `.` operator.  We used `+` as `⍺` and `×` as `⍵` to fit what we needed for this problem but we can use any number of other operators to do different things.  We will cover some of those different things later on."
   ]
  },
  {
   "cell_type": "markdown",
   "metadata": {},
   "source": [
    "Now that we understand that, we can flip our operators and look at `×.+` instead of `+.×`. We can also do any number of other operators to do lots of different matrix operations.  Take a look at the examples below and try calculating them by hand to see what you get!"
   ]
  },
  {
   "cell_type": "code",
   "execution_count": 76,
   "metadata": {},
   "outputs": [
    {
     "data": {
      "text/html": [
       "<span style=\"white-space:pre; font-family: monospace\">┌→─┐\n",
       "↓12│\n",
       "│ 7│\n",
       "└~─┘\n",
       "</span>"
      ]
     },
     "execution_count": 76,
     "metadata": {},
     "output_type": "execute_result"
    }
   ],
   "source": [
    "⍝ using addition.multiplication (normal matrix multiplication) \n",
    "a1+.×a2 "
   ]
  },
  {
   "cell_type": "code",
   "execution_count": 77,
   "metadata": {},
   "outputs": [
    {
     "data": {
      "text/html": [
       "<span style=\"white-space:pre; font-family: monospace\">┌→─┐\n",
       "↓21│\n",
       "│10│\n",
       "└~─┘\n",
       "</span>"
      ]
     },
     "execution_count": 77,
     "metadata": {},
     "output_type": "execute_result"
    }
   ],
   "source": [
    "⍝ using multiplication.addition\n",
    "a1×.+a2 "
   ]
  },
  {
   "cell_type": "code",
   "execution_count": 78,
   "metadata": {},
   "outputs": [
    {
     "data": {
      "text/html": [
       "<span style=\"white-space:pre; font-family: monospace\">┌→┐\n",
       "↓2│\n",
       "│2│\n",
       "└~┘\n",
       "</span>"
      ]
     },
     "execution_count": 78,
     "metadata": {},
     "output_type": "execute_result"
    }
   ],
   "source": [
    "⍝ using max.min\n",
    "a1⌈.⌊a2"
   ]
  },
  {
   "cell_type": "code",
   "execution_count": 79,
   "metadata": {},
   "outputs": [
    {
     "data": {
      "text/html": [
       "<span style=\"white-space:pre; font-family: monospace\">┌→─┐\n",
       "↓¯4│\n",
       "│¯3│\n",
       "└~─┘\n",
       "</span>"
      ]
     },
     "execution_count": 79,
     "metadata": {},
     "output_type": "execute_result"
    }
   ],
   "source": [
    "⍝ using addition.subtraction\n",
    "a1-.+a2"
   ]
  },
  {
   "cell_type": "code",
   "execution_count": 80,
   "metadata": {},
   "outputs": [
    {
     "data": {
      "text/html": [
       "<span style=\"white-space:pre; font-family: monospace\">┌→──────────┐\n",
       "↓5.656854249│\n",
       "│1          │\n",
       "└~──────────┘\n",
       "</span>"
      ]
     },
     "execution_count": 80,
     "metadata": {},
     "output_type": "execute_result"
    }
   ],
   "source": [
    "⍝ using exponent.division\n",
    "a1*.÷a2"
   ]
  },
  {
   "cell_type": "code",
   "execution_count": 81,
   "metadata": {},
   "outputs": [
    {
     "data": {
      "text/html": [
       "<span style=\"white-space:pre; font-family: monospace\">┌→───────────┐\n",
       "↓1           │\n",
       "│0.6309297536│\n",
       "└~───────────┘\n",
       "</span>"
      ]
     },
     "execution_count": 81,
     "metadata": {},
     "output_type": "execute_result"
    }
   ],
   "source": [
    "⍝ using factorial.natural_log\n",
    "a1!.⍟a2"
   ]
  },
  {
   "cell_type": "code",
   "execution_count": null,
   "metadata": {},
   "outputs": [],
   "source": []
  }
 ],
 "metadata": {
  "kernelspec": {
   "display_name": "Dyalog APL",
   "language": "apl",
   "name": "dyalog-kernel"
  },
  "language_info": {
   "file_extension": ".apl",
   "mimetype": "text/apl",
   "name": "APL"
  },
  "toc": {
   "base_numbering": 1,
   "nav_menu": {},
   "number_sections": true,
   "sideBar": true,
   "skip_h1_title": false,
   "title_cell": "Table of Contents",
   "title_sidebar": "Contents",
   "toc_cell": false,
   "toc_position": {},
   "toc_section_display": true,
   "toc_window_display": false
  }
 },
 "nbformat": 4,
 "nbformat_minor": 4
}
