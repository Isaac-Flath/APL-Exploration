{
 "cells": [
  {
   "cell_type": "raw",
   "id": "443773d8",
   "metadata": {},
   "source": [
    "---\n",
    "title: \"One Max\"\n",
    "author: \"Felix Flath\"\n",
    "date: \"2022-07-09\"\n",
    "categories: [Dyalog, APL]\n",
    "image: \"GeneticAlgorithm1.png\"\n",
    "---"
   ]
  },
  {
   "cell_type": "markdown",
   "id": "3f7ab074",
   "metadata": {},
   "source": [
    "# One Max\n",
    "\n",
    "The one max problem is a starter problem for genetic algorithms. The optimization goal is to maximize the number of ones in a list. It is simple but contains all the components you need for genetic algorithms.\n",
    "\n",
    "In a nutshell you\n",
    "\n",
    "1) Generate a randomized initial population\n",
    "2) Sort the population by fitness\n",
    "3) Group the population into parents\n",
    "4) Generate children from parent pairs\n",
    "5) Repeat from step 2 until optimization goal is met"
   ]
  },
  {
   "cell_type": "markdown",
   "id": "27bfcaba-5c0f-4f58-9f40-23070ff792d9",
   "metadata": {},
   "source": [
    "## APL Setup"
   ]
  },
  {
   "cell_type": "code",
   "execution_count": 218,
   "id": "2e404a29",
   "metadata": {},
   "outputs": [
    {
     "data": {
      "text/html": [
       "<span style=\"white-space:pre; font-family: monospace\">┌→────────────────┐\n",
       "│Was ON -style=max│\n",
       "└─────────────────┘\n",
       "</span>"
      ]
     },
     "execution_count": 218,
     "metadata": {},
     "output_type": "execute_result"
    },
    {
     "data": {
      "text/html": [
       "<span style=\"white-space:pre; font-family: monospace\">┌→─────┐\n",
       "│Was ON│\n",
       "└──────┘\n",
       "</span>"
      ]
     },
     "execution_count": 218,
     "metadata": {},
     "output_type": "execute_result"
    }
   ],
   "source": [
    "⍝| echo: false\n",
    "⍝| output: false\n",
    "]box on -style=max\n",
    "]rows on"
   ]
  },
  {
   "cell_type": "markdown",
   "id": "b8adf452-68c3-4b42-b926-77c7fbf47756",
   "metadata": {},
   "source": [
    "## Initial Population"
   ]
  },
  {
   "cell_type": "markdown",
   "id": "c433dfc3-4dd5-4928-a139-ea7854438304",
   "metadata": {},
   "source": [
    "Each member of the population is a list. Each element in the lists are a 1 or 0. The apl operator ? is called roll and rolls a die up to the given number."
   ]
  },
  {
   "cell_type": "code",
   "execution_count": 219,
   "id": "fced4349-8145-48ac-bbea-ed97989893a0",
   "metadata": {},
   "outputs": [
    {
     "data": {
      "text/html": [
       "<span style=\"white-space:pre; font-family: monospace\"> \n",
       "2\n",
       " \n",
       "</span>"
      ]
     },
     "execution_count": 219,
     "metadata": {},
     "output_type": "execute_result"
    }
   ],
   "source": [
    "? 2"
   ]
  },
  {
   "cell_type": "markdown",
   "id": "fc086063-c495-4adb-81db-1040ac42db82",
   "metadata": {},
   "source": [
    "Because APL is 1 indexed we get a 1 or a 2. To generate a list of 1s or 2s we roll against a vector."
   ]
  },
  {
   "cell_type": "code",
   "execution_count": 220,
   "id": "0fbb2fbd-3248-4e4d-9453-727506a7ab08",
   "metadata": {},
   "outputs": [
    {
     "data": {
      "text/html": [
       "<span style=\"white-space:pre; font-family: monospace\">┌→────────────────┐\n",
       "│2 2 2 1 2 2 1 1 2│\n",
       "└~────────────────┘\n",
       "</span>"
      ]
     },
     "execution_count": 220,
     "metadata": {},
     "output_type": "execute_result"
    }
   ],
   "source": [
    "? 2 2 2 2 2 2 2 2 2"
   ]
  },
  {
   "cell_type": "markdown",
   "id": "1bdc0f88-9434-4c94-a34b-70db81982e85",
   "metadata": {},
   "source": [
    "We can use ⍴ to create a list of the correct size"
   ]
  },
  {
   "cell_type": "code",
   "execution_count": 221,
   "id": "e7cf4573-0979-434a-adbb-60421e6a1e72",
   "metadata": {},
   "outputs": [
    {
     "data": {
      "text/html": [
       "<span style=\"white-space:pre; font-family: monospace\">┌→──────────────────┐\n",
       "│2 2 2 2 2 2 1 2 2 1│\n",
       "└~──────────────────┘\n",
       "</span>"
      ]
     },
     "execution_count": 221,
     "metadata": {},
     "output_type": "execute_result"
    }
   ],
   "source": [
    "?10⍴2"
   ]
  },
  {
   "cell_type": "markdown",
   "id": "423ba996-03f7-432b-9398-fa226ab36a0a",
   "metadata": {},
   "source": [
    "We can use extend this to generate the entire population of p0"
   ]
  },
  {
   "cell_type": "code",
   "execution_count": 222,
   "id": "ae5b918f-c2d5-44eb-9c20-679a26c71dff",
   "metadata": {},
   "outputs": [
    {
     "data": {
      "text/html": [
       "<span style=\"white-space:pre; font-family: monospace\">┌→──────────────────┐\n",
       "↓2 1 1 2 2 2 1 2 2 1│\n",
       "│1 2 2 1 2 1 1 2 2 1│\n",
       "│2 1 2 2 2 2 1 1 2 2│\n",
       "│1 1 1 2 1 2 2 2 1 2│\n",
       "│1 2 2 1 1 2 2 1 2 2│\n",
       "│1 1 1 2 2 2 2 2 2 1│\n",
       "│1 1 2 1 1 2 2 2 1 2│\n",
       "│1 1 1 1 1 1 1 1 2 2│\n",
       "│2 2 1 1 1 1 2 2 1 2│\n",
       "│1 2 1 2 1 1 1 1 2 2│\n",
       "└~──────────────────┘\n",
       "</span>"
      ]
     },
     "execution_count": 222,
     "metadata": {},
     "output_type": "execute_result"
    }
   ],
   "source": [
    "?10 10 ⍴ 2"
   ]
  },
  {
   "cell_type": "markdown",
   "id": "b82ebc3c-a57b-450d-8269-3bd69a7b0775",
   "metadata": {},
   "source": [
    "To get 1s and 0s we subtract one"
   ]
  },
  {
   "cell_type": "code",
   "execution_count": 223,
   "id": "aba0ecb7-a4d2-43cb-ac48-08ff32b510d8",
   "metadata": {},
   "outputs": [
    {
     "data": {
      "text/html": [
       "<span style=\"white-space:pre; font-family: monospace\">┌→──────────────────┐\n",
       "↓1 1 1 0 1 0 0 0 0 0│\n",
       "│1 0 0 0 1 0 0 0 1 0│\n",
       "│0 1 0 1 1 1 1 0 0 0│\n",
       "│0 0 0 1 0 1 1 0 0 0│\n",
       "│1 1 1 0 1 0 1 1 1 1│\n",
       "│1 1 0 1 0 0 0 1 1 1│\n",
       "│1 0 0 1 1 0 1 0 0 0│\n",
       "│0 1 1 1 0 1 1 0 1 1│\n",
       "│1 0 0 1 0 1 0 1 0 1│\n",
       "│0 0 1 1 1 0 1 1 0 0│\n",
       "└~──────────────────┘\n",
       "</span>"
      ]
     },
     "execution_count": 223,
     "metadata": {},
     "output_type": "execute_result"
    }
   ],
   "source": [
    "⎕←p0←1 -⍨ ?10 10 ⍴ 2"
   ]
  },
  {
   "cell_type": "markdown",
   "id": "471ec5af-054d-4b2a-9429-1c74e9a6378c",
   "metadata": {},
   "source": [
    "## Sort"
   ]
  },
  {
   "cell_type": "markdown",
   "id": "fa0504eb-81e2-4417-88c4-82e710b739df",
   "metadata": {},
   "source": [
    "To sort we need to identify a fitness function relevant to our optimization goal. We want to maximize the number of 1s in the list. Lets use the number of 1s in the list. "
   ]
  },
  {
   "cell_type": "code",
   "execution_count": 224,
   "id": "166ee08c-2992-4386-8a8d-4dd1fef04d31",
   "metadata": {},
   "outputs": [
    {
     "data": {
      "text/html": [
       "<span style=\"white-space:pre; font-family: monospace\">┌→──────────────────┐\n",
       "│4 3 5 3 8 6 4 7 5 5│\n",
       "└~──────────────────┘\n",
       "</span>"
      ]
     },
     "execution_count": 224,
     "metadata": {},
     "output_type": "execute_result"
    }
   ],
   "source": [
    "+/p0 ⍝ Sums across each row"
   ]
  },
  {
   "cell_type": "code",
   "execution_count": 225,
   "id": "f3caca5e-a3bf-46cc-a86b-53a7de385d37",
   "metadata": {},
   "outputs": [
    {
     "data": {
      "text/html": [
       "<span style=\"white-space:pre; font-family: monospace\">┌→───────────────────┐\n",
       "│5 8 6 3 9 10 1 7 2 4│\n",
       "└~───────────────────┘\n",
       "</span>"
      ]
     },
     "execution_count": 225,
     "metadata": {},
     "output_type": "execute_result"
    }
   ],
   "source": [
    "⍒+/p0 ⍝ Indices in decreasing order"
   ]
  },
  {
   "cell_type": "code",
   "execution_count": 226,
   "id": "81bc38ab-3e5a-48a6-8c98-198fef6726f8",
   "metadata": {},
   "outputs": [
    {
     "data": {
      "text/html": [
       "<span style=\"white-space:pre; font-family: monospace\">┌→──────────────────┐\n",
       "↓1 1 1 0 1 0 1 1 1 1│\n",
       "│0 1 1 1 0 1 1 0 1 1│\n",
       "│1 1 0 1 0 0 0 1 1 1│\n",
       "│0 1 0 1 1 1 1 0 0 0│\n",
       "│1 0 0 1 0 1 0 1 0 1│\n",
       "│0 0 1 1 1 0 1 1 0 0│\n",
       "│1 1 1 0 1 0 0 0 0 0│\n",
       "│1 0 0 1 1 0 1 0 0 0│\n",
       "│1 0 0 0 1 0 0 0 1 0│\n",
       "│0 0 0 1 0 1 1 0 0 0│\n",
       "└~──────────────────┘\n",
       "</span>"
      ]
     },
     "execution_count": 226,
     "metadata": {},
     "output_type": "execute_result"
    }
   ],
   "source": [
    "p0⌷⍨⊂⍒+/p0 ⍝ Use the indices to reorder p0"
   ]
  },
  {
   "cell_type": "code",
   "execution_count": 227,
   "id": "d1a45d16-7c8f-4b21-a263-e0e3d0c201c4",
   "metadata": {},
   "outputs": [],
   "source": [
    "sort←{⍵⌷⍨⊂⍒+/⍵}"
   ]
  },
  {
   "cell_type": "markdown",
   "id": "47217aa3-071a-4ae4-aac4-e144acf375c7",
   "metadata": {},
   "source": [
    "## Group into parents\n",
    "\n",
    "Once the population is sorted we group into parents. The two fittest members will be used to generate two children. Third and fourth will be grouped etc. APL has ⌺ the sliding window operator. \n"
   ]
  },
  {
   "cell_type": "code",
   "execution_count": 228,
   "id": "598f9806-832f-4127-9043-1b441b8da34c",
   "metadata": {},
   "outputs": [
    {
     "data": {
      "text/html": [
       "<span style=\"white-space:pre; font-family: monospace\">┌┌→──────────────────┐\n",
       "↓↓1 1 1 0 1 0 1 1 1 1│\n",
       "││0 1 1 1 0 1 1 0 1 1│\n",
       "││                   │\n",
       "││1 1 0 1 0 0 0 1 1 1│\n",
       "││0 1 0 1 1 1 1 0 0 0│\n",
       "││                   │\n",
       "││1 0 0 1 0 1 0 1 0 1│\n",
       "││0 0 1 1 1 0 1 1 0 0│\n",
       "││                   │\n",
       "││1 1 1 0 1 0 0 0 0 0│\n",
       "││1 0 0 1 1 0 1 0 0 0│\n",
       "││                   │\n",
       "││1 0 0 0 1 0 0 0 1 0│\n",
       "││0 0 0 1 0 1 1 0 0 0│\n",
       "└└~──────────────────┘\n",
       "</span>"
      ]
     },
     "execution_count": 228,
     "metadata": {},
     "output_type": "execute_result"
    }
   ],
   "source": [
    "⊢⌺(⍪2 2)⊢sort p0 ⍝ Window size of 2 and step size of 2"
   ]
  },
  {
   "cell_type": "code",
   "execution_count": 229,
   "id": "c3285d77-8f7e-466f-9a42-1b959a8add16",
   "metadata": {},
   "outputs": [],
   "source": [
    "group ← {⊢⌺(⍪2 2)⊢⍵}"
   ]
  },
  {
   "cell_type": "code",
   "execution_count": 230,
   "id": "daff5291-b262-42be-9aa2-0e3bae48027a",
   "metadata": {},
   "outputs": [
    {
     "data": {
      "text/html": [
       "<span style=\"white-space:pre; font-family: monospace\">┌┌→──────────────────┐\n",
       "↓↓1 1 1 0 1 0 1 1 1 1│\n",
       "││0 1 1 1 0 1 1 0 1 1│\n",
       "││                   │\n",
       "││1 1 0 1 0 0 0 1 1 1│\n",
       "││0 1 0 1 1 1 1 0 0 0│\n",
       "││                   │\n",
       "││1 0 0 1 0 1 0 1 0 1│\n",
       "││0 0 1 1 1 0 1 1 0 0│\n",
       "││                   │\n",
       "││1 1 1 0 1 0 0 0 0 0│\n",
       "││1 0 0 1 1 0 1 0 0 0│\n",
       "││                   │\n",
       "││1 0 0 0 1 0 0 0 1 0│\n",
       "││0 0 0 1 0 1 1 0 0 0│\n",
       "└└~──────────────────┘\n",
       "</span>"
      ]
     },
     "execution_count": 230,
     "metadata": {},
     "output_type": "execute_result"
    }
   ],
   "source": [
    "group sort p0"
   ]
  },
  {
   "cell_type": "markdown",
   "id": "5e54ca85-fe85-40aa-aa55-e22b788246b5",
   "metadata": {},
   "source": [
    "## Crossover\n",
    "\n",
    "This is a function that generates children from parents. This problem generally takes a pair of parents. Splits them at the same point (a different point for different pairs) and then swaps the tails.\n",
    "\n",
    "```\n",
    "[1,1,1,1]    [1,1,1] [1]    [1,1,1,2]\n",
    "          ->             ->\n",
    "[2,2,2,2]    [2,2,2] [2]    [2,2,2,1]\n",
    "```\n",
    "\n",
    "\n",
    "Do this for every pair of parents and you have your new population\n",
    "\n",
    "\n",
    "Instead of splitting we are going to use ⌽ the rotation operator. ⌽ wraps around.\n",
    "\n",
    "[1,1,1,1] [2,2,2,2] -> [1,1,1,1,2,2,2,2] -> [2,1,1,1,1,2,2,2] -> [2,1,1,1] [1,2,2,2]\n",
    "\n",
    "Probably close enough\n"
   ]
  },
  {
   "cell_type": "code",
   "execution_count": 231,
   "id": "0c315d6e-7eb1-46f7-84f4-78e071b92172",
   "metadata": {},
   "outputs": [
    {
     "data": {
      "text/html": [
       "<span style=\"white-space:pre; font-family: monospace\">┌→────────────────────────────────────────────┐\n",
       "↓ ┌→──────────────────┐ ┌→──────────────────┐ │\n",
       "│ │1 1 1 0 1 0 1 1 1 1│ │0 1 1 1 0 1 1 0 1 1│ │\n",
       "│ └~──────────────────┘ └~──────────────────┘ │\n",
       "│ ┌→──────────────────┐ ┌→──────────────────┐ │\n",
       "│ │1 1 0 1 0 0 0 1 1 1│ │0 1 0 1 1 1 1 0 0 0│ │\n",
       "│ └~──────────────────┘ └~──────────────────┘ │\n",
       "│ ┌→──────────────────┐ ┌→──────────────────┐ │\n",
       "│ │1 0 0 1 0 1 0 1 0 1│ │0 0 1 1 1 0 1 1 0 0│ │\n",
       "│ └~──────────────────┘ └~──────────────────┘ │\n",
       "│ ┌→──────────────────┐ ┌→──────────────────┐ │\n",
       "│ │1 1 1 0 1 0 0 0 0 0│ │1 0 0 1 1 0 1 0 0 0│ │\n",
       "│ └~──────────────────┘ └~──────────────────┘ │\n",
       "│ ┌→──────────────────┐ ┌→──────────────────┐ │\n",
       "│ │1 0 0 0 1 0 0 0 1 0│ │0 0 0 1 0 1 1 0 0 0│ │\n",
       "│ └~──────────────────┘ └~──────────────────┘ │\n",
       "└∊────────────────────────────────────────────┘\n",
       "</span>"
      ]
     },
     "execution_count": 231,
     "metadata": {},
     "output_type": "execute_result"
    }
   ],
   "source": [
    "↓⍤2⊢group sort p0 ⍝ reshape"
   ]
  },
  {
   "cell_type": "code",
   "execution_count": 232,
   "id": "801d8a5b-17ee-48d6-98a3-c8a692354db8",
   "metadata": {},
   "outputs": [
    {
     "data": {
      "text/html": [
       "<span style=\"white-space:pre; font-family: monospace\">┌→──────────────────────────────────────────────────────────────────────────────────────────────────────────────────────────────────────────────────────────────────────────────────────────────────────────────────┐\n",
       "│ ┌→──────────────────────────────────────┐ ┌→──────────────────────────────────────┐ ┌→──────────────────────────────────────┐ ┌→──────────────────────────────────────┐ ┌→──────────────────────────────────────┐ │\n",
       "│ │1 1 1 0 1 0 1 1 1 1 0 1 1 1 0 1 1 0 1 1│ │1 1 0 1 0 0 0 1 1 1 0 1 0 1 1 1 1 0 0 0│ │1 0 0 1 0 1 0 1 0 1 0 0 1 1 1 0 1 1 0 0│ │1 1 1 0 1 0 0 0 0 0 1 0 0 1 1 0 1 0 0 0│ │1 0 0 0 1 0 0 0 1 0 0 0 0 1 0 1 1 0 0 0│ │\n",
       "│ └~──────────────────────────────────────┘ └~──────────────────────────────────────┘ └~──────────────────────────────────────┘ └~──────────────────────────────────────┘ └~──────────────────────────────────────┘ │\n",
       "└∊──────────────────────────────────────────────────────────────────────────────────────────────────────────────────────────────────────────────────────────────────────────────────────────────────────────────────┘\n",
       "</span>"
      ]
     },
     "execution_count": 232,
     "metadata": {},
     "output_type": "execute_result"
    }
   ],
   "source": [
    ",/↓⍤2⊢group sort p0 ⍝ ravel each pair of parents together"
   ]
  },
  {
   "cell_type": "code",
   "execution_count": 233,
   "id": "6b24f3ff-5c6b-444e-b016-a12b954cfad2",
   "metadata": {},
   "outputs": [
    {
     "data": {
      "text/html": [
       "<span style=\"white-space:pre; font-family: monospace\">┌→──────────────────────────────────────────────────────────────────────────────────────────────────────────────┐\n",
       "│ ┌→──────────────────┐ ┌→──────────────────┐ ┌→──────────────────┐ ┌→──────────────────┐ ┌→──────────────────┐ │\n",
       "│ ↓1 1 0 1 0 1 1 1 1 0│ ↓1 1 0 1 0 1 1 1 1 0│ ↓1 0 0 1 1 1 0 1 1 0│ ↓0 1 0 0 0 0 0 1 0 0│ ↓1 0 0 0 1 0 0 0 0 1│ │\n",
       "│ │1 1 1 0 1 1 0 1 1 1│ │0 0 1 1 0 1 0 0 0 1│ │0 1 0 0 1 0 1 0 1 0│ │1 1 0 1 0 0 0 1 1 1│ │0 1 1 0 0 0 1 0 0 0│ │\n",
       "│ └~──────────────────┘ └~──────────────────┘ └~──────────────────┘ └~──────────────────┘ └~──────────────────┘ │\n",
       "└∊──────────────────────────────────────────────────────────────────────────────────────────────────────────────┘\n",
       "</span>"
      ]
     },
     "execution_count": 233,
     "metadata": {},
     "output_type": "execute_result"
    }
   ],
   "source": [
    "↑(?5⍴10) ,.(⊂2 10⍴⌽) ,/↓⍤2⊢group sort p0 ⍝ apply a different rotation to each pair of parents↑"
   ]
  },
  {
   "cell_type": "code",
   "execution_count": 234,
   "id": "ebec163b-e423-4192-b2bd-3ed179992062",
   "metadata": {},
   "outputs": [
    {
     "data": {
      "text/html": [
       "<span style=\"white-space:pre; font-family: monospace\">┌→──────────────────────────────────────────────────────────────────────────────────────────────────────────────┐\n",
       "│ ┌→──────────────────┐ ┌→──────────────────┐ ┌→──────────────────┐ ┌→──────────────────┐ ┌→──────────────────┐ │\n",
       "│ ↓1 1 1 0 1 1 1 0 1 1│ ↓0 0 1 1 1 0 1 0 1 1│ ↓0 0 1 0 1 0 1 0 1 0│ ↓1 1 0 1 0 0 0 0 0 1│ ↓0 1 0 0 0 1 0 0 0 0│ │\n",
       "│ │0 1 1 1 1 1 0 1 0 1│ │1 1 0 0 0 1 1 0 1 0│ │0 1 1 1 0 1 1 0 0 1│ │0 0 1 1 0 1 0 0 0 1│ │1 0 1 1 0 0 0 1 0 0│ │\n",
       "│ └~──────────────────┘ └~──────────────────┘ └~──────────────────┘ └~──────────────────┘ └~──────────────────┘ │\n",
       "└∊──────────────────────────────────────────────────────────────────────────────────────────────────────────────┘\n",
       "┌→──────────────────┐\n",
       "↓1 1 1 0 1 1 1 0 1 1│\n",
       "│0 1 1 1 1 1 0 1 0 1│\n",
       "│0 0 1 1 1 0 1 0 1 1│\n",
       "│1 1 0 0 0 1 1 0 1 0│\n",
       "│0 0 1 0 1 0 1 0 1 0│\n",
       "│0 1 1 1 0 1 1 0 0 1│\n",
       "│1 1 0 1 0 0 0 0 0 1│\n",
       "│0 0 1 1 0 1 0 0 0 1│\n",
       "│0 1 0 0 0 1 0 0 0 0│\n",
       "│1 0 1 1 0 0 0 1 0 0│\n",
       "└~──────────────────┘\n",
       "</span>"
      ]
     },
     "execution_count": 234,
     "metadata": {},
     "output_type": "execute_result"
    }
   ],
   "source": [
    "↑⍪/⎕←↑(?5⍴10) ,.(⊂2 10⍴⌽) ,/↓⍤2⊢group sort p0 ⍝ reshape into a new population"
   ]
  },
  {
   "cell_type": "code",
   "execution_count": 235,
   "id": "a82aa7d6-6d2e-4bb3-9543-91dd86af28eb",
   "metadata": {},
   "outputs": [],
   "source": [
    "crossover←{count len←⍺⋄↑⍪/↑(?count⍴len) ,.(⊂2 len⍴⌽) ,/↓⍤2⊢⍵}"
   ]
  },
  {
   "cell_type": "code",
   "execution_count": 236,
   "id": "9629e919-273d-4721-b15e-14ab6828ec43",
   "metadata": {},
   "outputs": [
    {
     "data": {
      "text/html": [
       "<span style=\"white-space:pre; font-family: monospace\">┌→──────────────────┐\n",
       "↓0 1 1 1 0 1 1 0 1 1│\n",
       "│1 1 1 0 1 0 1 1 1 1│\n",
       "│1 0 0 0 1 1 1 0 1 0│\n",
       "│1 1 1 1 0 0 0 1 1 0│\n",
       "│1 0 0 1 1 1 0 1 1 0│\n",
       "│0 1 0 0 1 0 1 0 1 0│\n",
       "│0 1 0 0 0 0 0 1 0 0│\n",
       "│1 1 0 1 0 0 0 1 1 1│\n",
       "│0 0 0 1 0 0 0 1 0 0│\n",
       "│0 0 1 0 1 1 0 0 0 1│\n",
       "└~──────────────────┘\n",
       "</span>"
      ]
     },
     "execution_count": 236,
     "metadata": {},
     "output_type": "execute_result"
    }
   ],
   "source": [
    "(5 10) crossover group sort p0"
   ]
  },
  {
   "cell_type": "markdown",
   "id": "7de72957-cb1a-4554-a8ae-ae5903a13547",
   "metadata": {},
   "source": [
    "## Repeat\n",
    "\n",
    "APL make this easy we use ⍣ to specify function repetition"
   ]
  },
  {
   "cell_type": "code",
   "execution_count": 237,
   "id": "66d8cd61-0e02-4c15-a587-5f31e3524c43",
   "metadata": {},
   "outputs": [
    {
     "data": {
      "text/html": [
       "<span style=\"white-space:pre; font-family: monospace\">┌→──────────────────┐\n",
       "↓1 1 1 1 1 1 1 1 1 1│\n",
       "│1 1 1 1 1 1 1 1 1 1│\n",
       "│1 1 1 1 1 1 1 1 1 1│\n",
       "│1 1 1 1 1 1 1 1 1 1│\n",
       "│1 1 1 1 1 1 1 1 1 1│\n",
       "│0 1 1 1 1 1 1 1 1 1│\n",
       "│1 1 1 1 1 0 1 1 1 1│\n",
       "│1 0 1 1 1 1 1 0 1 1│\n",
       "│1 1 1 1 1 0 1 0 1 1│\n",
       "│1 1 0 1 0 1 1 0 1 0│\n",
       "│1 1 1 0 0 1 1 0 0 1│\n",
       "│1 1 1 0 0 1 1 0 0 1│\n",
       "│1 0 0 0 0 1 0 1 0 0│\n",
       "│0 1 0 1 1 1 0 1 0 0│\n",
       "│0 0 0 0 1 0 0 0 1 0│\n",
       "│0 0 0 0 0 0 0 1 0 0│\n",
       "│0 1 0 0 0 0 0 0 0 0│\n",
       "│0 0 0 0 0 0 0 0 0 0│\n",
       "│0 0 0 0 0 0 0 0 0 0│\n",
       "│0 0 0 0 0 0 0 0 0 0│\n",
       "└~──────────────────┘\n",
       "</span>"
      ]
     },
     "execution_count": 237,
     "metadata": {},
     "output_type": "execute_result"
    }
   ],
   "source": [
    "{(10 10) crossover group sort ⍵} ⍣ 100 ⊢ 1 -⍨ ?20 10 ⍴ 2"
   ]
  }
 ],
 "metadata": {
  "kernelspec": {
   "display_name": "Dyalog APL",
   "language": "apl",
   "name": "dyalog-kernel"
  },
  "language_info": {
   "file_extension": ".apl",
   "mimetype": "text/apl",
   "name": "APL"
  },
  "toc": {
   "base_numbering": 1,
   "nav_menu": {},
   "number_sections": true,
   "sideBar": true,
   "skip_h1_title": false,
   "title_cell": "Table of Contents",
   "title_sidebar": "Contents",
   "toc_cell": false,
   "toc_position": {},
   "toc_section_display": true,
   "toc_window_display": false
  }
 },
 "nbformat": 4,
 "nbformat_minor": 5
}
