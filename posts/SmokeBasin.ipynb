{
 "cells": [
  {
   "cell_type": "raw",
   "id": "70867348-355f-4842-b24d-b19e087e57db",
   "metadata": {},
   "source": [
    "---\n",
    "title: \"Smoke Basin\"\n",
    "author: \"Felix Flath\"\n",
    "date: \"2022-07-12\"\n",
    "categories: [Dyalog, APL]\n",
    "image: \"GeneticAlgorithm1.png\"\n",
    "---"
   ]
  },
  {
   "cell_type": "code",
   "execution_count": 25,
   "id": "8ebcb689-a3fc-42a7-8c0c-e4533dacd3d5",
   "metadata": {},
   "outputs": [
    {
     "data": {
      "text/html": [
       "<span style=\"white-space:pre; font-family: monospace\">┌→────────────────┐\n",
       "│Was ON -style=min│\n",
       "└─────────────────┘\n",
       "</span>"
      ]
     },
     "execution_count": 25,
     "metadata": {},
     "output_type": "execute_result"
    },
    {
     "data": {
      "text/html": [
       "<span style=\"white-space:pre; font-family: monospace\">┌→─────┐\n",
       "│Was ON│\n",
       "└──────┘\n",
       "</span>"
      ]
     },
     "execution_count": 25,
     "metadata": {},
     "output_type": "execute_result"
    }
   ],
   "source": [
    "⍝| echo: false\n",
    "⍝| output: false\n",
    "]box on -style=max\n",
    "]rows on"
   ]
  },
  {
   "cell_type": "markdown",
   "id": "848bbfce-3da9-4309-8c42-e4361b3488c3",
   "metadata": {},
   "source": [
    "# Smoke Basin\n",
    "\n",
    "[This is problem 9 from 2021 advent of code.](https://adventofcode.com/2021/day/9) For those unfamiliar with advent of code it is a yearly programming puzzle contest. Each problem consists of two parts. \n",
    "\n",
    "In this problem you are given a grid of numbers. This represents a map. Each number corresponds to the height of the ground at that grid point. "
   ]
  },
  {
   "cell_type": "markdown",
   "id": "8c528d5a-9daa-406d-bf86-3ca1e7e0285a",
   "metadata": {},
   "source": [
    "## Part 1 \n",
    "\n",
    "Find all the low points in the grid add 1 to the value of each grid point and then sum those numbers. A low point is any point that is lower than any of its cardinal neighbors (up, down, left, right)."
   ]
  },
  {
   "cell_type": "code",
   "execution_count": 26,
   "id": "76402c6e-3f1b-48bf-b2ab-801bf18acd92",
   "metadata": {},
   "outputs": [
    {
     "data": {
      "text/html": [
       "<span style=\"white-space:pre; font-family: monospace\">┌→──────────────────┐\n",
       "↓2 1 9 9 9 4 3 2 1 0│\n",
       "│3 9 8 7 8 9 4 9 2 1│\n",
       "│9 8 5 6 7 8 9 8 9 2│\n",
       "│8 7 6 7 8 9 6 7 8 9│\n",
       "│9 8 9 9 9 6 5 6 7 8│\n",
       "└~──────────────────┘\n",
       "</span>"
      ]
     },
     "execution_count": 26,
     "metadata": {},
     "output_type": "execute_result"
    }
   ],
   "source": [
    "⎕←ex←↑(2 1 9 9 9 4 3 2 1 0) (3 9 8 7 8 9 4 9 2 1) (9 8 5 6 7 8 9 8 9 2) (8 7 6 7 8 9 6 7 8 9) (9 8 9 9 9 6 5 6 7 8)"
   ]
  },
  {
   "cell_type": "code",
   "execution_count": 79,
   "id": "d946f534-fcdc-44c3-9f73-77adc0ef2739",
   "metadata": {},
   "outputs": [
    {
     "data": {
      "text/html": [
       "<span style=\"white-space:pre; font-family: monospace\">┌→──────────────────────────────────┐\n",
       "↓10 10 10 10 10 10 10 10 10 10 10 10│\n",
       "│10  2  1  9  9  9  4  3  2  1  0 10│\n",
       "│10  3  9  8  7  8  9  4  9  2  1 10│\n",
       "│10  9  8  5  6  7  8  9  8  9  2 10│\n",
       "│10  8  7  6  7  8  9  6  7  8  9 10│\n",
       "│10  9  8  9  9  9  6  5  6  7  8 10│\n",
       "│10 10 10 10 10 10 10 10 10 10 10 10│\n",
       "└~──────────────────────────────────┘\n",
       "</span>"
      ]
     },
     "execution_count": 79,
     "metadata": {},
     "output_type": "execute_result"
    }
   ],
   "source": [
    "⎕←b←¯1 ⊖ ¯1 ⌽(7 12 ↑ ex)+10×0=(⍳⍴ex)∊⍨⍳7 12 ⍝ add borders to the map"
   ]
  },
  {
   "cell_type": "code",
   "execution_count": 96,
   "id": "7038766f-d0e2-4961-8a06-980277e37647",
   "metadata": {},
   "outputs": [
    {
     "data": {
      "text/html": [
       "<span style=\"white-space:pre; font-family: monospace\">┌→────────────────────────────────────────────────────────────────────────────────────────────────────────────────────────────────────────────────────────┐\n",
       "│ ┌→──────────────────────────────────┐ ┌→──────────────────────────────────┐ ┌→──────────────────────────────────┐ ┌→──────────────────────────────────┐ │\n",
       "│ ↓10  2  1  9  9  9  4  3  2  1  0 10│ ↓10 10 10 10 10 10 10 10 10 10 10 10│ ↓10 10 10 10 10 10 10 10 10 10 10 10│ ↓10 10 10 10 10 10 10 10 10 10 10 10│ │\n",
       "│ │10  3  9  8  7  8  9  4  9  2  1 10│ │10 10 10 10 10 10 10 10 10 10 10 10│ │ 2  1  9  9  9  4  3  2  1  0 10 10│ │10 10  2  1  9  9  9  4  3  2  1  0│ │\n",
       "│ │10  9  8  5  6  7  8  9  8  9  2 10│ │10  2  1  9  9  9  4  3  2  1  0 10│ │ 3  9  8  7  8  9  4  9  2  1 10 10│ │10 10  3  9  8  7  8  9  4  9  2  1│ │\n",
       "│ │10  8  7  6  7  8  9  6  7  8  9 10│ │10  3  9  8  7  8  9  4  9  2  1 10│ │ 9  8  5  6  7  8  9  8  9  2 10 10│ │10 10  9  8  5  6  7  8  9  8  9  2│ │\n",
       "│ │10  9  8  9  9  9  6  5  6  7  8 10│ │10  9  8  5  6  7  8  9  8  9  2 10│ │ 8  7  6  7  8  9  6  7  8  9 10 10│ │10 10  8  7  6  7  8  9  6  7  8  9│ │\n",
       "│ │10 10 10 10 10 10 10 10 10 10 10 10│ │10  8  7  6  7  8  9  6  7  8  9 10│ │ 9  8  9  9  9  6  5  6  7  8 10 10│ │10 10  9  8  9  9  9  6  5  6  7  8│ │\n",
       "│ │10 10 10 10 10 10 10 10 10 10 10 10│ │10  9  8  9  9  9  6  5  6  7  8 10│ │10 10 10 10 10 10 10 10 10 10 10 10│ │10 10 10 10 10 10 10 10 10 10 10 10│ │\n",
       "│ └~──────────────────────────────────┘ └~──────────────────────────────────┘ └~──────────────────────────────────┘ └~──────────────────────────────────┘ │\n",
       "└∊────────────────────────────────────────────────────────────────────────────────────────────────────────────────────────────────────────────────────────┘\n",
       "</span>"
      ]
     },
     "execution_count": 96,
     "metadata": {},
     "output_type": "execute_result"
    }
   ],
   "source": [
    "⍝ take the original bordered map and rotate it up down left right\n",
    "{(1 ¯1 ⊖¨⍵),(1 ¯1 ⌽¨⍵)} 2⍴⊂b"
   ]
  },
  {
   "cell_type": "code",
   "execution_count": 97,
   "id": "3174ce94-87af-4156-a49b-d1fcad56eefd",
   "metadata": {},
   "outputs": [
    {
     "data": {
      "text/html": [
       "<span style=\"white-space:pre; font-family: monospace\">┌→────────────────────────────────────────────────────────────────────────────────────────────────────────┐\n",
       "│ ┌→──────────────────────┐ ┌→──────────────────────┐ ┌→──────────────────────┐ ┌→──────────────────────┐ │\n",
       "│ ↓0 0 0 0 0 0 0 0 0 0 0 0│ ↓0 0 0 0 0 0 0 0 0 0 0 0│ ↓0 0 0 0 0 0 0 0 0 0 0 0│ ↓0 0 0 0 0 0 0 0 0 0 0 0│ │\n",
       "│ │0 1 1 0 0 0 1 1 1 1 1 0│ │0 1 1 1 1 1 1 1 1 1 1 0│ │0 0 1 0 0 0 0 0 0 0 1 0│ │0 1 1 0 0 0 1 1 1 1 1 0│ │\n",
       "│ │0 1 0 0 0 0 0 1 0 1 1 0│ │0 0 0 1 1 1 0 0 0 0 0 0│ │0 1 0 0 1 1 0 1 0 0 1 0│ │0 1 0 1 1 0 0 1 0 1 1 0│ │\n",
       "│ │0 0 0 1 1 1 1 0 0 0 1 0│ │0 0 1 1 1 1 1 0 1 0 0 0│ │0 0 0 1 1 1 1 0 1 0 1 0│ │0 1 1 1 0 0 0 0 1 0 1 0│ │\n",
       "│ │0 1 1 1 1 1 0 0 0 0 0 0│ │0 1 1 0 0 0 0 1 1 1 0 0│ │0 0 0 1 1 1 0 1 1 1 1 0│ │0 1 1 1 0 0 0 1 0 0 0 0│ │\n",
       "│ │0 1 1 1 1 1 1 1 1 1 1 0│ │0 0 0 0 0 0 1 1 1 1 1 0│ │0 0 1 0 0 0 0 1 1 1 1 0│ │0 1 1 0 0 0 1 1 0 0 0 0│ │\n",
       "│ │0 0 0 0 0 0 0 0 0 0 0 0│ │0 0 0 0 0 0 0 0 0 0 0 0│ │0 0 0 0 0 0 0 0 0 0 0 0│ │0 0 0 0 0 0 0 0 0 0 0 0│ │\n",
       "│ └~──────────────────────┘ └~──────────────────────┘ └~──────────────────────┘ └~──────────────────────┘ │\n",
       "└∊────────────────────────────────────────────────────────────────────────────────────────────────────────┘\n",
       "</span>"
      ]
     },
     "execution_count": 97,
     "metadata": {},
     "output_type": "execute_result"
    }
   ],
   "source": [
    "⍝ compare all the rotations with the original\n",
    "(⊂b)<{(1 ¯1 ⊖¨⍵),(1 ¯1 ⌽¨⍵)} 2⍴⊂b"
   ]
  },
  {
   "cell_type": "code",
   "execution_count": 101,
   "id": "8a2fcd98-396f-4461-af9a-6854a01ea0f6",
   "metadata": {},
   "outputs": [
    {
     "data": {
      "text/html": [
       "<span style=\"white-space:pre; font-family: monospace\">┌───────────────────────────┐\n",
       "│ ┌→──────────────────────┐ │\n",
       "│ ↓0 0 0 0 0 0 0 0 0 0 0 0│ │\n",
       "│ │0 3 4 1 1 1 3 3 3 3 4 0│ │\n",
       "│ │0 3 0 2 3 2 0 3 0 2 3 0│ │\n",
       "│ │0 1 2 4 3 3 3 0 3 0 3 0│ │\n",
       "│ │0 3 3 3 2 2 0 3 2 2 1 0│ │\n",
       "│ │0 2 3 1 1 1 3 4 3 3 3 0│ │\n",
       "│ │0 0 0 0 0 0 0 0 0 0 0 0│ │\n",
       "│ └~──────────────────────┘ │\n",
       "└∊──────────────────────────┘\n",
       "</span>"
      ]
     },
     "execution_count": 101,
     "metadata": {},
     "output_type": "execute_result"
    }
   ],
   "source": [
    "⍝ sum up the comparison. Every 4 represents a low point. \n",
    "+/(⊂b)<{(1 ¯1 ⊖¨⍵),(1 ¯1 ⌽¨⍵)} 2⍴⊂b"
   ]
  },
  {
   "cell_type": "code",
   "execution_count": 103,
   "id": "679c612a-7bee-4ab9-b6f6-b766cf4d155d",
   "metadata": {},
   "outputs": [
    {
     "data": {
      "text/html": [
       "<span style=\"white-space:pre; font-family: monospace\">┌───────────────────────────┐\n",
       "│ ┌→──────────────────────┐ │\n",
       "│ ↓0 0 0 0 0 0 0 0 0 0 0 0│ │\n",
       "│ │0 0 1 0 0 0 0 0 0 0 1 0│ │\n",
       "│ │0 0 0 0 0 0 0 0 0 0 0 0│ │\n",
       "│ │0 0 0 1 0 0 0 0 0 0 0 0│ │\n",
       "│ │0 0 0 0 0 0 0 0 0 0 0 0│ │\n",
       "│ │0 0 0 0 0 0 0 1 0 0 0 0│ │\n",
       "│ │0 0 0 0 0 0 0 0 0 0 0 0│ │\n",
       "│ └~──────────────────────┘ │\n",
       "└∊──────────────────────────┘\n",
       "</span>"
      ]
     },
     "execution_count": 103,
     "metadata": {},
     "output_type": "execute_result"
    }
   ],
   "source": [
    "⍝ identify the low points\n",
    "4=+/(⊂b)<{(1 ¯1 ⊖¨⍵),(1 ¯1 ⌽¨⍵)} 2⍴⊂b"
   ]
  },
  {
   "cell_type": "code",
   "execution_count": 110,
   "id": "0cfb4cd0-108c-4146-a668-0004d16f12d7",
   "metadata": {},
   "outputs": [
    {
     "data": {
      "text/html": [
       "<span style=\"white-space:pre; font-family: monospace\">┌→──────────────────────────────────────────────────────────────────────────────────────────────────────────────────────────────────────────────────────────────────────┐\n",
       "│0 0 0 0 0 0 0 0 0 0 0 0 0 0 1 0 0 0 0 0 0 0 1 0 0 0 0 0 0 0 0 0 0 0 0 0 0 0 0 1 0 0 0 0 0 0 0 0 0 0 0 0 0 0 0 0 0 0 0 0 0 0 0 0 0 0 0 1 0 0 0 0 0 0 0 0 0 0 0 0 0 0 0 0│\n",
       "└~──────────────────────────────────────────────────────────────────────────────────────────────────────────────────────────────────────────────────────────────────────┘\n",
       "</span>"
      ]
     },
     "execution_count": 110,
     "metadata": {},
     "output_type": "execute_result"
    }
   ],
   "source": [
    "⍝ mask for the low points\n",
    "∊4=+/(⊂b)<{(1 ¯1 ⊖¨⍵),(1 ¯1 ⌽¨⍵)} 2⍴⊂b"
   ]
  },
  {
   "cell_type": "code",
   "execution_count": 112,
   "id": "98eee65d-8ac4-4770-8940-9152761ddbc8",
   "metadata": {},
   "outputs": [
    {
     "data": {
      "text/html": [
       "<span style=\"white-space:pre; font-family: monospace\">┌→──────┐\n",
       "│1 0 5 5│\n",
       "└~──────┘\n",
       "</span>"
      ]
     },
     "execution_count": 112,
     "metadata": {},
     "output_type": "execute_result"
    }
   ],
   "source": [
    "⍝ use the mask to pull the values out of the map\n",
    "(,b)/⍨∊4=+/(⊂b)<{(1 ¯1 ⊖¨⍵),(1 ¯1 ⌽¨⍵)} 2⍴⊂b"
   ]
  },
  {
   "cell_type": "code",
   "execution_count": 114,
   "id": "539d5e56-3f8f-4ea2-a560-5b9f40f50666",
   "metadata": {},
   "outputs": [
    {
     "data": {
      "text/html": [
       "<span style=\"white-space:pre; font-family: monospace\">┌→──────┐\n",
       "│2 1 6 6│\n",
       "└~──────┘\n",
       "</span>"
      ]
     },
     "execution_count": 114,
     "metadata": {},
     "output_type": "execute_result"
    }
   ],
   "source": [
    "⍝ add one to the values as per the problem statement\n",
    "1+(,b)/⍨∊4=+/(⊂b)<{(1 ¯1 ⊖¨⍵),(1 ¯1 ⌽¨⍵)} 2⍴⊂b"
   ]
  },
  {
   "cell_type": "code",
   "execution_count": 115,
   "id": "b2bcaf58-2521-4890-b55d-3d466318d26a",
   "metadata": {},
   "outputs": [
    {
     "data": {
      "text/html": [
       "<span style=\"white-space:pre; font-family: monospace\">  \n",
       "15\n",
       "  \n",
       "</span>"
      ]
     },
     "execution_count": 115,
     "metadata": {},
     "output_type": "execute_result"
    }
   ],
   "source": [
    "⍝ sum the risk values\n",
    "+/1+(,b)/⍨∊4=+/(⊂b)<{(1 ¯1 ⊖¨⍵),(1 ¯1 ⌽¨⍵)} 2⍴⊂b"
   ]
  },
  {
   "cell_type": "markdown",
   "id": "8c99da6d-65a7-47e4-b9cf-b55829f486c7",
   "metadata": {},
   "source": [
    "## Part 2\n",
    "\n",
    "Find the 3 largest basins and multiply their sizes together. A basin is a set of points that all flow down to the same low point. Locations of height 9 are borders and dont count as basins. "
   ]
  },
  {
   "cell_type": "code",
   "execution_count": 140,
   "id": "180d228c-b6ef-4411-b723-1dc4392878f0",
   "metadata": {},
   "outputs": [
    {
     "data": {
      "text/html": [
       "<span style=\"white-space:pre; font-family: monospace\">┌→──────────────────────┐\n",
       "↓0 0 0 0 0 0 0 0 0 0 0 0│\n",
       "│0 1 1 0 0 0 1 1 1 1 1 0│\n",
       "│0 1 0 1 1 1 0 1 0 1 1 0│\n",
       "│0 0 1 1 1 1 1 0 1 0 1 0│\n",
       "│0 1 1 1 1 1 0 1 1 1 0 0│\n",
       "│0 0 1 0 0 0 1 1 1 1 1 0│\n",
       "│0 0 0 0 0 0 0 0 0 0 0 0│\n",
       "└~──────────────────────┘\n",
       "</span>"
      ]
     },
     "execution_count": 140,
     "metadata": {},
     "output_type": "execute_result"
    }
   ],
   "source": [
    "⎕←mask←9≠¯1 ⊖ ¯1 ⌽(7 12 ↑ ex)+9×0=(⍳⍴ex)∊⍨⍳7 12 ⍝ everything not a wall"
   ]
  },
  {
   "cell_type": "markdown",
   "id": "75e8e5e2-02bb-4ba1-b95c-c7ce3570adb4",
   "metadata": {},
   "source": [
    "From part 1 we already know the low points"
   ]
  },
  {
   "cell_type": "code",
   "execution_count": 120,
   "id": "0c8dfe24-ec32-4f82-a627-fa786feb694a",
   "metadata": {},
   "outputs": [
    {
     "data": {
      "text/html": [
       "<span style=\"white-space:pre; font-family: monospace\">┌→──────────────────────┐\n",
       "↓0 0 0 0 0 0 0 0 0 0 0 0│\n",
       "│0 0 1 0 0 0 0 0 0 0 1 0│\n",
       "│0 0 0 0 0 0 0 0 0 0 0 0│\n",
       "│0 0 0 1 0 0 0 0 0 0 0 0│\n",
       "│0 0 0 0 0 0 0 0 0 0 0 0│\n",
       "│0 0 0 0 0 0 0 1 0 0 0 0│\n",
       "│0 0 0 0 0 0 0 0 0 0 0 0│\n",
       "└~──────────────────────┘\n",
       "</span>"
      ]
     },
     "execution_count": 120,
     "metadata": {},
     "output_type": "execute_result"
    }
   ],
   "source": [
    "⊃4=+/(⊂b)<{(1 ¯1 ⊖¨⍵),(1 ¯1 ⌽¨⍵)} 2⍴⊂b"
   ]
  },
  {
   "cell_type": "code",
   "execution_count": 127,
   "id": "f6fbd3d1-21d6-48c6-aa96-ddf9ed073397",
   "metadata": {},
   "outputs": [
    {
     "data": {
      "text/html": [
       "<span style=\"white-space:pre; font-family: monospace\">┌→──────────────────────────┐\n",
       "↓0 0  0  0 0 0 0  0 0 0  0 0│\n",
       "│0 0 15  0 0 0 0  0 0 0 23 0│\n",
       "│0 0  0  0 0 0 0  0 0 0  0 0│\n",
       "│0 0  0 40 0 0 0  0 0 0  0 0│\n",
       "│0 0  0  0 0 0 0  0 0 0  0 0│\n",
       "│0 0  0  0 0 0 0 68 0 0  0 0│\n",
       "│0 0  0  0 0 0 0  0 0 0  0 0│\n",
       "└~──────────────────────────┘\n",
       "</span>"
      ]
     },
     "execution_count": 127,
     "metadata": {},
     "output_type": "execute_result"
    }
   ],
   "source": [
    "⍝ set each low point id to its index location\n",
    "7 12⍴{⍵∧⍳⍴⍵}∊⊃4=+/(⊂b)<{(1 ¯1⊖¨⍵),(1 ¯1⌽¨⍵)}2⍴⊂b"
   ]
  },
  {
   "cell_type": "code",
   "execution_count": 132,
   "id": "3951000d-6956-47ef-91ab-f050f7661203",
   "metadata": {},
   "outputs": [
    {
     "data": {
      "text/html": [
       "<span style=\"white-space:pre; font-family: monospace\">┌→──────────────────────────────────────────────────────────────────────────────────────────────────────────────────────────────────────────────────────┐\n",
       "│ ┌→──────────────────────────┐ ┌→──────────────────────────┐ ┌→──────────────────────────┐ ┌→──────────────────────────┐ ┌→──────────────────────────┐ │\n",
       "│ ↓0 0  0  0 0 0 0  0 0 0  0 0│ ↓0 0 15  0 0 0 0  0 0 0 23 0│ ↓0 0  0  0 0 0 0  0 0 0  0 0│ ↓0  0  0 0 0 0  0 0 0  0 0 0│ ↓0 0 0  0  0 0 0 0  0 0 0  0│ │\n",
       "│ │0 0 15  0 0 0 0  0 0 0 23 0│ │0 0  0  0 0 0 0  0 0 0  0 0│ │0 0  0  0 0 0 0  0 0 0  0 0│ │0 15  0 0 0 0  0 0 0 23 0 0│ │0 0 0 15  0 0 0 0  0 0 0 23│ │\n",
       "│ │0 0  0  0 0 0 0  0 0 0  0 0│ │0 0  0 40 0 0 0  0 0 0  0 0│ │0 0 15  0 0 0 0  0 0 0 23 0│ │0  0  0 0 0 0  0 0 0  0 0 0│ │0 0 0  0  0 0 0 0  0 0 0  0│ │\n",
       "│ │0 0  0 40 0 0 0  0 0 0  0 0│ │0 0  0  0 0 0 0  0 0 0  0 0│ │0 0  0  0 0 0 0  0 0 0  0 0│ │0  0 40 0 0 0  0 0 0  0 0 0│ │0 0 0  0 40 0 0 0  0 0 0  0│ │\n",
       "│ │0 0  0  0 0 0 0  0 0 0  0 0│ │0 0  0  0 0 0 0 68 0 0  0 0│ │0 0  0 40 0 0 0  0 0 0  0 0│ │0  0  0 0 0 0  0 0 0  0 0 0│ │0 0 0  0  0 0 0 0  0 0 0  0│ │\n",
       "│ │0 0  0  0 0 0 0 68 0 0  0 0│ │0 0  0  0 0 0 0  0 0 0  0 0│ │0 0  0  0 0 0 0  0 0 0  0 0│ │0  0  0 0 0 0 68 0 0  0 0 0│ │0 0 0  0  0 0 0 0 68 0 0  0│ │\n",
       "│ │0 0  0  0 0 0 0  0 0 0  0 0│ │0 0  0  0 0 0 0  0 0 0  0 0│ │0 0  0  0 0 0 0 68 0 0  0 0│ │0  0  0 0 0 0  0 0 0  0 0 0│ │0 0 0  0  0 0 0 0  0 0 0  0│ │\n",
       "│ └~──────────────────────────┘ └~──────────────────────────┘ └~──────────────────────────┘ └~──────────────────────────┘ └~──────────────────────────┘ │\n",
       "└∊──────────────────────────────────────────────────────────────────────────────────────────────────────────────────────────────────────────────────────┘\n",
       "</span>"
      ]
     },
     "execution_count": 132,
     "metadata": {},
     "output_type": "execute_result"
    }
   ],
   "source": [
    "⍝ apply rotations \n",
    "{(1↑⍵),(1 ¯1 ⊖¨⍵),(1 ¯1 ⌽¨⍵)} 2⍴⊂7 12⍴{⍵∧⍳⍴⍵}∊⊃4=+/(⊂b)<{(1 ¯1⊖¨⍵),(1 ¯1⌽¨⍵)}2⍴⊂b"
   ]
  },
  {
   "cell_type": "code",
   "execution_count": 158,
   "id": "ddc79e78-290b-45ec-b936-52e2722f5730",
   "metadata": {},
   "outputs": [
    {
     "data": {
      "text/html": [
       "<span style=\"white-space:pre; font-family: monospace\">┌→────────────────────────────────┐\n",
       "↓0  0 15  0  0 0  0  0  0  0 23  0│\n",
       "│0 15 15 15  0 0  0  0  0 23 23 23│\n",
       "│0  0 15 40  0 0  0  0  0  0 23  0│\n",
       "│0  0 40 40 40 0  0  0  0  0  0  0│\n",
       "│0  0  0 40  0 0  0 68  0  0  0  0│\n",
       "│0  0  0  0  0 0 68 68 68  0  0  0│\n",
       "│0  0  0  0  0 0  0 68  0  0  0  0│\n",
       "└~────────────────────────────────┘\n",
       "</span>"
      ]
     },
     "execution_count": 158,
     "metadata": {},
     "output_type": "execute_result"
    }
   ],
   "source": [
    "⍝ combine up the rotations. low point ids have spread to neighbors\n",
    "⊃∨/{(1↑⍵),(1 ¯1 ⊖¨⍵),(1 ¯1 ⌽¨⍵)} 2⍴⊂7 12⍴{⍵∧⍳⍴⍵}∊⊃4=+/(⊂b)<{(1 ¯1⊖¨⍵),(1 ¯1⌽¨⍵)}2⍴⊂b"
   ]
  },
  {
   "cell_type": "code",
   "execution_count": 159,
   "id": "5d4e4bae-0759-4b50-9cdd-02df76d682ff",
   "metadata": {},
   "outputs": [
    {
     "data": {
      "text/html": [
       "<span style=\"white-space:pre; font-family: monospace\">┌→───────────────────────────────┐\n",
       "↓0  0  0  0  0 0  0  0  0  0  0 0│\n",
       "│0 15 15  0  0 0  0  0  0 23 23 0│\n",
       "│0  0  0 40  0 0  0  0  0  0 23 0│\n",
       "│0  0 40 40 40 0  0  0  0  0  0 0│\n",
       "│0  0  0 40  0 0  0 68  0  0  0 0│\n",
       "│0  0  0  0  0 0 68 68 68  0  0 0│\n",
       "│0  0  0  0  0 0  0  0  0  0  0 0│\n",
       "└~───────────────────────────────┘\n",
       "</span>"
      ]
     },
     "execution_count": 159,
     "metadata": {},
     "output_type": "execute_result"
    }
   ],
   "source": [
    "⍝ apply the border mask. this prevents the low points from corrupting any basin except their own\n",
    "mask^⊃∨/{(1↑⍵),(1 ¯1 ⊖¨⍵),(1 ¯1 ⌽¨⍵)} 2⍴⊂7 12⍴{⍵∧⍳⍴⍵}∊⊃4=+/(⊂b)<{(1 ¯1⊖¨⍵),(1 ¯1⌽¨⍵)}2⍴⊂b"
   ]
  },
  {
   "cell_type": "code",
   "execution_count": 160,
   "id": "87e00f26-dda3-4c9d-83a1-b22c68a602ff",
   "metadata": {},
   "outputs": [
    {
     "data": {
      "text/html": [
       "<span style=\"white-space:pre; font-family: monospace\">┌→────────────────────────────────┐\n",
       "↓0  0  0  0  0  0  0  0  0  0  0 0│\n",
       "│0 15 15  0  0  0 23 23 23 23 23 0│\n",
       "│0 15  0 40 40 40  0 23  0 23 23 0│\n",
       "│0  0 40 40 40 40 40  0 68  0 23 0│\n",
       "│0 40 40 40 40 40  0 68 68 68  0 0│\n",
       "│0  0 40  0  0  0 68 68 68 68 68 0│\n",
       "│0  0  0  0  0  0  0  0  0  0  0 0│\n",
       "└~────────────────────────────────┘\n",
       "</span>"
      ]
     },
     "execution_count": 160,
     "metadata": {},
     "output_type": "execute_result"
    }
   ],
   "source": [
    "⍝ repeat until the basins have been fully filled by the low point id\n",
    "({mask^⊃∨/{(1↑⍵),(1 ¯1 ⊖¨⍵),(1 ¯1 ⌽¨⍵)} 2⍴⊂⍵}⍣50)7 12⍴{⍵∧⍳⍴⍵}∊⊃4=+/(⊂b)<{(1 ¯1⊖¨⍵),(1 ¯1⌽¨⍵)}2⍴⊂b"
   ]
  },
  {
   "cell_type": "code",
   "execution_count": 166,
   "id": "55fd5c18-1feb-439e-ac2f-8b7ba45f2f64",
   "metadata": {},
   "outputs": [
    {
     "data": {
      "text/html": [
       "<span style=\"white-space:pre; font-family: monospace\">┌→────────────┐\n",
       "│0 15 23 40 68│\n",
       "└~────────────┘\n",
       "</span>"
      ]
     },
     "execution_count": 166,
     "metadata": {},
     "output_type": "execute_result"
    }
   ],
   "source": [
    "⍝ pull out the unique ids\n",
    "∪∊({mask^⊃∨/{(1↑⍵),(1 ¯1 ⊖¨⍵),(1 ¯1 ⌽¨⍵)} 2⍴⊂⍵}⍣50)7 12⍴{⍵∧⍳⍴⍵}∊⊃4=+/(⊂b)<{(1 ¯1⊖¨⍵),(1 ¯1⌽¨⍵)}2⍴⊂b"
   ]
  },
  {
   "cell_type": "code",
   "execution_count": 169,
   "id": "9f223f66-4240-4353-8824-e0b2197d59d7",
   "metadata": {},
   "outputs": [
    {
     "data": {
      "text/html": [
       "<span style=\"white-space:pre; font-family: monospace\">┌→──────────────────────────────────────────────────────────────────────────────────────────────────────────────────────────────────────────────────────────────────────┐\n",
       "↓0 0 0 0 0 0 0 0 0 0 0 0 0 1 1 0 0 0 0 0 0 0 0 0 0 1 0 0 0 0 0 0 0 0 0 0 0 0 0 0 0 0 0 0 0 0 0 0 0 0 0 0 0 0 0 0 0 0 0 0 0 0 0 0 0 0 0 0 0 0 0 0 0 0 0 0 0 0 0 0 0 0 0 0│\n",
       "│0 0 0 0 0 0 0 0 0 0 0 0 0 0 0 0 0 0 1 1 1 1 1 0 0 0 0 0 0 0 0 1 0 1 1 0 0 0 0 0 0 0 0 0 0 0 1 0 0 0 0 0 0 0 0 0 0 0 0 0 0 0 0 0 0 0 0 0 0 0 0 0 0 0 0 0 0 0 0 0 0 0 0 0│\n",
       "│0 0 0 0 0 0 0 0 0 0 0 0 0 0 0 0 0 0 0 0 0 0 0 0 0 0 0 1 1 1 0 0 0 0 0 0 0 0 1 1 1 1 1 0 0 0 0 0 0 1 1 1 1 1 0 0 0 0 0 0 0 0 1 0 0 0 0 0 0 0 0 0 0 0 0 0 0 0 0 0 0 0 0 0│\n",
       "│0 0 0 0 0 0 0 0 0 0 0 0 0 0 0 0 0 0 0 0 0 0 0 0 0 0 0 0 0 0 0 0 0 0 0 0 0 0 0 0 0 0 0 0 1 0 0 0 0 0 0 0 0 0 0 1 1 1 0 0 0 0 0 0 0 0 1 1 1 1 1 0 0 0 0 0 0 0 0 0 0 0 0 0│\n",
       "└~──────────────────────────────────────────────────────────────────────────────────────────────────────────────────────────────────────────────────────────────────────┘\n",
       "</span>"
      ]
     },
     "execution_count": 169,
     "metadata": {},
     "output_type": "execute_result"
    }
   ],
   "source": [
    "⍝ each row is an indication of where that id is\n",
    "{⍵∘.=⍨1↓∪⍵}∊({mask^⊃∨/{(1↑⍵),(1 ¯1 ⊖¨⍵),(1 ¯1 ⌽¨⍵)} 2⍴⊂⍵}⍣50)7 12⍴{⍵∧⍳⍴⍵}∊⊃4=+/(⊂b)<{(1 ¯1⊖¨⍵),(1 ¯1⌽¨⍵)}2⍴⊂b"
   ]
  },
  {
   "cell_type": "code",
   "execution_count": 174,
   "id": "a9955a12-7eb5-4ee2-a9b1-54005f3d9568",
   "metadata": {},
   "outputs": [
    {
     "data": {
      "text/html": [
       "<span style=\"white-space:pre; font-family: monospace\">┌→───────┐\n",
       "│14 9 9 3│\n",
       "└~───────┘\n",
       "</span>"
      ]
     },
     "execution_count": 174,
     "metadata": {},
     "output_type": "execute_result"
    }
   ],
   "source": [
    "⍝ sum up the size of each basin and sort descending\n",
    "{⍵[⍒⍵]}+/{⍵∘.=⍨1↓∪⍵}∊({mask^⊃∨/{(1↑⍵),(1 ¯1 ⊖¨⍵),(1 ¯1 ⌽¨⍵)} 2⍴⊂⍵}⍣50)7 12⍴{⍵∧⍳⍴⍵}∊⊃4=+/(⊂b)<{(1 ¯1⊖¨⍵),(1 ¯1⌽¨⍵)}2⍴⊂b"
   ]
  },
  {
   "cell_type": "code",
   "execution_count": 176,
   "id": "be2c173e-1011-4d44-a268-1acfd5bd1e93",
   "metadata": {},
   "outputs": [
    {
     "data": {
      "text/html": [
       "<span style=\"white-space:pre; font-family: monospace\">    \n",
       "1134\n",
       "    \n",
       "</span>"
      ]
     },
     "execution_count": 176,
     "metadata": {},
     "output_type": "execute_result"
    }
   ],
   "source": [
    "⍝ take the largest 3 and multiply the sizes\n",
    "×/3↑{⍵[⍒⍵]}+/{⍵∘.=⍨1↓∪⍵}∊({mask^⊃∨/{(1↑⍵),(1 ¯1 ⊖¨⍵),(1 ¯1 ⌽¨⍵)} 2⍴⊂⍵}⍣50)7 12⍴{⍵∧⍳⍴⍵}∊⊃4=+/(⊂b)<{(1 ¯1⊖¨⍵),(1 ¯1⌽¨⍵)}2⍴⊂b"
   ]
  },
  {
   "cell_type": "code",
   "execution_count": null,
   "id": "9f193347-3bd8-4405-8a75-826cd682fb12",
   "metadata": {},
   "outputs": [],
   "source": []
  }
 ],
 "metadata": {
  "kernelspec": {
   "display_name": "Dyalog APL",
   "language": "apl",
   "name": "dyalog-kernel"
  },
  "language_info": {
   "file_extension": ".apl",
   "mimetype": "text/apl",
   "name": "APL"
  }
 },
 "nbformat": 4,
 "nbformat_minor": 5
}
