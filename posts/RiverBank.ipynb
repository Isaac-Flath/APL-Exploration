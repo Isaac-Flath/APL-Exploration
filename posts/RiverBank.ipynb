{
 "cells": [
  {
   "cell_type": "raw",
   "id": "ab0bb2c5-a8aa-46d3-a9b8-1bac0f3303a2",
   "metadata": {},
   "source": [
    "---\n",
    "title: \"River Bank\"\n",
    "author: \"Felix Flath\"\n",
    "date: \"2022-07-18\"\n",
    "categories: [Dyalog, APL]\n",
    "image: \"image.jpg\"\n",
    "---"
   ]
  },
  {
   "cell_type": "code",
   "execution_count": 2,
   "id": "3799d682-df43-4de4-88fb-6a2424b4be78",
   "metadata": {},
   "outputs": [
    {
     "data": {
      "text/html": [
       "<span style=\"white-space:pre; font-family: monospace\">┌→────────────────┐\n",
       "│Was ON -style=min│\n",
       "└─────────────────┘\n",
       "</span>"
      ]
     },
     "execution_count": 2,
     "metadata": {},
     "output_type": "execute_result"
    },
    {
     "data": {
      "text/html": [
       "<span style=\"white-space:pre; font-family: monospace\">┌→──────┐\n",
       "│Was OFF│\n",
       "└───────┘\n",
       "</span>"
      ]
     },
     "execution_count": 2,
     "metadata": {},
     "output_type": "execute_result"
    },
    {
     "data": {
      "text/html": [
       "<span style=\"white-space:pre; font-family: monospace\">/Applications/Dyalog-18.0.app/Contents/Resources/Dyalog/ws/dfns.dws saved Fri Jun 18 19:11:33 2021\n",
       "┌→────────────────────────────────────────────────┐\n",
       "│                                                 │\n",
       "│An assortment of D Functions and Operators.      │\n",
       "│                                                 │\n",
       "│      tree #                ⍝ Workspace map.     │\n",
       "│      ↑¯10↑↓attrib ⎕nl 3 4  ⍝ What's new?        │\n",
       "│      ⍕notes find 'Word'    ⍝ Apropos \"Word\".    │\n",
       "│      ⎕ed'notes.contents'   ⍝ Workspace overview.│\n",
       "│                                                 │\n",
       "└─────────────────────────────────────────────────┘\n",
       "</span>"
      ]
     },
     "execution_count": 2,
     "metadata": {},
     "output_type": "execute_result"
    }
   ],
   "source": [
    "⍝| echo: false\n",
    "⍝| output: false\n",
    "]box on -style=max\n",
    "]rows on\n",
    ")load dfns\n",
    "⎕io←0"
   ]
  },
  {
   "cell_type": "markdown",
   "id": "7ebae9a3-0c67-4088-a00e-80ab1b9228fb",
   "metadata": {},
   "source": [
    "## Problem\n",
    "\n",
    "The wolf, goat, cabbage riddle is pretty well known. A farmer has a wolf, goat, and cabbage on one side of the river. He needs to transport everything across the river in a small boat that can hold only himself and one other thing. He can't leave the wolf and goat by themselves, he also cannot leave the goat with the cabbage. How does he get everything across?"
   ]
  },
  {
   "cell_type": "markdown",
   "id": "f71b05be-db01-4fc0-b2c4-762a5c80e05f",
   "metadata": {},
   "source": [
    "## Representation\n",
    "\n",
    "We have to keep track of which side of the river things are on. There are 4 items lets use a binary array with the elements representing the person, cabbage, goat, wolf. Since each thing can be on one side of the river or the other we only need to know one side to know the other. The state can be represented as a 4 bit array or a number between 0 and 16. \n",
    "\n",
    "The starting state is (1,1,1,1) everything on the first side of the river.\n"
   ]
  },
  {
   "cell_type": "code",
   "execution_count": 3,
   "id": "73051db1-4dce-4024-9971-6aa41f7a1234",
   "metadata": {},
   "outputs": [
    {
     "data": {
      "text/html": [
       "<span style=\"white-space:pre; font-family: monospace\">┌→──────┐\n",
       "│1 1 1 1│\n",
       "└~──────┘\n",
       "</span>"
      ]
     },
     "execution_count": 3,
     "metadata": {},
     "output_type": "execute_result"
    }
   ],
   "source": [
    "⎕←s0←4⍴1"
   ]
  },
  {
   "cell_type": "markdown",
   "id": "1ece5629-333f-4bec-9800-f7f6d594e638",
   "metadata": {},
   "source": [
    "How do we get the next states we can transion too? We can build an adjacency matrix or anything that is isomorphically the same. For any individul state we know the person has to move and one or zero other items can move. And those get added or removed based on which direction the farmer travels. If we xor the current state with the four possible trips we get the states it can transition too."
   ]
  },
  {
   "cell_type": "code",
   "execution_count": 4,
   "id": "433ccc55-bb4d-47f3-9daf-c7b62c9ff400",
   "metadata": {},
   "outputs": [
    {
     "data": {
      "text/html": [
       "<span style=\"white-space:pre; font-family: monospace\">┌→────────────────────────────────────────┐\n",
       "│ ┌→──────┐ ┌→──────┐ ┌→──────┐ ┌→──────┐ │\n",
       "│ │0 1 1 1│ │0 1 1 0│ │0 1 0 1│ │0 0 1 1│ │\n",
       "│ └~──────┘ └~──────┘ └~──────┘ └~──────┘ │\n",
       "└∊────────────────────────────────────────┘\n",
       "</span>"
      ]
     },
     "execution_count": 4,
     "metadata": {},
     "output_type": "execute_result"
    }
   ],
   "source": [
    "⍝ possible s1s\n",
    "(⊂s0)≠(1 0 0 0) (1 0 0 1) (1 0 1 0) (1 1 0 0)"
   ]
  },
  {
   "cell_type": "code",
   "execution_count": 5,
   "id": "d769c39c-4073-4bf4-a3e6-5d3b17517dbc",
   "metadata": {},
   "outputs": [
    {
     "data": {
      "text/html": [
       "<span style=\"white-space:pre; font-family: monospace\">┌→────────────────────────────────────────┐\n",
       "│ ┌→──────┐ ┌→──────┐ ┌→──────┐ ┌→──────┐ │\n",
       "│ │1 0 0 0│ │1 0 0 1│ │1 0 1 0│ │1 1 0 0│ │\n",
       "│ └~──────┘ └~──────┘ └~──────┘ └~──────┘ │\n",
       "└∊────────────────────────────────────────┘\n",
       "</span>"
      ]
     },
     "execution_count": 5,
     "metadata": {},
     "output_type": "execute_result"
    }
   ],
   "source": [
    "⎕←transitions←(1 0 0 0) (1 0 0 1) (1 0 1 0) (1 1 0 0)"
   ]
  },
  {
   "cell_type": "markdown",
   "id": "947ec684-0a8c-4c84-89a3-aefc2296940b",
   "metadata": {},
   "source": [
    "Lets build the full table."
   ]
  },
  {
   "cell_type": "code",
   "execution_count": 6,
   "id": "945a60ef-44eb-4aad-a619-c012a3161f48",
   "metadata": {},
   "outputs": [
    {
     "data": {
      "text/html": [
       "<span style=\"white-space:pre; font-family: monospace\">┌→────────────────────────────────────────────────────────────────────────────────────────────────────────────────────────────────────────────────────────────────┐\n",
       "│ ┌→──────┐ ┌→──────┐ ┌→──────┐ ┌→──────┐ ┌→──────┐ ┌→──────┐ ┌→──────┐ ┌→──────┐ ┌→──────┐ ┌→──────┐ ┌→──────┐ ┌→──────┐ ┌→──────┐ ┌→──────┐ ┌→──────┐ ┌→──────┐ │\n",
       "│ │0 0 0 0│ │0 0 0 1│ │0 0 1 0│ │0 0 1 1│ │0 1 0 0│ │0 1 0 1│ │0 1 1 0│ │0 1 1 1│ │1 0 0 0│ │1 0 0 1│ │1 0 1 0│ │1 0 1 1│ │1 1 0 0│ │1 1 0 1│ │1 1 1 0│ │1 1 1 1│ │\n",
       "│ └~──────┘ └~──────┘ └~──────┘ └~──────┘ └~──────┘ └~──────┘ └~──────┘ └~──────┘ └~──────┘ └~──────┘ └~──────┘ └~──────┘ └~──────┘ └~──────┘ └~──────┘ └~──────┘ │\n",
       "└∊────────────────────────────────────────────────────────────────────────────────────────────────────────────────────────────────────────────────────────────────┘\n",
       "</span>"
      ]
     },
     "execution_count": 6,
     "metadata": {},
     "output_type": "execute_result"
    }
   ],
   "source": [
    "⎕←states←↓⍉2 2 2 2⊤⍳16"
   ]
  },
  {
   "cell_type": "code",
   "execution_count": 7,
   "id": "14867a87-58c7-43c3-bddb-6fdae093a64b",
   "metadata": {},
   "outputs": [
    {
     "data": {
      "text/html": [
       "<span style=\"white-space:pre; font-family: monospace\">┌→────────────────────────────────────────┐\n",
       "↓ ┌→──────┐ ┌→──────┐ ┌→──────┐ ┌→──────┐ │\n",
       "│ │1 0 0 0│ │1 0 0 1│ │1 0 1 0│ │1 1 0 0│ │\n",
       "│ └~──────┘ └~──────┘ └~──────┘ └~──────┘ │\n",
       "│ ┌→──────┐ ┌→──────┐ ┌→──────┐ ┌→──────┐ │\n",
       "│ │1 0 0 1│ │1 0 0 0│ │1 0 1 1│ │1 1 0 1│ │\n",
       "│ └~──────┘ └~──────┘ └~──────┘ └~──────┘ │\n",
       "│ ┌→──────┐ ┌→──────┐ ┌→──────┐ ┌→──────┐ │\n",
       "│ │1 0 1 0│ │1 0 1 1│ │1 0 0 0│ │1 1 1 0│ │\n",
       "│ └~──────┘ └~──────┘ └~──────┘ └~──────┘ │\n",
       "│ ┌→──────┐ ┌→──────┐ ┌→──────┐ ┌→──────┐ │\n",
       "│ │1 0 1 1│ │1 0 1 0│ │1 0 0 1│ │1 1 1 1│ │\n",
       "│ └~──────┘ └~──────┘ └~──────┘ └~──────┘ │\n",
       "│ ┌→──────┐ ┌→──────┐ ┌→──────┐ ┌→──────┐ │\n",
       "│ │1 1 0 0│ │1 1 0 1│ │1 1 1 0│ │1 0 0 0│ │\n",
       "│ └~──────┘ └~──────┘ └~──────┘ └~──────┘ │\n",
       "│ ┌→──────┐ ┌→──────┐ ┌→──────┐ ┌→──────┐ │\n",
       "│ │1 1 0 1│ │1 1 0 0│ │1 1 1 1│ │1 0 0 1│ │\n",
       "│ └~──────┘ └~──────┘ └~──────┘ └~──────┘ │\n",
       "│ ┌→──────┐ ┌→──────┐ ┌→──────┐ ┌→──────┐ │\n",
       "│ │1 1 1 0│ │1 1 1 1│ │1 1 0 0│ │1 0 1 0│ │\n",
       "│ └~──────┘ └~──────┘ └~──────┘ └~──────┘ │\n",
       "│ ┌→──────┐ ┌→──────┐ ┌→──────┐ ┌→──────┐ │\n",
       "│ │1 1 1 1│ │1 1 1 0│ │1 1 0 1│ │1 0 1 1│ │\n",
       "│ └~──────┘ └~──────┘ └~──────┘ └~──────┘ │\n",
       "│ ┌→──────┐ ┌→──────┐ ┌→──────┐ ┌→──────┐ │\n",
       "│ │0 0 0 0│ │0 0 0 1│ │0 0 1 0│ │0 1 0 0│ │\n",
       "│ └~──────┘ └~──────┘ └~──────┘ └~──────┘ │\n",
       "│ ┌→──────┐ ┌→──────┐ ┌→──────┐ ┌→──────┐ │\n",
       "│ │0 0 0 1│ │0 0 0 0│ │0 0 1 1│ │0 1 0 1│ │\n",
       "│ └~──────┘ └~──────┘ └~──────┘ └~──────┘ │\n",
       "│ ┌→──────┐ ┌→──────┐ ┌→──────┐ ┌→──────┐ │\n",
       "│ │0 0 1 0│ │0 0 1 1│ │0 0 0 0│ │0 1 1 0│ │\n",
       "│ └~──────┘ └~──────┘ └~──────┘ └~──────┘ │\n",
       "│ ┌→──────┐ ┌→──────┐ ┌→──────┐ ┌→──────┐ │\n",
       "│ │0 0 1 1│ │0 0 1 0│ │0 0 0 1│ │0 1 1 1│ │\n",
       "│ └~──────┘ └~──────┘ └~──────┘ └~──────┘ │\n",
       "│ ┌→──────┐ ┌→──────┐ ┌→──────┐ ┌→──────┐ │\n",
       "│ │0 1 0 0│ │0 1 0 1│ │0 1 1 0│ │0 0 0 0│ │\n",
       "│ └~──────┘ └~──────┘ └~──────┘ └~──────┘ │\n",
       "│ ┌→──────┐ ┌→──────┐ ┌→──────┐ ┌→──────┐ │\n",
       "│ │0 1 0 1│ │0 1 0 0│ │0 1 1 1│ │0 0 0 1│ │\n",
       "│ └~──────┘ └~──────┘ └~──────┘ └~──────┘ │\n",
       "│ ┌→──────┐ ┌→──────┐ ┌→──────┐ ┌→──────┐ │\n",
       "│ │0 1 1 0│ │0 1 1 1│ │0 1 0 0│ │0 0 1 0│ │\n",
       "│ └~──────┘ └~──────┘ └~──────┘ └~──────┘ │\n",
       "│ ┌→──────┐ ┌→──────┐ ┌→──────┐ ┌→──────┐ │\n",
       "│ │0 1 1 1│ │0 1 1 0│ │0 1 0 1│ │0 0 1 1│ │\n",
       "│ └~──────┘ └~──────┘ └~──────┘ └~──────┘ │\n",
       "└∊────────────────────────────────────────┘\n",
       "</span>"
      ]
     },
     "execution_count": 7,
     "metadata": {},
     "output_type": "execute_result"
    }
   ],
   "source": [
    "⍉transitions ∘.≠ states"
   ]
  },
  {
   "cell_type": "markdown",
   "id": "9146c8be-2be1-4ad2-b9b5-6bf171206867",
   "metadata": {},
   "source": [
    "The starting state is the index of each subarray. The numbers are the states it is possible to transition to from the index state."
   ]
  },
  {
   "cell_type": "code",
   "execution_count": 8,
   "id": "337c851c-9eec-4af9-a4ef-b59cdda42b5a",
   "metadata": {},
   "outputs": [
    {
     "data": {
      "text/html": [
       "<span style=\"white-space:pre; font-family: monospace\">┌→────────────────────────────────────────────────────────────────────────────────────────────────────────────────────────────────────────────────────────────────────────────────────────┐\n",
       "│ ┌→────────┐ ┌→────────┐ ┌→─────────┐ ┌→─────────┐ ┌→─────────┐ ┌→─────────┐ ┌→──────────┐ ┌→──────────┐ ┌→──────┐ ┌→──────┐ ┌→──────┐ ┌→──────┐ ┌→──────┐ ┌→──────┐ ┌→──────┐ ┌→──────┐ │\n",
       "│ │8 9 10 12│ │9 8 11 13│ │10 11 8 14│ │11 10 9 15│ │12 13 14 8│ │13 12 15 9│ │14 15 12 10│ │15 14 13 11│ │0 1 2 4│ │1 0 3 5│ │2 3 0 6│ │3 2 1 7│ │4 5 6 0│ │5 4 7 1│ │6 7 4 2│ │7 6 5 3│ │\n",
       "│ └~────────┘ └~────────┘ └~─────────┘ └~─────────┘ └~─────────┘ └~─────────┘ └~──────────┘ └~──────────┘ └~──────┘ └~──────┘ └~──────┘ └~──────┘ └~──────┘ └~──────┘ └~──────┘ └~──────┘ │\n",
       "└∊────────────────────────────────────────────────────────────────────────────────────────────────────────────────────────────────────────────────────────────────────────────────────────┘\n",
       "</span>"
      ]
     },
     "execution_count": 8,
     "metadata": {},
     "output_type": "execute_result"
    }
   ],
   "source": [
    "⎕←st←↓⍉2⊥¨transitions ∘.≠ states"
   ]
  },
  {
   "cell_type": "markdown",
   "id": "a3e2ed38-88f3-4e59-aaf5-03823b075f46",
   "metadata": {},
   "source": [
    "State 0 can transition to 8, 9, 10 or 12. State 1 can transition to 9, 8, 11, 13. Etc"
   ]
  },
  {
   "cell_type": "markdown",
   "id": "6383bf12-1e13-4089-888a-20f56676dce3",
   "metadata": {},
   "source": [
    "Unfortunatly some states are forbidden. Specifically those without the farmer with wolf-goat or goat-cabbage, or wolf-goat-cabbage. We also have to consider an illegal state cant be on the other side of the river as well. These are \n",
    "\n",
    "(0 1 1 0) (0 0 1 1) (0 1 1 1) (1 0 0 1) (1 1 0 0) (1 0 0 0) lets remove these so we cant transition to them."
   ]
  },
  {
   "cell_type": "code",
   "execution_count": 9,
   "id": "53d91828-f4d7-4688-beb4-7b25e64f61c7",
   "metadata": {},
   "outputs": [
    {
     "data": {
      "text/html": [
       "<span style=\"white-space:pre; font-family: monospace\">┌→───────────┐\n",
       "│6 3 7 9 12 8│\n",
       "└~───────────┘\n",
       "</span>"
      ]
     },
     "execution_count": 9,
     "metadata": {},
     "output_type": "execute_result"
    }
   ],
   "source": [
    "2⊥¨(0 1 1 0) (0 0 1 1) (0 1 1 1) (1 0 0 1) (1 1 0 0) (1 0 0 0) "
   ]
  },
  {
   "cell_type": "code",
   "execution_count": 10,
   "id": "060385c3-d569-4913-9973-a81e4aed6af1",
   "metadata": {},
   "outputs": [
    {
     "data": {
      "text/html": [
       "<span style=\"white-space:pre; font-family: monospace\">┌→────────────────────────────────────────────────────────────────────────────────────────────────────────────────────────────────────┐\n",
       "│ ┌→─┐ ┌→────┐ ┌→───────┐ ┌→───────┐ ┌→────┐ ┌→────┐ ┌→───────┐ ┌→──────────┐ ┌→──────┐ ┌→────┐ ┌→──┐ ┌→──┐ ┌→────┐ ┌→────┐ ┌→──┐ ┌→┐ │\n",
       "│ │10│ │11 13│ │10 11 14│ │11 10 15│ │13 14│ │13 15│ │14 15 10│ │15 14 13 11│ │0 1 2 4│ │1 0 5│ │2 0│ │2 1│ │4 5 0│ │5 4 1│ │4 2│ │5│ │\n",
       "│ └~─┘ └~────┘ └~───────┘ └~───────┘ └~────┘ └~────┘ └~───────┘ └~──────────┘ └~──────┘ └~────┘ └~──┘ └~──┘ └~────┘ └~────┘ └~──┘ └~┘ │\n",
       "└∊────────────────────────────────────────────────────────────────────────────────────────────────────────────────────────────────────┘\n",
       "</span>"
      ]
     },
     "execution_count": 10,
     "metadata": {},
     "output_type": "execute_result"
    }
   ],
   "source": [
    "⎕←st←st ~¨ ⊂2⊥¨(0 1 1 0) (0 0 1 1) (0 1 1 1) (1 0 0 1) (1 1 0 0) (1 0 0 0)"
   ]
  },
  {
   "cell_type": "code",
   "execution_count": 11,
   "id": "39b76ac0-cb61-4f98-8178-d16828a99bb6",
   "metadata": {},
   "outputs": [
    {
     "data": {
      "text/html": [
       "<span style=\"white-space:pre; font-family: monospace\">┌→──────────────────────────────┐\n",
       "↓0 0 0 0 0 0 0 0 0 0 1 0 0 0 0 0│\n",
       "│0 0 0 0 0 0 0 0 0 0 0 1 0 1 0 0│\n",
       "│0 0 0 0 0 0 0 0 0 0 1 1 0 0 1 0│\n",
       "│0 0 0 0 0 0 0 0 0 0 1 1 0 0 0 1│\n",
       "│0 0 0 0 0 0 0 0 0 0 0 0 0 1 1 0│\n",
       "│0 0 0 0 0 0 0 0 0 0 0 0 0 1 0 1│\n",
       "│0 0 0 0 0 0 0 0 0 0 1 0 0 0 1 1│\n",
       "│0 0 0 0 0 0 0 0 0 0 0 1 0 1 1 1│\n",
       "│1 1 1 0 1 0 0 0 0 0 0 0 0 0 0 0│\n",
       "│1 1 0 0 0 1 0 0 0 0 0 0 0 0 0 0│\n",
       "│1 0 1 0 0 0 0 0 0 0 0 0 0 0 0 0│\n",
       "│0 1 1 0 0 0 0 0 0 0 0 0 0 0 0 0│\n",
       "│1 0 0 0 1 1 0 0 0 0 0 0 0 0 0 0│\n",
       "│0 1 0 0 1 1 0 0 0 0 0 0 0 0 0 0│\n",
       "│0 0 1 0 1 0 0 0 0 0 0 0 0 0 0 0│\n",
       "│0 0 0 0 0 1 0 0 0 0 0 0 0 0 0 0│\n",
       "└~──────────────────────────────┘\n",
       "</span>"
      ]
     },
     "execution_count": 11,
     "metadata": {},
     "output_type": "execute_result"
    }
   ],
   "source": [
    " ⍝ if we want to view the actual adjancency matrix we can\n",
    " {⍉(⍳⍴⍵)∘.∊⍵} st"
   ]
  },
  {
   "cell_type": "markdown",
   "id": "d408bf0b-947a-4fed-8099-280b7f30fa80",
   "metadata": {},
   "source": [
    "## State Transition Graph\n",
    "\n",
    "The dfns workspace has a path function to find the shortest path in a graph given the graph s tarting node and an end node. With the state table built this is just a function call."
   ]
  },
  {
   "cell_type": "code",
   "execution_count": 12,
   "id": "d33f9992-c992-4346-aac0-223812c1f790",
   "metadata": {},
   "outputs": [
    {
     "data": {
      "text/html": [
       "<span style=\"white-space:pre; font-family: monospace\">┌→──────────────────┐\n",
       "│15 5 13 1 11 2 10 0│\n",
       "└~──────────────────┘\n",
       "</span>"
      ]
     },
     "execution_count": 12,
     "metadata": {},
     "output_type": "execute_result"
    }
   ],
   "source": [
    "st path 15 0"
   ]
  },
  {
   "cell_type": "code",
   "execution_count": 13,
   "id": "9f77beb8-3ee8-47de-bac9-700dbc8c0b8f",
   "metadata": {},
   "outputs": [
    {
     "data": {
      "text/html": [
       "<span style=\"white-space:pre; font-family: monospace\">┌→──────┐\n",
       "↓1 1 1 1│\n",
       "│0 1 0 1│\n",
       "│1 1 0 1│\n",
       "│0 0 0 1│\n",
       "│1 0 1 1│\n",
       "│0 0 1 0│\n",
       "│1 0 1 0│\n",
       "│0 0 0 0│\n",
       "└~──────┘\n",
       "</span>"
      ]
     },
     "execution_count": 13,
     "metadata": {},
     "output_type": "execute_result"
    }
   ],
   "source": [
    "⎕←bank0←⍉2 2 2 2⊤st path 15 0"
   ]
  },
  {
   "cell_type": "markdown",
   "id": "27eff3e9-feb6-4c7e-be7e-995794660c60",
   "metadata": {},
   "source": [
    "## Solution\n",
    "\n",
    "Lets try and make this solution more understandable. First lets show both sides of the river"
   ]
  },
  {
   "cell_type": "code",
   "execution_count": 14,
   "id": "d532d339-4e09-44f4-b088-862250f1ceec",
   "metadata": {},
   "outputs": [
    {
     "data": {
      "text/html": [
       "<span style=\"white-space:pre; font-family: monospace\">┌→────────────────────┐\n",
       "│ ┌→──────┐ ┌→──────┐ │\n",
       "│ ↓1 1 1 1│ ↓0 0 0 0│ │\n",
       "│ │0 1 0 1│ │1 0 1 0│ │\n",
       "│ │1 1 0 1│ │0 0 1 0│ │\n",
       "│ │0 0 0 1│ │1 1 1 0│ │\n",
       "│ │1 0 1 1│ │0 1 0 0│ │\n",
       "│ │0 0 1 0│ │1 1 0 1│ │\n",
       "│ │1 0 1 0│ │0 1 0 1│ │\n",
       "│ │0 0 0 0│ │1 1 1 1│ │\n",
       "│ └~──────┘ └~──────┘ │\n",
       "└∊────────────────────┘\n",
       "</span>"
      ]
     },
     "execution_count": 14,
     "metadata": {},
     "output_type": "execute_result"
    }
   ],
   "source": [
    "bank1←~bank0\n",
    "\n",
    "bank0 bank1"
   ]
  },
  {
   "cell_type": "markdown",
   "id": "38cd03b2-793a-419f-8a3a-7ff0167e7907",
   "metadata": {},
   "source": [
    "Lets translate these back into names"
   ]
  },
  {
   "cell_type": "code",
   "execution_count": 15,
   "id": "567e8c1c-6173-4578-bc43-92f31f8bb299",
   "metadata": {},
   "outputs": [
    {
     "data": {
      "text/html": [
       "<span style=\"white-space:pre; font-family: monospace\">┌→─────────────────────────────────┐\n",
       "│ ┌→─────┐ ┌→──────┐ ┌→───┐ ┌→───┐ │\n",
       "│ │farmer│ │cabbage│ │goat│ │wolf│ │\n",
       "│ └──────┘ └───────┘ └────┘ └────┘ │\n",
       "└∊─────────────────────────────────┘\n",
       "</span>"
      ]
     },
     "execution_count": 15,
     "metadata": {},
     "output_type": "execute_result"
    }
   ],
   "source": [
    "⎕←items←'farmer' 'cabbage' 'goat' 'wolf'"
   ]
  },
  {
   "cell_type": "code",
   "execution_count": 17,
   "id": "1b98066b-6dcb-4b98-835d-a3b319f53bea",
   "metadata": {},
   "outputs": [
    {
     "data": {
      "text/html": [
       "<span style=\"white-space:pre; font-family: monospace\">┌→────────────────────────────────────────────────────────────────────────────────────────┐\n",
       "│ ┌→────────────────────────────────────────┐ ┌→────────────────────────────────────────┐ │\n",
       "│ ↓ ┌→─────┐  ┌→──────┐ ┌→───┐    ┌→───┐    │ ↓ ┌→─────┐  ┌→─────┐  ┌→─────┐  ┌→─────┐  │ │\n",
       "│ │ │farmer│  │cabbage│ │goat│    │wolf│    │ │ │      │  │      │  │      │  │      │  │ │\n",
       "│ │ └──────┘  └───────┘ └────┘    └────┘    │ │ └──────┘  └──────┘  └──────┘  └──────┘  │ │\n",
       "│ │ ┌→──────┐ ┌→───┐    ┌→──────┐ ┌→──────┐ │ │ ┌→─────┐  ┌→───┐    ┌→─────┐  ┌→─────┐  │ │\n",
       "│ │ │cabbage│ │wolf│    │       │ │       │ │ │ │farmer│  │goat│    │      │  │      │  │ │\n",
       "│ │ └───────┘ └────┘    └───────┘ └───────┘ │ │ └──────┘  └────┘    └──────┘  └──────┘  │ │\n",
       "│ │ ┌→─────┐  ┌→──────┐ ┌→───┐    ┌→─────┐  │ │ ┌→───┐    ┌→───┐    ┌→───┐    ┌→───┐    │ │\n",
       "│ │ │farmer│  │cabbage│ │wolf│    │      │  │ │ │goat│    │    │    │    │    │    │    │ │\n",
       "│ │ └──────┘  └───────┘ └────┘    └──────┘  │ │ └────┘    └────┘    └────┘    └────┘    │ │\n",
       "│ │ ┌→───┐    ┌→───┐    ┌→───┐    ┌→───┐    │ │ ┌→─────┐  ┌→──────┐ ┌→───┐    ┌→─────┐  │ │\n",
       "│ │ │wolf│    │    │    │    │    │    │    │ │ │farmer│  │cabbage│ │goat│    │      │  │ │\n",
       "│ │ └────┘    └────┘    └────┘    └────┘    │ │ └──────┘  └───────┘ └────┘    └──────┘  │ │\n",
       "│ │ ┌→─────┐  ┌→───┐    ┌→───┐    ┌→─────┐  │ │ ┌→──────┐ ┌→──────┐ ┌→──────┐ ┌→──────┐ │ │\n",
       "│ │ │farmer│  │goat│    │wolf│    │      │  │ │ │cabbage│ │       │ │       │ │       │ │ │\n",
       "│ │ └──────┘  └────┘    └────┘    └──────┘  │ │ └───────┘ └───────┘ └───────┘ └───────┘ │ │\n",
       "│ │ ┌→───┐    ┌→───┐    ┌→───┐    ┌→───┐    │ │ ┌→─────┐  ┌→──────┐ ┌→───┐    ┌→─────┐  │ │\n",
       "│ │ │goat│    │    │    │    │    │    │    │ │ │farmer│  │cabbage│ │wolf│    │      │  │ │\n",
       "│ │ └────┘    └────┘    └────┘    └────┘    │ │ └──────┘  └───────┘ └────┘    └──────┘  │ │\n",
       "│ │ ┌→─────┐  ┌→───┐    ┌→─────┐  ┌→─────┐  │ │ ┌→──────┐ ┌→───┐    ┌→──────┐ ┌→──────┐ │ │\n",
       "│ │ │farmer│  │goat│    │      │  │      │  │ │ │cabbage│ │wolf│    │       │ │       │ │ │\n",
       "│ │ └──────┘  └────┘    └──────┘  └──────┘  │ │ └───────┘ └────┘    └───────┘ └───────┘ │ │\n",
       "│ │ ┌→─────┐  ┌→─────┐  ┌→─────┐  ┌→─────┐  │ │ ┌→─────┐  ┌→──────┐ ┌→───┐    ┌→───┐    │ │\n",
       "│ │ │      │  │      │  │      │  │      │  │ │ │farmer│  │cabbage│ │goat│    │wolf│    │ │\n",
       "│ │ └──────┘  └──────┘  └──────┘  └──────┘  │ │ └──────┘  └───────┘ └────┘    └────┘    │ │\n",
       "│ └∊────────────────────────────────────────┘ └∊────────────────────────────────────────┘ │\n",
       "└∊────────────────────────────────────────────────────────────────────────────────────────┘\n",
       "</span>"
      ]
     },
     "execution_count": 17,
     "metadata": {},
     "output_type": "execute_result"
    }
   ],
   "source": [
    "(/∘items⍤1⊢bank0) (/∘items⍤1⊢bank1)"
   ]
  },
  {
   "cell_type": "markdown",
   "id": "8788c71a-2120-47c6-a76f-99107d868ea3",
   "metadata": {},
   "source": [
    "What the farmer takes on every river crossing.\n",
    "\n",
    "1) goat\n",
    "2) nothing\n",
    "3) cabbage\n",
    "4) goat\n",
    "5) wolf\n",
    "6) nothing\n",
    "7) goat"
   ]
  }
 ],
 "metadata": {
  "kernelspec": {
   "display_name": "Dyalog APL",
   "language": "apl",
   "name": "dyalog-kernel"
  },
  "language_info": {
   "file_extension": ".apl",
   "mimetype": "text/apl",
   "name": "APL"
  }
 },
 "nbformat": 4,
 "nbformat_minor": 5
}
