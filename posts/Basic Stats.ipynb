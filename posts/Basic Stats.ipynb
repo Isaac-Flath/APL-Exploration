{
 "cells": [
  {
   "cell_type": "raw",
   "id": "846fafe5",
   "metadata": {},
   "source": [
    "---\n",
    "title: \"Bootstrapping\"\n",
    "author: \"Isaac Flath\"\n",
    "date: \"2022-07-20\"\n",
    "categories: [Dyalog, APL, Statistics]\n",
    "image: \"bootstrap.jpeg\"\n",
    "---"
   ]
  },
  {
   "cell_type": "markdown",
   "id": "60c95a68",
   "metadata": {},
   "source": [
    "# Sampling/Bootstrapping"
   ]
  },
  {
   "cell_type": "markdown",
   "id": "d8f9b8d0",
   "metadata": {},
   "source": [
    "This post shows how to calculate statistics in the way I believe should be the default for data scientists, bootstrapping.  If you are not familiar with this approach and think it sounds intriguing, [check out this page](https://www.lock5stat.com/) to find a great book to get a fantastic start on bootstrapping and practical statistics.\n",
    "\n",
    ":::{.callout-note}\n",
    "The quality and simplicity of the APL code in this post was improved thanks to the kind feedback provided by rak1507.  It's awesome to have experienced community members like rak1507 that are willing to read through material written by people newer to array programming and offer feedback in a supportive way. \n",
    ":::\n",
    "\n",
    "## Why Bootstrapping\n",
    "\n",
    "Because this opinions seems to put me in the minority of data scientists I am writing a short piece on why bootstrapping here.\n",
    "\n",
    "In classical statistics, very clever algebraic formulas are used to approximate a sampling distribution, and that approximation can be used to calculate a p-value or a confidence interval or other statistics.  These formulas rely on assumptions about the data and do not work if those baked in assumptions are not true.  In other words they are really shortcuts to calculating an answer that work in specific situations.\n",
    "\n",
    "In modern days, we do not need to approximate a sampling distribution using algebra.  We can do something much more elementary, more powerful, and more flexible.  Thanks to modern computers, we can just sample our data repeatedly to create an actual sampling distribution and calculate based off of that.  You get the same answer.  So why do I advocate for a bootstrapping first approach?\n",
    "\n",
    "+ It is simpler and more intuitive.  This means it is far easier to craft custom tests and statistics based on whatever you want and reason about what things are. \n",
    "+ Bootstrapping assumes nothing other than you have data.  Classical statistical formulas are shortcuts that are enabled with baked in assumptions about the data.  This means the same boostrapping approach works in basically all situations, where classical statistical formulas only apply in the particular situations they were designed for.\n",
    "\n",
    "For this reason I believe it should be the default and you can change to computational shortcuts in the situations where it makes sense (ie you are very confident you understand assumptions, confident they are true in your problem, and the amount of data makes it non-trivial to bootstrap).\n",
    "\n",
    ":::{.callout-note}\n",
    "Much of this next bit is heavily inspired by [Overview of\n",
    "Statistics: UnLocking the Power of Data\n",
    "By Lock, Lock, Lock, Lock, and Lock\n",
    "Published by Wiley (2012)](https://www.lock5stat.com/Lock5Overview.pdf).  I have summarized key points that I think are relevant to what I want to communicate.  For example, the quotes I am using are quotes I originally saw in their article.  \n",
    ":::\n",
    "\n",
    "Many of the top statisticians have known bootstrapping is a more elementary but more flexible approach for longer than the approach was computationally feasible.  For example, in 1936 Sir R.A. Fisher (who created the foundations of statistical inference) spoke about using this bootstrapping approach:\n",
    "\n",
    "> Actually, the statistician does not carry out this very simple and very tedious process, but his conclusions have no justification beyond the fact that they agree with those which could have been arrived at by this elementary method.\n",
    "\n",
    "While these methods were tedious in 1936, they are trivial thanks to modern computers.  We no longer have to do clever algebraic tricks to approximate a sampling distribution - we can just create a sampling distribution, as George Cobb pointed out in the journal *Technology Innovations in Statistical Education*.\n",
    "\n",
    "> What we teach is largely the technical machinery of numerical approximations based on the normal distribution and its many subsidiary cogs. This machinery was once necessary, because the conceptually simpler alternative based on permutations was computationally beyond our reach. Before computers statisticians had no choice. These days we have no excuse. "
   ]
  },
  {
   "cell_type": "markdown",
   "id": "e70ce1eb",
   "metadata": {},
   "source": [
    "# Sampling Distribution\n",
    "\n",
    "A sampling distribution is a distribution of samples.  Let's talk about what that means.\n",
    "\n",
    "First, a **sample** is a subset of our data.  `[1, 0, 2, 1]` is a sample of `[0, 1, 2, 3]`.  A few things about samples:\n",
    "+ We will sample by taking a random selection of values from our data.\n",
    "+ We are sampling with replacement, meaning we can pick the same data point multiple times.\n",
    "\n",
    "Next, a **distribution** is mostly just a bunch of data points.  In our case we are going to have a bunch of samples.\n",
    "\n",
    "So we need a way to create a sample, and then we need to do that a bunch of times.  Let's get started."
   ]
  },
  {
   "cell_type": "code",
   "execution_count": 1,
   "id": "61e2891f",
   "metadata": {},
   "outputs": [
    {
     "data": {
      "text/html": [
       "<pre class=\"language-APL\">┌→────────────────┐\n",
       "│Was ON -style=max│\n",
       "└─────────────────┘\n",
       "</pre>"
      ]
     },
     "execution_count": 1,
     "metadata": {},
     "output_type": "execute_result"
    }
   ],
   "source": [
    "]box on -style=max"
   ]
  },
  {
   "cell_type": "markdown",
   "id": "c2367d6f",
   "metadata": {},
   "source": [
    "## Create 1 Sample\n",
    "\n",
    "Let's start with creating a sample\n",
    "\n",
    "+ Create some data for us to sample\n",
    "+ Get 5 random numbers between 1 and 10 (no duplicate numbers)"
   ]
  },
  {
   "cell_type": "code",
   "execution_count": 2,
   "id": "9019e410",
   "metadata": {},
   "outputs": [
    {
     "data": {
      "text/html": [
       "<pre class=\"language-APL\">┌→─────────┐\n",
       "│4 3 10 1 5│\n",
       "└~─────────┘\n",
       "</pre>"
      ]
     },
     "execution_count": 2,
     "metadata": {},
     "output_type": "execute_result"
    }
   ],
   "source": [
    "⎕←V ← 5?10"
   ]
  },
  {
   "cell_type": "markdown",
   "id": "ba921e5c",
   "metadata": {},
   "source": [
    "Next we need to get a random sample of indexes from our data `V`.  We can do that in 3 steps:\n",
    "1. Get the total number of elements in our data array with `≢V` (tally the Vector)\n",
    "1. Create an array of the size of the sample we want and fill it with `≢V` using `10⍴≢V`.  Create an array of dimension 10 with containing the tally of the vector.  APL will broadcase to make all elements equal to `≢V` automatically.\n",
    "1. `?` will roll a die for each element between 1 and the value of the element.  This gives us random index locations for each sample we want.\n",
    "\n",
    "Put that all together and we have code that:\n",
    "\n",
    "+ Get random sample of indexes\n",
    "+ Get 10 random numbers between 1 and ≢V (duplicates allowed)"
   ]
  },
  {
   "cell_type": "code",
   "execution_count": 3,
   "id": "19a37250",
   "metadata": {},
   "outputs": [
    {
     "data": {
      "text/html": [
       "<pre class=\"language-APL\">┌→──────────────────┐\n",
       "│3 2 2 2 2 5 1 2 4 2│\n",
       "└~──────────────────┘\n",
       "</pre>"
      ]
     },
     "execution_count": 3,
     "metadata": {},
     "output_type": "execute_result"
    }
   ],
   "source": [
    "⎕←S←?10⍴≢V"
   ]
  },
  {
   "cell_type": "markdown",
   "id": "52c0e617",
   "metadata": {},
   "source": [
    "Since that created random index locations, we can look those indexes up in our original vector `V` to get our random sample."
   ]
  },
  {
   "cell_type": "code",
   "execution_count": 4,
   "id": "6f45f38d",
   "metadata": {},
   "outputs": [
    {
     "data": {
      "text/html": [
       "<pre class=\"language-APL\">┌→───────────────────┐\n",
       "│10 3 3 3 3 5 4 3 1 3│\n",
       "└~───────────────────┘\n",
       "</pre>"
      ]
     },
     "execution_count": 4,
     "metadata": {},
     "output_type": "execute_result"
    }
   ],
   "source": [
    "V[S]"
   ]
  },
  {
   "cell_type": "markdown",
   "id": "4e37b16f",
   "metadata": {},
   "source": [
    "If we put that together we get a nice compact way of drawing a sample."
   ]
  },
  {
   "cell_type": "code",
   "execution_count": 5,
   "id": "be19cd56",
   "metadata": {},
   "outputs": [
    {
     "data": {
      "text/html": [
       "<pre class=\"language-APL\">┌→───────────────────┐\n",
       "│3 10 3 3 1 4 3 4 3 3│\n",
       "└~───────────────────┘\n",
       "</pre>"
      ]
     },
     "execution_count": 5,
     "metadata": {},
     "output_type": "execute_result"
    }
   ],
   "source": [
    "V[?10 ⍴ ≢V]"
   ]
  },
  {
   "cell_type": "markdown",
   "id": "1791ebcc",
   "metadata": {},
   "source": [
    "## Create sampling distribution\n",
    "\n",
    "We drew a sample, but really what we want to do is draw a whole bunch of samples.  All we have to do is create a matrix of indices instead of a vector and the exact same approach works.\n",
    "\n",
    "This is the same as above, except instead of `10 ⍴` to create an array of shape 10, we use `5 10 ⍴` to create an array of shape 5 by 10.\n",
    "\n",
    "For convenience I store the shapes in a variable for later use.  "
   ]
  },
  {
   "cell_type": "code",
   "execution_count": 6,
   "id": "482f4928",
   "metadata": {},
   "outputs": [
    {
     "data": {
      "text/html": [
       "<pre class=\"language-APL\">┌→──────────────────────────┐\n",
       "↓ 4 4  3  4  1  5  4 3  3 10│\n",
       "│ 1 3 10  5  3  4 10 1  4 10│\n",
       "│ 5 1 10 10  5  3  3 4  1  4│\n",
       "│10 5 10  1 10  3  1 4 10  1│\n",
       "│10 5  5  5  1 10  3 3  1 10│\n",
       "└~──────────────────────────┘\n",
       "</pre>"
      ]
     },
     "execution_count": 6,
     "metadata": {},
     "output_type": "execute_result"
    }
   ],
   "source": [
    "V[?(n←5) (ss←10) ⍴ ≢V]"
   ]
  },
  {
   "cell_type": "markdown",
   "id": "99256329",
   "metadata": {},
   "source": [
    "# Calculate statistics\n",
    "\n",
    "Now that we know how to calculate a sampling distribution we can calculate some statistics.  I will start with confidence intervals, then move into p values."
   ]
  },
  {
   "cell_type": "markdown",
   "id": "10a4043b",
   "metadata": {},
   "source": [
    "## Confidence Intervals\n",
    "\n",
    "Lets do a bigger sample and calculate our confidence interval using 10000 random numbers between 1 and 100."
   ]
  },
  {
   "cell_type": "code",
   "execution_count": 7,
   "id": "1033b2bb",
   "metadata": {},
   "outputs": [
    {
     "data": {
      "text/html": [
       "<pre class=\"language-APL\">┌→───────────────────────────┐\n",
       "│50 3 15 43 93 60 96 29 71 58│\n",
       "└~───────────────────────────┘\n",
       "</pre>"
      ]
     },
     "execution_count": 7,
     "metadata": {},
     "output_type": "execute_result"
    }
   ],
   "source": [
    "data ← ?10000/100 \n",
    "\n",
    "10↑data ⍝ look at first 10 values"
   ]
  },
  {
   "cell_type": "markdown",
   "id": "844bc213",
   "metadata": {},
   "source": [
    "Next we can calculate a sampling distribution and look a a few of them.  We use the code from before but with 1000 pulls."
   ]
  },
  {
   "cell_type": "code",
   "execution_count": 8,
   "id": "91c96831",
   "metadata": {},
   "outputs": [
    {
     "data": {
      "text/html": [
       "<pre class=\"language-APL\">┌→─────────────────────────────┐\n",
       "↓20 56 92 100 34 89 28 92 10 21│\n",
       "│34 95 89  69 35 81 25 25 80 87│\n",
       "│77 68 32  77 57 20 10 20 21 95│\n",
       "│37 73 19  79 11 88 13  1 90 68│\n",
       "│70 42 10  74 62 34 82 17  3 19│\n",
       "└~─────────────────────────────┘\n",
       "</pre>"
      ]
     },
     "execution_count": 8,
     "metadata": {},
     "output_type": "execute_result"
    }
   ],
   "source": [
    "sampling_distribution←data[? (n←1000) (ss←10) ⍴ ≢ data]\n",
    "5↑sampling_distribution"
   ]
  },
  {
   "cell_type": "markdown",
   "id": "87aa3b48",
   "metadata": {},
   "source": [
    "We want to do a confidence interval on the mean so we need to calculate the mean of each of these samples.\n",
    "\n",
    "+ `+/` Row-wise sum (trailing axis)\n",
    "+ `ss÷⍨` divides each element by ss (ss defined when creating sampling distribution)"
   ]
  },
  {
   "cell_type": "code",
   "execution_count": 9,
   "id": "e9a7f7b9",
   "metadata": {},
   "outputs": [
    {
     "data": {
      "text/html": [
       "<pre class=\"language-APL\">┌→────────────────────────────────────┐\n",
       "│54.2 62 47.7 47.9 41.3 63.5 50.7 44.3│\n",
       "└~────────────────────────────────────┘\n",
       "</pre>"
      ]
     },
     "execution_count": 9,
     "metadata": {},
     "output_type": "execute_result"
    }
   ],
   "source": [
    "sample_means ← ss÷⍨+/ sampling_distribution\n",
    "8↑sample_means"
   ]
  },
  {
   "cell_type": "markdown",
   "id": "6ff10227",
   "metadata": {},
   "source": [
    "Now we calculate at 90% confidence interval on our sample mean.  That means we are 90% confident our mean will land in the given interval range. This is easy to do because we have calculated the mean of a good sampling distribution so we just need to cut off the top and bottom 5% of values and 90% of the values landed in that range.\n",
    "\n",
    "+ ⍋ sorts ascending, then cut off first 50 and take the first 900 of that\n"
   ]
  },
  {
   "cell_type": "code",
   "execution_count": 10,
   "id": "2b2b0607",
   "metadata": {},
   "outputs": [],
   "source": [
    "order90 ← 900↑50↓⍋sample_means"
   ]
  },
  {
   "cell_type": "markdown",
   "id": "b1b5dc92",
   "metadata": {},
   "source": [
    "Get min and max of middle 90% of sample means, which is our 90% confidence interval.  Because our data is sorted we can just get the first and last value."
   ]
  },
  {
   "cell_type": "code",
   "execution_count": 11,
   "id": "c1f9731e",
   "metadata": {},
   "outputs": [
    {
     "data": {
      "text/html": [
       "<pre class=\"language-APL\">    \n",
       "36.2\n",
       "    \n",
       "</pre>"
      ]
     },
     "execution_count": 11,
     "metadata": {},
     "output_type": "execute_result"
    },
    {
     "data": {
      "text/html": [
       "<pre class=\"language-APL\">    \n",
       "65.5\n",
       "    \n",
       "</pre>"
      ]
     },
     "execution_count": 11,
     "metadata": {},
     "output_type": "execute_result"
    }
   ],
   "source": [
    "sample_means[⊣/order90]\n",
    "sample_means[⊢/order90]"
   ]
  },
  {
   "cell_type": "markdown",
   "id": "1ce9d1a6",
   "metadata": {},
   "source": [
    "We know we are 90 percent confident that a mean based on a sample size of 10 will land in that range because we did that and found that to be true. "
   ]
  },
  {
   "cell_type": "markdown",
   "id": "3a96c015",
   "metadata": {},
   "source": [
    "## P values"
   ]
  },
  {
   "cell_type": "markdown",
   "id": "8e8a9f76",
   "metadata": {},
   "source": [
    "Let's say we have 2 sets of data and we want to know whether some statistics are different between them.  We have 10,000 samples of our original data, and we ran an experiment and got 100 datapoints with our new process.  We want to calculate a p value to see if it supports our hypothesis that it had a statistically significant impact.\n",
    "\n",
    ":::{.callout-note}\n",
    "Statistically significant impact does not necessarily mean practically significant.  This test is doing the basic (are these 2 means different), but often that isn't really that helpful of a question.  Often we want to ask \"are these 2 means different by at least X\".  After reviewing the simple examples think through how you might be able to design that test via bootstrapping!\n",
    ":::\n"
   ]
  },
  {
   "cell_type": "markdown",
   "id": "12493dcc",
   "metadata": {},
   "source": [
    "### P value on equal means"
   ]
  },
  {
   "cell_type": "code",
   "execution_count": 12,
   "id": "044a5461",
   "metadata": {},
   "outputs": [],
   "source": [
    "baseline ← 1-⍨2×⍨?10000/0\n",
    "experiment ← 0.5-⍨?100/0"
   ]
  },
  {
   "cell_type": "markdown",
   "id": "863f1939",
   "metadata": {},
   "source": [
    "These should have roughly the same means so we should get a large p value and show the difference is not statistically significant\n"
   ]
  },
  {
   "cell_type": "markdown",
   "id": "5d0fa8e4",
   "metadata": {},
   "source": [
    "Let's run the test and see what we get.  First let's get our statistic from our experiment (mean)."
   ]
  },
  {
   "cell_type": "code",
   "execution_count": 13,
   "id": "6bd48af6",
   "metadata": {},
   "outputs": [
    {
     "data": {
      "text/html": [
       "<pre class=\"language-APL\">             \n",
       "0.02131968282\n",
       "             \n",
       "</pre>"
      ]
     },
     "execution_count": 13,
     "metadata": {},
     "output_type": "execute_result"
    }
   ],
   "source": [
    "⎕←experiment_mean ← (+/experiment) ÷ ≢experiment"
   ]
  },
  {
   "cell_type": "markdown",
   "id": "a76f6664",
   "metadata": {},
   "source": [
    "Now let's create our sampling distribution on our baseline."
   ]
  },
  {
   "cell_type": "code",
   "execution_count": 14,
   "id": "6d16dd1a",
   "metadata": {},
   "outputs": [],
   "source": [
    "sampling_distribution←baseline[? (n←1000) (ss←10) ⍴ ≢ baseline]"
   ]
  },
  {
   "cell_type": "markdown",
   "id": "52c22ba4",
   "metadata": {},
   "source": [
    "Calculate the means of each."
   ]
  },
  {
   "cell_type": "code",
   "execution_count": 15,
   "id": "ea53d0ef",
   "metadata": {},
   "outputs": [],
   "source": [
    "sampling_means ← ss ÷⍨ +/sampling_distribution"
   ]
  },
  {
   "cell_type": "markdown",
   "id": "18f94343",
   "metadata": {},
   "source": [
    "We then calculate a p value by seeing what percentage of sample means our experiment mean is more extreme than.  We can check this on both ends of the distribution and we would take the smaller one normally."
   ]
  },
  {
   "cell_type": "code",
   "execution_count": 16,
   "id": "5854f526",
   "metadata": {},
   "outputs": [
    {
     "data": {
      "text/html": [
       "<pre class=\"language-APL\">     \n",
       "0.545\n",
       "     \n",
       "</pre>"
      ]
     },
     "execution_count": 16,
     "metadata": {},
     "output_type": "execute_result"
    },
    {
     "data": {
      "text/html": [
       "<pre class=\"language-APL\">     \n",
       "0.455\n",
       "     \n",
       "</pre>"
      ]
     },
     "execution_count": 16,
     "metadata": {},
     "output_type": "execute_result"
    }
   ],
   "source": [
    "n ÷⍨ +/ experiment_mean>sampling_means\n",
    "n ÷⍨ +/ experiment_mean<sampling_means"
   ]
  },
  {
   "cell_type": "markdown",
   "id": "a708c1af",
   "metadata": {},
   "source": [
    "### P value on different means"
   ]
  },
  {
   "cell_type": "code",
   "execution_count": 17,
   "id": "926aa83d",
   "metadata": {},
   "outputs": [],
   "source": [
    "baseline ← ?10000/0\n",
    "experiment ← 0.2-⍨?100/0"
   ]
  },
  {
   "cell_type": "markdown",
   "id": "4251203b",
   "metadata": {},
   "source": [
    "These should have different means so we should get a large p value and show the different is not practically significant\n"
   ]
  },
  {
   "cell_type": "markdown",
   "id": "43d11fe3",
   "metadata": {},
   "source": [
    "Let's run the test and see what we get.  First let's get our statistic from our experiment (mean)."
   ]
  },
  {
   "cell_type": "code",
   "execution_count": 18,
   "id": "c71600ea",
   "metadata": {},
   "outputs": [
    {
     "data": {
      "text/html": [
       "<pre class=\"language-APL\">           \n",
       "0.302065664\n",
       "           \n",
       "</pre>"
      ]
     },
     "execution_count": 18,
     "metadata": {},
     "output_type": "execute_result"
    }
   ],
   "source": [
    "⎕←experiment_mean ← (+/experiment) ÷ ≢experiment"
   ]
  },
  {
   "cell_type": "markdown",
   "id": "da09e469",
   "metadata": {},
   "source": [
    "Now let's create our sampling distribution on our baseline."
   ]
  },
  {
   "cell_type": "code",
   "execution_count": 19,
   "id": "28ad2ca9",
   "metadata": {},
   "outputs": [],
   "source": [
    "sampling_distribution← baseline[? (n←1000) (ss←10) ⍴ ≢ baseline]"
   ]
  },
  {
   "cell_type": "code",
   "execution_count": 20,
   "id": "0b30f6ed",
   "metadata": {},
   "outputs": [],
   "source": [
    "sampling_means ← ss ÷⍨ +/sampling_distribution"
   ]
  },
  {
   "cell_type": "markdown",
   "id": "d0857018",
   "metadata": {},
   "source": [
    "We then calculate a p value by seeing what percentage of sample means our experiment mean is more extreme than.  We can check this on both ends of the distribution, but we would take the smaller one.  We can see our p value is quite small - it successfully detected that we likely have a different mean."
   ]
  },
  {
   "cell_type": "code",
   "execution_count": 21,
   "id": "cc1cef9e",
   "metadata": {},
   "outputs": [
    {
     "data": {
      "text/html": [
       "<pre class=\"language-APL\">     \n",
       "0.993\n",
       "     \n",
       "</pre>"
      ]
     },
     "execution_count": 21,
     "metadata": {},
     "output_type": "execute_result"
    },
    {
     "data": {
      "text/html": [
       "<pre class=\"language-APL\">     \n",
       "0.007\n",
       "     \n",
       "</pre>"
      ]
     },
     "execution_count": 21,
     "metadata": {},
     "output_type": "execute_result"
    }
   ],
   "source": [
    "n ÷⍨ +/ sampling_means > experiment_mean\n",
    "n ÷⍨ +/ sampling_means < experiment_mean"
   ]
  }
 ],
 "metadata": {
  "kernelspec": {
   "display_name": "Dyalog APL",
   "language": "apl",
   "name": "dyalog-kernel"
  },
  "language_info": {
   "file_extension": ".apl",
   "mimetype": "text/apl",
   "name": "APL"
  },
  "toc": {
   "base_numbering": 1,
   "nav_menu": {},
   "number_sections": true,
   "sideBar": true,
   "skip_h1_title": false,
   "title_cell": "Table of Contents",
   "title_sidebar": "Contents",
   "toc_cell": false,
   "toc_position": {},
   "toc_section_display": true,
   "toc_window_display": false
  }
 },
 "nbformat": 4,
 "nbformat_minor": 5
}
