{
 "cells": [
  {
   "cell_type": "raw",
   "id": "3ce90130-5c33-4b9e-80d4-e2e32a68fe6d",
   "metadata": {},
   "source": [
    "---\n",
    "title: \"Knapsack\"\n",
    "author: \"Felix Flath\"\n",
    "date: \"2022-08-06\"\n",
    "categories: [Dyalog, APL]\n",
    "image: \"image.jpg\"\n",
    "---"
   ]
  },
  {
   "cell_type": "code",
   "execution_count": 1,
   "id": "928fda64-94b9-446a-b511-be8255218b38",
   "metadata": {},
   "outputs": [
    {
     "data": {
      "text/html": [
       "<span style=\"white-space:pre; font-family: monospace\">done\n",
       "</span>"
      ]
     },
     "execution_count": 1,
     "metadata": {},
     "output_type": "execute_result"
    },
    {
     "data": {
      "text/html": [
       "<span style=\"white-space:pre; font-family: monospace\">┌→────────────────┐\n",
       "│Was ON -style=min│\n",
       "└─────────────────┘\n",
       "</span>"
      ]
     },
     "execution_count": 1,
     "metadata": {},
     "output_type": "execute_result"
    },
    {
     "data": {
      "text/html": [
       "<span style=\"white-space:pre; font-family: monospace\">┌→──────┐\n",
       "│Was OFF│\n",
       "└───────┘\n",
       "</span>"
      ]
     },
     "execution_count": 1,
     "metadata": {},
     "output_type": "execute_result"
    }
   ],
   "source": [
    "⍝| echo: false\n",
    "]box on -style=max\n",
    "]rows on\n",
    "⎕io←0"
   ]
  },
  {
   "cell_type": "markdown",
   "id": "4312f316-10dc-4a41-8bd6-9ee047b775b9",
   "metadata": {},
   "source": [
    "# Intro\n",
    "\n",
    "This is another classic computer science problem. You are given a knapsack and the maximum weight it can carry. You also have a list of items. Each item has a value and a weight associated with it. Which items do you take to maximize the value you can fit into the knapsack?\n",
    "\n",
    "Why is this hard? The possible solution space is big and grows fast. If you want to check every combination of items and then take the max you have $2^i$ combinations to check. This is unworkable for even small numbers of items.\n",
    "\n",
    "The approach here is branch and bound with relaxation. See [Discrete Optimization](https://www.coursera.org/learn/discrete-optimization) for a detailed explanation. The idea is to organize the solution space into a tree and ignore branches that we know wont generate good solutions. \n",
    "\n"
   ]
  },
  {
   "cell_type": "markdown",
   "id": "87b66fad-2430-4623-839b-c4beb6630d5d",
   "metadata": {},
   "source": [
    "# Data\n",
    "\n",
    "Lets start with a small knapsack. 4 items, maximum capacity 11. This is easy to do even by hand but once we scale it up not so much.\n",
    "\n",
    "Item one is \\\\$8 and weighs 4 pounds, item 2 is \\\\$10 and weighs 5 pounds."
   ]
  },
  {
   "cell_type": "code",
   "execution_count": 2,
   "id": "2b06f44a-5fa4-4101-8f5f-bb1fe0ed656d",
   "metadata": {},
   "outputs": [
    {
     "data": {
      "text/html": [
       "<span style=\"white-space:pre; font-family: monospace\"> \n",
       "4\n",
       " \n",
       "</span>"
      ]
     },
     "execution_count": 2,
     "metadata": {},
     "output_type": "execute_result"
    },
    {
     "data": {
      "text/html": [
       "<span style=\"white-space:pre; font-family: monospace\">  \n",
       "11\n",
       "  \n",
       "</span>"
      ]
     },
     "execution_count": 2,
     "metadata": {},
     "output_type": "execute_result"
    },
    {
     "data": {
      "text/html": [
       "<span style=\"white-space:pre; font-family: monospace\">┌→──────────────────────────┐\n",
       "│ ┌→──┐ ┌→───┐ ┌→───┐ ┌→──┐ │\n",
       "│ │8 4│ │10 5│ │15 8│ │4 3│ │\n",
       "│ └~──┘ └~───┘ └~───┘ └~──┘ │\n",
       "└∊──────────────────────────┘\n",
       "</span>"
      ]
     },
     "execution_count": 2,
     "metadata": {},
     "output_type": "execute_result"
    }
   ],
   "source": [
    "⎕←item_count←4 \n",
    "⎕←max_weight←11\n",
    "⎕←items←(8 4) (10 5) (15 8) (4 3)"
   ]
  },
  {
   "cell_type": "code",
   "execution_count": 3,
   "id": "7914986e-59f1-4109-8946-8ed7d361ed1b",
   "metadata": {},
   "outputs": [
    {
     "data": {
      "text/html": [
       "<span style=\"white-space:pre; font-family: monospace\">┌→───────────────────────────────────┐\n",
       "│      ┌→──────────────────────────┐ │\n",
       "│ 4 11 │ ┌→──┐ ┌→───┐ ┌→───┐ ┌→──┐ │ │\n",
       "│      │ │8 4│ │10 5│ │15 8│ │4 3│ │ │\n",
       "│      │ └~──┘ └~───┘ └~───┘ └~──┘ │ │\n",
       "│      └∊──────────────────────────┘ │\n",
       "└∊───────────────────────────────────┘\n",
       "</span>"
      ]
     },
     "execution_count": 3,
     "metadata": {},
     "output_type": "execute_result"
    }
   ],
   "source": [
    "⎕←ks4←item_count max_weight items"
   ]
  },
  {
   "cell_type": "markdown",
   "id": "d9d26af9-87c4-4c65-9bfc-2293b12696ce",
   "metadata": {},
   "source": [
    "A solution will be a list of 1s or 0s in the same order as our item list. Each 1 or 0 will represent a decision to either take or leave that particular item. \n",
    "\n",
    "1 1 0 0 means we take items 1 and 2 and leave items 3 and 4. The value of the knapsack then is the value of item 1 plus the value of item 2 provided they both fit in the knapsack. If the weight exceeds the capacity of the knapsack the value is 0."
   ]
  },
  {
   "cell_type": "markdown",
   "id": "628d426b-fed1-45c1-a8bd-1d023cbb7f5c",
   "metadata": {},
   "source": [
    "# Branch\n",
    "\n",
    "To organize the solution space into a tree is very simple. You break it into decisions. Do I take item 1 yes or no. Then for each of those decisions you ask do I take item 2 yes or no. "
   ]
  },
  {
   "cell_type": "code",
   "execution_count": 4,
   "id": "c02f1f69-4638-4fe9-bf46-871a9c824504",
   "metadata": {},
   "outputs": [
    {
     "data": {
      "text/html": [
       "<span style=\"white-space:pre; font-family: monospace\">┌⊖┐\n",
       "│0│\n",
       "└~┘\n",
       "</span>"
      ]
     },
     "execution_count": 4,
     "metadata": {},
     "output_type": "execute_result"
    },
    {
     "data": {
      "text/html": [
       "<span style=\"white-space:pre; font-family: monospace\">┌→┐\n",
       "↓0│\n",
       "│1│\n",
       "└~┘\n",
       "</span>"
      ]
     },
     "execution_count": 4,
     "metadata": {},
     "output_type": "execute_result"
    },
    {
     "data": {
      "text/html": [
       "<span style=\"white-space:pre; font-family: monospace\">┌→──────┐\n",
       "↓ ┌→──┐ │\n",
       "│ │0 0│ │\n",
       "│ └~──┘ │\n",
       "│ ┌→──┐ │\n",
       "│ │0 1│ │\n",
       "│ └~──┘ │\n",
       "│ ┌→──┐ │\n",
       "│ │1 0│ │\n",
       "│ └~──┘ │\n",
       "│ ┌→──┐ │\n",
       "│ │1 1│ │\n",
       "│ └~──┘ │\n",
       "└∊──────┘\n",
       "</span>"
      ]
     },
     "execution_count": 4,
     "metadata": {},
     "output_type": "execute_result"
    }
   ],
   "source": [
    "⎕←⍬\n",
    "⎕←⍪0 1\n",
    "⎕←⍪(0 0) (0 1) (1 0) (1 1)"
   ]
  },
  {
   "cell_type": "markdown",
   "id": "20709524-c3e2-413a-b0f9-8286621e87ce",
   "metadata": {},
   "source": [
    "We take a partial solution and transform it into two slightly more complete solutions by making two copies and appending a 1 onto the first copy and 0 onto the other."
   ]
  },
  {
   "cell_type": "code",
   "execution_count": 5,
   "id": "40031b52-d62e-4b1d-baa6-006122f305e5",
   "metadata": {},
   "outputs": [
    {
     "data": {
      "text/html": [
       "<span style=\"white-space:pre; font-family: monospace\">┌→┐\n",
       "↓0│\n",
       "│1│\n",
       "└~┘\n",
       "</span>"
      ]
     },
     "execution_count": 5,
     "metadata": {},
     "output_type": "execute_result"
    },
    {
     "data": {
      "text/html": [
       "<span style=\"white-space:pre; font-family: monospace\">┌→──────┐\n",
       "↓ ┌→──┐ │\n",
       "│ │0 0│ │\n",
       "│ └~──┘ │\n",
       "│ ┌→──┐ │\n",
       "│ │0 1│ │\n",
       "│ └~──┘ │\n",
       "│ ┌→──┐ │\n",
       "│ │1 0│ │\n",
       "│ └~──┘ │\n",
       "│ ┌→──┐ │\n",
       "│ │1 1│ │\n",
       "│ └~──┘ │\n",
       "└∊──────┘\n",
       "</span>"
      ]
     },
     "execution_count": 5,
     "metadata": {},
     "output_type": "execute_result"
    },
    {
     "data": {
      "text/html": [
       "<span style=\"white-space:pre; font-family: monospace\">┌→────────┐\n",
       "↓ ┌→────┐ │\n",
       "│ │0 0 0│ │\n",
       "│ └~────┘ │\n",
       "│ ┌→────┐ │\n",
       "│ │0 0 1│ │\n",
       "│ └~────┘ │\n",
       "│ ┌→────┐ │\n",
       "│ │0 1 0│ │\n",
       "│ └~────┘ │\n",
       "│ ┌→────┐ │\n",
       "│ │0 1 1│ │\n",
       "│ └~────┘ │\n",
       "│ ┌→────┐ │\n",
       "│ │1 0 0│ │\n",
       "│ └~────┘ │\n",
       "│ ┌→────┐ │\n",
       "│ │1 0 1│ │\n",
       "│ └~────┘ │\n",
       "│ ┌→────┐ │\n",
       "│ │1 1 0│ │\n",
       "│ └~────┘ │\n",
       "│ ┌→────┐ │\n",
       "│ │1 1 1│ │\n",
       "│ └~────┘ │\n",
       "└∊────────┘\n",
       "</span>"
      ]
     },
     "execution_count": 5,
     "metadata": {},
     "output_type": "execute_result"
    }
   ],
   "source": [
    "branch←{⍪,((,/,∘0),(,/,∘1))⍤1⊢⍵}\n",
    "⎕←branch ⍬\n",
    "⎕←branch⍣2⊢⍬\n",
    "⎕←branch⍣3⊢⍬"
   ]
  },
  {
   "cell_type": "markdown",
   "id": "403edf5e-067b-4d9f-8cca-12e2ea29e5d2",
   "metadata": {},
   "source": [
    "# Bound\n",
    "\n",
    "To prune our tree we need two things. A valid solution we can compare the value to. And a way of generating a value we think is good predictor for how well a branch will perform. Without evaluating the branch we need to figure out how well it will do. And this is where relaxation comes in. To guess how well this will perform we relax the constraints a little to create a much easier problem. We will come up with solutions that are not in the orginal solution space but if we are careful that is ok.\n",
    "\n",
    "Getting a start solution is easy. We sort the values by item density and take items until the knapsack is full. If an item does not fit we skip it and check the next item.\n",
    "\n"
   ]
  },
  {
   "cell_type": "markdown",
   "id": "e02b5a76-4c56-4f4a-849b-85a12ef6f155",
   "metadata": {},
   "source": [
    "## Helpers\n",
    "\n",
    "Lets start off with some helper functions. \n",
    "weight and value both take a knapsack and a partial or full solution. Returns the weight or the value of the given solution"
   ]
  },
  {
   "cell_type": "code",
   "execution_count": 140,
   "id": "897586bb-aa3b-40bf-92a2-f506dee21e68",
   "metadata": {},
   "outputs": [],
   "source": [
    "]dinput\n",
    "weight←{\n",
    "    c mw is←⍺           ⍝ split the right argument into components count, max weight, and items\n",
    "    vs ws←↓⍉↑is         ⍝ extract a list of values and a list of weights from the item lis\n",
    "    psolution←c↑⍵       ⍝ pad the partial solution with 0s to the lenght of the item list\n",
    "    +/ws∧psolution      ⍝ use the partial solution as a mask to select the weights of the items we take and sum them\n",
    "}"
   ]
  },
  {
   "cell_type": "code",
   "execution_count": 10,
   "id": "d9bbc21b-999d-4dc6-ae50-2633bc94e7b4",
   "metadata": {},
   "outputs": [],
   "source": [
    "]dinput\n",
    "value←{\n",
    "    c mw is←⍺\n",
    "    mw≤⍺ weight ⍵ :0 ⍝ if the weight is more than the capacity the value is 0\n",
    "    vs ws←↓⍉↑is\n",
    "    psolution←c↑⍵\n",
    "    +/vs∧psolution\n",
    "}"
   ]
  },
  {
   "cell_type": "markdown",
   "id": "0ad2454b-07e2-49b3-8232-1eba0494d6ad",
   "metadata": {},
   "source": [
    "## Greedy\n",
    "Looks at the items in order. If it fits in the knapsack we take it if not we leave it. Then we look at the next item until we run out of items or we fill the knapsack."
   ]
  },
  {
   "cell_type": "code",
   "execution_count": 16,
   "id": "e0845186-b476-406d-ac22-3adf37759732",
   "metadata": {},
   "outputs": [],
   "source": [
    "]dinput\n",
    "greedy←{\n",
    " c mw is←⍺\n",
    " cw←⍺ weight ⍵\n",
    " c ≤ ⍴⍵: ⍺ value ⍵ ⍝ stop if we have looked at all items\n",
    " mw=cw: ⍺ value ⍵  ⍝ stop if knapsack is full\n",
    " mw<cw: 0          ⍝ stop if knapsack is overfull\n",
    " v w←⊃is↓⍨⍴⍵       ⍝ drop items that have already been considered\n",
    " ⍺∇⍵,w≤mw-cw       ⍝ recurse with an additional item considered\n",
    "}"
   ]
  },
  {
   "cell_type": "code",
   "execution_count": 29,
   "id": "a188f336-4373-4d3e-b1b0-2ef89fa3abc7",
   "metadata": {},
   "outputs": [
    {
     "data": {
      "text/html": [
       "<span style=\"white-space:pre; font-family: monospace\">  \n",
       "18\n",
       "  \n",
       "</span>"
      ]
     },
     "execution_count": 29,
     "metadata": {},
     "output_type": "execute_result"
    }
   ],
   "source": [
    "ks4 greedy ⍬"
   ]
  },
  {
   "cell_type": "markdown",
   "id": "69dcd02d-2080-4193-93d7-7b4ed6d9069a",
   "metadata": {},
   "source": [
    "## Relaxation/Optimistic solution\n",
    "\n",
    "For the optimistic solution we sort by value density take items until knapsack is full. And then break the next item into pieces and shove the broken bits into any remaining space."
   ]
  },
  {
   "cell_type": "code",
   "execution_count": 143,
   "id": "8f2e441a-a89d-4363-a34f-5e529464df3f",
   "metadata": {},
   "outputs": [],
   "source": [
    "]dinput\n",
    "optimistic←{\n",
    "     c mw is←⍺\n",
    "\n",
    "     vs ws←↓⍉↑is\n",
    "\n",
    "     cv ← ⍺ value ⍵\n",
    "     cw ← ⍺ weight ⍵\n",
    "\n",
    "     vs ws←↓⍉↑is↓⍨⍴⍵                     ⍝ drop the items already decided\n",
    "     cw>mw:0                             ⍝ if the weight already exceeds max capacity return 0\n",
    "     d←(⍴⍵)↓÷⌿⍤1⊢↑is                     ⍝ density\n",
    "     cv++/d×ws⌊0⌈¯1↓(mw-cw),(mw-cw)-+\\ws ⍝ current value plus optimistic guess for remainder\n",
    "\n",
    " }"
   ]
  },
  {
   "cell_type": "code",
   "execution_count": 144,
   "id": "39f80edf-80fd-4e7c-9fd7-78981ece458f",
   "metadata": {},
   "outputs": [
    {
     "data": {
      "text/html": [
       "<span style=\"white-space:pre; font-family: monospace\">     \n",
       "21.75\n",
       "     \n",
       "</span>"
      ]
     },
     "execution_count": 144,
     "metadata": {},
     "output_type": "execute_result"
    }
   ],
   "source": [
    "ks4 optimistic ⍬"
   ]
  },
  {
   "cell_type": "markdown",
   "id": "03329bfd-d034-4712-9334-b597a41f3348",
   "metadata": {},
   "source": [
    "## Bound\n",
    "\n",
    "Given the best solution so far, a problem config, and the list of branches we check each branches and ask what is the optimistic solution. Remember this is not a feasible solution but its better than any possible real solution. If the optimistic solution is not as good as our current best we dont need to explore the branch any further and we discard it. "
   ]
  },
  {
   "cell_type": "code",
   "execution_count": 145,
   "id": "39121783-50e7-412d-9285-cb23d3dae520",
   "metadata": {},
   "outputs": [],
   "source": [
    "]dinput\n",
    "bound←{\n",
    "     best ks←⍺\n",
    "     ⍵⌿⍨best≤ks∘optimistic∘⊃⍤1⊢⍵    ⍝ filter branches where the best solution is less than the optimistic solution \n",
    " }"
   ]
  },
  {
   "cell_type": "markdown",
   "id": "b0fadf64-bde2-4727-a96a-0c6c7602f8dc",
   "metadata": {},
   "source": [
    "# Solution\n",
    "Now that we have all the pieces we just have to put them together and run them a bunch."
   ]
  },
  {
   "cell_type": "code",
   "execution_count": 65,
   "id": "a591c049-5a4c-4395-9036-5425bde8cec6",
   "metadata": {},
   "outputs": [
    {
     "data": {
      "text/html": [
       "<span style=\"white-space:pre; font-family: monospace\">  \n",
       "18\n",
       "  \n",
       "</span>"
      ]
     },
     "execution_count": 65,
     "metadata": {},
     "output_type": "execute_result"
    }
   ],
   "source": [
    "⎕←b← ks4 greedy ⍬"
   ]
  },
  {
   "cell_type": "code",
   "execution_count": 131,
   "id": "16413107-f32f-4300-952f-87c6b5a86f20",
   "metadata": {},
   "outputs": [],
   "source": [
    "]dinput\n",
    "ks_solve←{\n",
    "     c mw is←⍵\n",
    "     g←⍵ greedy ⍬\n",
    "     s←g ⍵∘bound∘branch⍣c⊢⍬\n",
    "     ⊃(,s)⌷⍨⊂⍒⍵∘value∘⊃⍤1⊢s\n",
    "}"
   ]
  },
  {
   "cell_type": "code",
   "execution_count": 132,
   "id": "5b2fa9d0-ef52-419d-b81f-e06e42eb8345",
   "metadata": {},
   "outputs": [
    {
     "data": {
      "text/html": [
       "<span style=\"white-space:pre; font-family: monospace\">┌→──────┐\n",
       "│1 1 0 0│\n",
       "└~──────┘\n",
       "</span>"
      ]
     },
     "execution_count": 132,
     "metadata": {},
     "output_type": "execute_result"
    }
   ],
   "source": [
    "ks_solve ks4"
   ]
  },
  {
   "cell_type": "markdown",
   "id": "f8249696-1578-4042-82cd-125efceeae04",
   "metadata": {},
   "source": [
    "## Bigger?\n",
    "\n",
    "Does it work on a problem we cant solve by hand?"
   ]
  },
  {
   "cell_type": "code",
   "execution_count": 133,
   "id": "cb8897e2-0e67-4aae-8701-332ee439cd70",
   "metadata": {},
   "outputs": [],
   "source": [
    "]dinput\n",
    "read_ks←{\n",
    "     temp←↓⍎⍤1⊢↑⊃⎕NGET ⍵ 1\n",
    "     count max_weight←⊃temp\n",
    "     items←1↓temp\n",
    "     items←items⌷⍨⊂⍒÷⌿⍤1⊢↑items\n",
    "     count max_weight items\n",
    " }"
   ]
  },
  {
   "cell_type": "code",
   "execution_count": 147,
   "id": "f39ec53b-bcae-41b0-9a0b-c7f593d97f0c",
   "metadata": {},
   "outputs": [
    {
     "data": {
      "text/html": [
       "<span style=\"white-space:pre; font-family: monospace\">┌→─────────────────────────────────────────────────────────────────────────────────────────────────────────────────────────────────────────────────────────────────────────────────────────────────────────────────────────────────────────────────┐\n",
       "│          ┌→────────────────────────────────────────────────────────────────────────────────────────────────────────────────────────────────────────────────────────────────────────────────────────────────────────────────────────────────────┐ │\n",
       "│ 19 31181 │ ┌→──────────┐ ┌→──────────┐ ┌→────────┐ ┌→─────────┐ ┌→────────┐ ┌→────────┐ ┌→────────┐ ┌→────────┐ ┌→────────┐ ┌→────────┐ ┌→────────┐ ┌→───────┐ ┌→────────┐ ┌→────────┐ ┌→────────┐ ┌→───────┐ ┌→───────┐ ┌→───────┐ ┌→───────┐ │ │\n",
       "│          │ │16553 40006│ │13504 32708│ │3878 9656│ │4136 10372│ │2945 7390│ │2890 7280│ │1945 4990│ │1865 4830│ │1513 3926│ │1833 4766│ │1022 2744│ │962 2624│ │1107 3114│ │1101 3102│ │1060 3020│ │805 2310│ │689 2078│ │667 2034│ │321 1142│ │ │\n",
       "│          │ └~──────────┘ └~──────────┘ └~────────┘ └~─────────┘ └~────────┘ └~────────┘ └~────────┘ └~────────┘ └~────────┘ └~────────┘ └~────────┘ └~───────┘ └~────────┘ └~────────┘ └~────────┘ └~───────┘ └~───────┘ └~───────┘ └~───────┘ │ │\n",
       "│          └∊────────────────────────────────────────────────────────────────────────────────────────────────────────────────────────────────────────────────────────────────────────────────────────────────────────────────────────────────────┘ │\n",
       "└∊─────────────────────────────────────────────────────────────────────────────────────────────────────────────────────────────────────────────────────────────────────────────────────────────────────────────────────────────────────────────────┘\n",
       "</span>"
      ]
     },
     "execution_count": 147,
     "metadata": {},
     "output_type": "execute_result"
    }
   ],
   "source": [
    "⎕←ks19←read_ks 'ks_19_0'"
   ]
  },
  {
   "cell_type": "code",
   "execution_count": 139,
   "id": "1b1ad80a-5ea3-40a5-b308-3499d9e1e521",
   "metadata": {},
   "outputs": [
    {
     "data": {
      "text/html": [
       "<span style=\"white-space:pre; font-family: monospace\">┌→────────────────────────────────────┐\n",
       "│0 0 1 0 1 1 0 0 1 0 1 0 0 0 0 0 0 0 0│\n",
       "└~────────────────────────────────────┘\n",
       "</span>"
      ]
     },
     "execution_count": 139,
     "metadata": {},
     "output_type": "execute_result"
    },
    {
     "data": {
      "text/html": [
       "<span style=\"white-space:pre; font-family: monospace\">     \n",
       "30996\n",
       "     \n",
       "</span>"
      ]
     },
     "execution_count": 139,
     "metadata": {},
     "output_type": "execute_result"
    },
    {
     "data": {
      "text/html": [
       "<span style=\"white-space:pre; font-family: monospace\">     \n",
       "12248\n",
       "     \n",
       "</span>"
      ]
     },
     "execution_count": 139,
     "metadata": {},
     "output_type": "execute_result"
    }
   ],
   "source": [
    "⎕←ks_solve ks19\n",
    "⎕←weight∘ks_solve⍨ks19\n",
    "⎕←value∘ks_solve⍨ks19"
   ]
  },
  {
   "cell_type": "markdown",
   "id": "a1ee1317-c3a0-430b-b4b8-71c632528831",
   "metadata": {},
   "source": [
    "Is that the best solution? Dunno but it didnt explode my memory and it returned something that looks correct. Seems legit."
   ]
  },
  {
   "cell_type": "markdown",
   "id": "a70f2206-783c-4a38-a17c-94c3db747cfa",
   "metadata": {},
   "source": [
    "## Bigger??"
   ]
  },
  {
   "cell_type": "code",
   "execution_count": 148,
   "id": "7fcaa617-040d-4e76-b1c8-153810bf2bf3",
   "metadata": {},
   "outputs": [
    {
     "data": {
      "text/html": [
       "<span style=\"white-space:pre; font-family: monospace\">┌→──────────────────────────────────────────────────────────────────────────────────────────────────────────────────────────────────────────────────────────────────────────────────────────────────────────────────────────────────────────────────────────────────────────────────────────────────────────────────────────────────────────────────────────────────────────────────────────────────────────────────────────────────────────────────────────────────────────────────────────────────────────────────────────────────────────────────────────────────────────────────────────────────────────────────────────────────────────────────────────┐\n",
       "│           ┌→────────────────────────────────────────────────────────────────────────────────────────────────────────────────────────────────────────────────────────────────────────────────────────────────────────────────────────────────────────────────────────────────────────────────────────────────────────────────────────────────────────────────────────────────────────────────────────────────────────────────────────────────────────────────────────────────────────────────────────────────────────────────────────────────────────────────────────────────────────────────────────────────────────────────────────────────────────────┐ │\n",
       "│ 50 341045 │ ┌→───────────┐ ┌→───────────┐ ┌→───────────┐ ┌→──────────┐ ┌→───────────┐ ┌→──────────┐ ┌→──────────┐ ┌→──────────┐ ┌→──────────┐ ┌→──────────┐ ┌→──────────┐ ┌→──────────┐ ┌→──────────┐ ┌→──────────┐ ┌→─────────┐ ┌→─────────┐ ┌→─────────┐ ┌→─────────┐ ┌→─────────┐ ┌→─────────┐ ┌→─────────┐ ┌→────────┐ ┌→────────┐ ┌→─────────┐ ┌→────────┐ ┌→────────┐ ┌→────────┐ ┌→────────┐ ┌→────────┐ ┌→────────┐ ┌→────────┐ ┌→────────┐ ┌→────────┐ ┌→────────┐ ┌→───────┐ ┌→────────┐ ┌→───────┐ ┌→───────┐ ┌→───────┐ ┌→───────┐ ┌→───────┐ ┌→───────┐ ┌→───────┐ ┌→───────┐ ┌→───────┐ ┌→───────┐ ┌→──────┐ ┌→──────┐ ┌→──────┐ ┌→─────┐ │ │\n",
       "│           │ │96601 231302│ │77174 184848│ │50897 122094│ │29688 71276│ │45136 108372│ │41516 99732│ │23527 56554│ │23552 56804│ │23552 56804│ │13269 32038│ │15572 37644│ │16494 39888│ │14393 34886│ │11326 27552│ │7570 18440│ │7512 18324│ │5516 13532│ │4875 12050│ │4446 10992│ │4436 10972│ │4265 10630│ │3024 7548│ │3383 8466│ │4103 10306│ │2889 7278│ │2721 6942│ │2625 6750│ │1906 4912│ │2181 5662│ │2133 5566│ │2129 5558│ │1795 4690│ │1313 3526│ │1242 3384│ │952 2604│ │1086 3072│ │706 2112│ │492 1484│ │445 1390│ │620 1940│ │419 1338│ │566 1832│ │559 1818│ │348 1196│ │313 1126│ │281 1062│ │246 992│ │217 934│ │103 706│ │67 634│ │ │\n",
       "│           │ └~───────────┘ └~───────────┘ └~───────────┘ └~──────────┘ └~───────────┘ └~──────────┘ └~──────────┘ └~──────────┘ └~──────────┘ └~──────────┘ └~──────────┘ └~──────────┘ └~──────────┘ └~──────────┘ └~─────────┘ └~─────────┘ └~─────────┘ └~─────────┘ └~─────────┘ └~─────────┘ └~─────────┘ └~────────┘ └~────────┘ └~─────────┘ └~────────┘ └~────────┘ └~────────┘ └~────────┘ └~────────┘ └~────────┘ └~────────┘ └~────────┘ └~────────┘ └~────────┘ └~───────┘ └~────────┘ └~───────┘ └~───────┘ └~───────┘ └~───────┘ └~───────┘ └~───────┘ └~───────┘ └~───────┘ └~───────┘ └~───────┘ └~──────┘ └~──────┘ └~──────┘ └~─────┘ │ │\n",
       "│           └∊────────────────────────────────────────────────────────────────────────────────────────────────────────────────────────────────────────────────────────────────────────────────────────────────────────────────────────────────────────────────────────────────────────────────────────────────────────────────────────────────────────────────────────────────────────────────────────────────────────────────────────────────────────────────────────────────────────────────────────────────────────────────────────────────────────────────────────────────────────────────────────────────────────────────────────────────────────────┘ │\n",
       "└∊──────────────────────────────────────────────────────────────────────────────────────────────────────────────────────────────────────────────────────────────────────────────────────────────────────────────────────────────────────────────────────────────────────────────────────────────────────────────────────────────────────────────────────────────────────────────────────────────────────────────────────────────────────────────────────────────────────────────────────────────────────────────────────────────────────────────────────────────────────────────────────────────────────────────────────────────────────────────────────────┘\n",
       "</span>"
      ]
     },
     "execution_count": 148,
     "metadata": {},
     "output_type": "execute_result"
    }
   ],
   "source": [
    "⎕←ks50←read_ks 'ks_50_0'"
   ]
  },
  {
   "cell_type": "code",
   "execution_count": 149,
   "id": "68cb857b-346c-4a6a-af28-409ad7fbac58",
   "metadata": {},
   "outputs": [
    {
     "data": {
      "text/html": [
       "<span style=\"white-space:pre; font-family: monospace\">┌→──────────────────────────────────────────────────────────────────────────────────────────────────┐\n",
       "│1 0 0 0 1 0 0 0 0 0 0 0 0 0 0 0 0 0 0 0 0 0 0 0 0 0 0 0 0 0 0 0 0 0 0 0 0 0 0 0 1 0 0 0 0 0 0 0 0 0│\n",
       "└~──────────────────────────────────────────────────────────────────────────────────────────────────┘\n",
       "</span>"
      ]
     },
     "execution_count": 149,
     "metadata": {},
     "output_type": "execute_result"
    },
    {
     "data": {
      "text/html": [
       "<span style=\"white-space:pre; font-family: monospace\">      \n",
       "341012\n",
       "      \n",
       "</span>"
      ]
     },
     "execution_count": 149,
     "metadata": {},
     "output_type": "execute_result"
    },
    {
     "data": {
      "text/html": [
       "<span style=\"white-space:pre; font-family: monospace\">      \n",
       "142156\n",
       "      \n",
       "</span>"
      ]
     },
     "execution_count": 149,
     "metadata": {},
     "output_type": "execute_result"
    }
   ],
   "source": [
    "⎕←ks50_s←ks_solve ks50\n",
    "⎕←ks50 weight ks50_s\n",
    "⎕←ks50 value ks50_s"
   ]
  }
 ],
 "metadata": {
  "kernelspec": {
   "display_name": "Dyalog APL",
   "language": "apl",
   "name": "dyalog-kernel"
  },
  "language_info": {
   "file_extension": ".apl",
   "mimetype": "text/apl",
   "name": "APL"
  }
 },
 "nbformat": 4,
 "nbformat_minor": 5
}
