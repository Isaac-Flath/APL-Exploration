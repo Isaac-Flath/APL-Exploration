{
 "cells": [
  {
   "cell_type": "raw",
   "id": "fc828b72",
   "metadata": {},
   "source": [
    "---\n",
    "title: \"Trees\"\n",
    "author: \"Isaac Flath\"\n",
    "date: \"2022-07-18\"\n",
    "categories: [Dyalog, APL, Tabular]\n",
    "draft: true\n",
    "---"
   ]
  },
  {
   "cell_type": "code",
   "execution_count": 6,
   "id": "a8bafbca",
   "metadata": {},
   "outputs": [
    {
     "data": {
      "text/html": [
       "<span style=\"white-space:pre; font-family: monospace\">32562 15\n",
       "</span>"
      ]
     },
     "execution_count": 6,
     "metadata": {},
     "output_type": "execute_result"
    }
   ],
   "source": [
    "adult_fp ← 'adult_sample/adult.csv'\n",
    "adult ← ⎕CSV adult_fp '' 4\n",
    "⍴ adult ⍝ Check Size"
   ]
  },
  {
   "cell_type": "code",
   "execution_count": 7,
   "id": "c9747898",
   "metadata": {},
   "outputs": [
    {
     "data": {
      "text/html": [
       "<span style=\"white-space:pre; font-family: monospace\">┌───┬────────────┬──────┬───────────┬─────────────┬──────────────────┬───────────────┬─────────────┬──────────────────┬──────┬────────────┬────────────┬──────────────┬──────────────┬──────┐\n",
       "│age│workclass   │fnlwgt│education  │education-num│marital-status    │occupation     │relationship │race              │sex   │capital-gain│capital-loss│hours-per-week│native-country│salary│\n",
       "├───┼────────────┼──────┼───────────┼─────────────┼──────────────────┼───────────────┼─────────────┼──────────────────┼──────┼────────────┼────────────┼──────────────┼──────────────┼──────┤\n",
       "│49 │Private     │101320│Assoc-acdm │12           │Married-civ-spouse│               │Wife         │White             │Female│0           │1902        │40            │United-States │&gt;=50k │\n",
       "├───┼────────────┼──────┼───────────┼─────────────┼──────────────────┼───────────────┼─────────────┼──────────────────┼──────┼────────────┼────────────┼──────────────┼──────────────┼──────┤\n",
       "│44 │Private     │236746│Masters    │14           │Divorced          │Exec-managerial│Not-in-family│White             │Male  │10520       │0           │45            │United-States │&gt;=50k │\n",
       "├───┼────────────┼──────┼───────────┼─────────────┼──────────────────┼───────────────┼─────────────┼──────────────────┼──────┼────────────┼────────────┼──────────────┼──────────────┼──────┤\n",
       "│38 │Private     │96185 │HS-grad    │             │Divorced          │               │Unmarried    │Black             │Female│0           │0           │32            │United-States │&lt;50k  │\n",
       "├───┼────────────┼──────┼───────────┼─────────────┼──────────────────┼───────────────┼─────────────┼──────────────────┼──────┼────────────┼────────────┼──────────────┼──────────────┼──────┤\n",
       "│38 │Self-emp-inc│112847│Prof-school│15           │Married-civ-spouse│Prof-specialty │Husband      │Asian-Pac-Islander│Male  │0           │0           │40            │United-States │&gt;=50k │\n",
       "└───┴────────────┴──────┴───────────┴─────────────┴──────────────────┴───────────────┴─────────────┴──────────────────┴──────┴────────────┴────────────┴──────────────┴──────────────┴──────┘\n",
       "</span>"
      ]
     },
     "execution_count": 7,
     "metadata": {},
     "output_type": "execute_result"
    }
   ],
   "source": [
    "5↑adult"
   ]
  },
  {
   "cell_type": "markdown",
   "id": "cd73650f",
   "metadata": {},
   "source": [
    "# Decision Tree"
   ]
  },
  {
   "cell_type": "markdown",
   "id": "41591457",
   "metadata": {},
   "source": [
    "## Get Small Sample"
   ]
  },
  {
   "cell_type": "code",
   "execution_count": 8,
   "id": "ef0165f6",
   "metadata": {
    "scrolled": true
   },
   "outputs": [
    {
     "data": {
      "text/html": [
       "<span style=\"white-space:pre; font-family: monospace\">┌───┬────────────┬──────┐\n",
       "│age│workclass   │salary│\n",
       "├───┼────────────┼──────┤\n",
       "│49 │Private     │&gt;=50k │\n",
       "├───┼────────────┼──────┤\n",
       "│44 │Private     │&gt;=50k │\n",
       "├───┼────────────┼──────┤\n",
       "│38 │Private     │&lt;50k  │\n",
       "├───┼────────────┼──────┤\n",
       "│38 │Self-emp-inc│&gt;=50k │\n",
       "└───┴────────────┴──────┘\n",
       "</span>"
      ]
     },
     "execution_count": 8,
     "metadata": {},
     "output_type": "execute_result"
    }
   ],
   "source": [
    "⍝ Get sample of data\n",
    "col_mask ← ∊ (2⍴1) (12⍴0) 1\n",
    "adult_sample ← col_mask / 10↑adult\n",
    "5↑adult_sample"
   ]
  },
  {
   "cell_type": "markdown",
   "id": "d887c431",
   "metadata": {},
   "source": [
    "## Encode the matrix"
   ]
  },
  {
   "cell_type": "code",
   "execution_count": 9,
   "id": "9cb0bc9c",
   "metadata": {},
   "outputs": [
    {
     "data": {
      "text/html": [
       "<span style=\"white-space:pre; font-family: monospace\">0 1 0\n",
       "</span>"
      ]
     },
     "execution_count": 9,
     "metadata": {},
     "output_type": "execute_result"
    }
   ],
   "source": [
    "⍝ Get a mask to select a particular column\n",
    "colnum_mask ← {∊((⍺-1)⍴0) 1 ((⍺-⍨⊣/⍴⍉1↑⍵)⍴0)}\n",
    "2 colnum_mask adult_sample"
   ]
  },
  {
   "cell_type": "code",
   "execution_count": 10,
   "id": "1f2ba981",
   "metadata": {},
   "outputs": [
    {
     "data": {
      "text/html": [
       "<span style=\"white-space:pre; font-family: monospace\">┌────────────────┐\n",
       "│Private         │\n",
       "├────────────────┤\n",
       "│Private         │\n",
       "├────────────────┤\n",
       "│Private         │\n",
       "├────────────────┤\n",
       "│Self-emp-inc    │\n",
       "├────────────────┤\n",
       "│Self-emp-not-inc│\n",
       "├────────────────┤\n",
       "│Private         │\n",
       "├────────────────┤\n",
       "│Private         │\n",
       "├────────────────┤\n",
       "│Private         │\n",
       "├────────────────┤\n",
       "│Private         │\n",
       "└────────────────┘\n",
       "</span>"
      ]
     },
     "execution_count": 10,
     "metadata": {},
     "output_type": "execute_result"
    }
   ],
   "source": [
    "⍝ Select a column of data\n",
    "colloc ← {(⍺ colnum_mask ⍵) / (df←1↓⍵)} \n",
    "⎕←col ← 2 colloc adult_sample"
   ]
  },
  {
   "cell_type": "code",
   "execution_count": 13,
   "id": "1d55b26b",
   "metadata": {},
   "outputs": [
    {
     "data": {
      "text/html": [
       "<span style=\"white-space:pre; font-family: monospace\">┌───┬───┬───┐\n",
       "│┌─┐│┌─┐│┌─┐│\n",
       "││1│││1│││1││\n",
       "││2│││1│││1││\n",
       "││3│││1│││2││\n",
       "││3│││2│││1││\n",
       "││4│││3│││2││\n",
       "││5│││1│││2││\n",
       "││1│││1│││2││\n",
       "││6│││1│││2││\n",
       "││7│││1│││1││\n",
       "│└─┘│└─┘│└─┘│\n",
       "└───┴───┴───┘\n",
       "</span>"
      ]
     },
     "execution_count": 13,
     "metadata": {},
     "output_type": "execute_result"
    },
    {
     "data": {
      "text/html": [
       "<span style=\"white-space:pre; font-family: monospace\">┌──────────────────────┬─────────────────────────────────────────┬──────────────┐\n",
       "│┌────────────────────┐│┌───────────────────────────────────────┐│┌────────────┐│\n",
       "││49 44 38 42 20 37 46│││┌───────┬────────────┬────────────────┐│││┌─────┬────┐││\n",
       "│└────────────────────┘│││Private│Self-emp-inc│Self-emp-not-inc│││││&gt;=50k│&lt;50k│││\n",
       "│                      ││└───────┴────────────┴────────────────┘│││└─────┴────┘││\n",
       "│                      │└───────────────────────────────────────┘│└────────────┘│\n",
       "└──────────────────────┴─────────────────────────────────────────┴──────────────┘\n",
       "</span>"
      ]
     },
     "execution_count": 13,
     "metadata": {},
     "output_type": "execute_result"
    }
   ],
   "source": [
    "⍝ Numerical encoding of all columns\n",
    "encode ← {(uv ⍳ col) (uv ← (≠col) / ,(col←⍺ colloc ⍵))}\n",
    "encoded ← (⍳3) encode¨ 3⍴⊂adult_sample\n",
    "\n",
    "⍝ Get data vs keys\n",
    "⎕←data ← ⊣/¨encoded\n",
    "⎕←keys ← ⊢/¨encoded"
   ]
  },
  {
   "cell_type": "markdown",
   "id": "f839ec4a",
   "metadata": {},
   "source": [
    "## Evaluate all splits"
   ]
  },
  {
   "cell_type": "code",
   "execution_count": 14,
   "id": "cfc786ac",
   "metadata": {},
   "outputs": [
    {
     "data": {
      "text/html": [
       "<span style=\"white-space:pre; font-family: monospace\">┌───────────────────────────────────────────────────────────────────────────────┐\n",
       "│┌─────────────────────────────────────────────────────────────────────────────┐│\n",
       "││0.5555555556 0.6666666667 0.6666666667 0.5555555556 0.4444444444 0.3333333333││\n",
       "│├─────────────────────────────────────────────────────────────────────────────┤│\n",
       "││0.4444444444 0.3333333333 0.3333333333 0.4444444444 0.5555555556 0.6666666667││\n",
       "│└─────────────────────────────────────────────────────────────────────────────┘│\n",
       "├───────────────────────────────────────────────────────────────────────────────┤\n",
       "│┌─────────────────────────┐                                                    │\n",
       "││0.4444444444 0.5555555556│                                                    │\n",
       "│├─────────────────────────┤                                                    │\n",
       "││0.5555555556 0.4444444444│                                                    │\n",
       "│└─────────────────────────┘                                                    │\n",
       "└───────────────────────────────────────────────────────────────────────────────┘\n",
       "</span>"
      ]
     },
     "execution_count": 14,
     "metadata": {},
     "output_type": "execute_result"
    }
   ],
   "source": [
    "⍝ Evaluate all splits for all cols\n",
    "pos_cor ← {2 1⍴(1-_tmp) (_tmp←∊(⍴y) ÷⍨ +/ (y←∊⊢/⍵-1) = ⍨ (⊂ 1↓(≠ col) / col) < ⍨ (col ← ∊⍺/⍵))}\n",
    "\n",
    "\n",
    "⎕←pos_acc ← 2 1⍴ (1 0 0) (0 1 0) pos_cor¨ 2⍴⊂data"
   ]
  },
  {
   "cell_type": "markdown",
   "id": "52e49e9d",
   "metadata": {},
   "source": [
    "## Choose Best Split"
   ]
  },
  {
   "cell_type": "code",
   "execution_count": 28,
   "id": "8fabc5fb",
   "metadata": {},
   "outputs": [
    {
     "data": {
      "text/html": [
       "<span style=\"white-space:pre; font-family: monospace\">1\n",
       "</span>"
      ]
     },
     "execution_count": 28,
     "metadata": {},
     "output_type": "execute_result"
    }
   ],
   "source": [
    "1"
   ]
  },
  {
   "cell_type": "code",
   "execution_count": 29,
   "id": "1c101852",
   "metadata": {},
   "outputs": [
    {
     "data": {
      "text/html": [
       "<span style=\"white-space:pre; font-family: monospace\">2\n",
       "</span>"
      ]
     },
     "execution_count": 29,
     "metadata": {},
     "output_type": "execute_result"
    }
   ],
   "source": [
    "2"
   ]
  },
  {
   "cell_type": "code",
   "execution_count": null,
   "id": "ad8147f2",
   "metadata": {},
   "outputs": [],
   "source": []
  }
 ],
 "metadata": {
  "kernelspec": {
   "display_name": "Dyalog APL",
   "language": "apl",
   "name": "dyalog-kernel"
  },
  "language_info": {
   "file_extension": ".apl",
   "mimetype": "text/apl",
   "name": "APL"
  },
  "toc": {
   "base_numbering": 1,
   "nav_menu": {},
   "number_sections": true,
   "sideBar": true,
   "skip_h1_title": false,
   "title_cell": "Table of Contents",
   "title_sidebar": "Contents",
   "toc_cell": false,
   "toc_position": {},
   "toc_section_display": true,
   "toc_window_display": false
  }
 },
 "nbformat": 4,
 "nbformat_minor": 5
}
