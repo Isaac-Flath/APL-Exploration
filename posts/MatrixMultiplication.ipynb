{
 "cells": [
  {
   "cell_type": "raw",
   "metadata": {},
   "source": [
    "---\n",
    "title: \"Matrix Multiplication\"\n",
    "author: \"Isaac Flath\"\n",
    "date: \"2022-07-10\"\n",
    "categories: [Dyalog, APL, Linear Algebra]\n",
    "image: \"LinearAlgebra1.png\"\n",
    "---"
   ]
  },
  {
   "cell_type": "markdown",
   "metadata": {},
   "source": [
    "# Introduction\n",
    "\n",
    "I am working through a couple of linear algebra books/courses as I write this.  All content in here will be heavily inspired by those resources:\n",
    "\n",
    "+ Gilbert Strang. 18.06 Linear Algebra. Spring 2010. Massachusetts Institute of Technology: MIT OpenCourseWare, https://ocw.mit.edu. License: Creative Commons BY-NC-SA.\n",
    "+ Applied Linear Algebra with A. P. L. by Garry Helzer (Author)\n",
    "\n",
    "\n",
    "**I have 2 main goals:**\n",
    "+ Learn Dyalog APL:  APL works very differently than other languages I have done.  By learning it I will learn another way of thinking and approaching problems.  By having more ways to think and approach problems I become smarter.  I want to be smarter.\n",
    "+ Improve my mathematical foundation\n",
    "\n",
    "To do this I plan to go through math material and courses in Dyalog APL.  In the beginning I will be reviewing basic math while learning APL, but eventually I will get to content where I am both learning APL and math at the same time.  This is where I will document what I do.\n",
    "\n",
    "**Where to learn APL**\n",
    "\n",
    "Check out the [fastai apl study group](https://forums.fast.ai/t/apl-array-programming/97188), accompanying [videos](https://www.youtube.com/playlist?list=PLfYUBJiXbdtSgU6S_3l6pX-4hQYKNJZFU), and [anki decks](https://github.com/Isaac-Flath/anki/) if you want to learn APL ."
   ]
  },
  {
   "cell_type": "markdown",
   "metadata": {},
   "source": [
    "# Vector Name Conventions\n",
    "\n",
    "For this (and other) posts I will follow the naming conventions in [APL cart](https://aplcart.info/) to keep things consistent with the APL community.  For convenience here they are:\n",
    "\n",
    "+ X, Y, Z: any type array  \n",
    "+ M, N: numeric array  \n",
    "+ I, J: integer array  \n",
    "+ A, B: Boolean array  \n",
    "+ C, D: character array  \n",
    "+ f, g, h: function  \n",
    "+ ax: bracket axis  \n",
    "+ s: scalar  \n",
    "+ v: vector  \n",
    "+ m: matrix\n",
    "\n",
    "If you find it hard to keep track of - I would recommend making a short [anki](https://apps.ankiweb.net/) deck to remember them."
   ]
  },
  {
   "cell_type": "markdown",
   "metadata": {},
   "source": [
    "# Matrix Multiplication (`matrix × vector`)\n",
    "\n",
    "Let's start with a matrix and a vector and multiply them together.  First, we define the our variables."
   ]
  },
  {
   "cell_type": "code",
   "execution_count": 1,
   "metadata": {},
   "outputs": [
    {
     "data": {
      "text/html": [
       "<span style=\"white-space:pre; font-family: monospace\">┌→────────────────┐\n",
       "│Was ON -style=max│\n",
       "└─────────────────┘\n",
       "</span>"
      ]
     },
     "execution_count": 1,
     "metadata": {},
     "output_type": "execute_result"
    }
   ],
   "source": [
    "⍝| include: false\n",
    "]box on -style=max"
   ]
  },
  {
   "cell_type": "code",
   "execution_count": 2,
   "metadata": {
    "scrolled": true
   },
   "outputs": [
    {
     "data": {
      "text/html": [
       "<span style=\"white-space:pre; font-family: monospace\">┌→──┐\n",
       "↓2 5│\n",
       "│1 3│\n",
       "└~──┘\n",
       "</span>"
      ]
     },
     "execution_count": 2,
     "metadata": {},
     "output_type": "execute_result"
    },
    {
     "data": {
      "text/html": [
       "<span style=\"white-space:pre; font-family: monospace\">┌→┐\n",
       "↓1│\n",
       "│2│\n",
       "└~┘\n",
       "</span>"
      ]
     },
     "execution_count": 2,
     "metadata": {},
     "output_type": "execute_result"
    }
   ],
   "source": [
    "⎕ ← M ← 2 2 ⍴ 2 5 1 3\n",
    "⎕ ← N ← 2 1 ⍴ 1 2"
   ]
  },
  {
   "cell_type": "markdown",
   "metadata": {},
   "source": [
    "## Manual Calculation"
   ]
  },
  {
   "cell_type": "markdown",
   "metadata": {},
   "source": [
    "We take the rows of `N` times the columns of `M` to do a linear combination to do matrix multiplication.\n",
    "\n",
    "$1\\begin{bmatrix}2\\\\1\\end{bmatrix} + 2\\begin{bmatrix}5\\\\3\\end{bmatrix}$\n",
    "\n",
    "We can do this exactly in APL and see our answer."
   ]
  },
  {
   "cell_type": "code",
   "execution_count": 3,
   "metadata": {
    "scrolled": true
   },
   "outputs": [
    {
     "data": {
      "text/html": [
       "<span style=\"white-space:pre; font-family: monospace\">┌→───┐\n",
       "│12 7│\n",
       "└~───┘\n",
       "</span>"
      ]
     },
     "execution_count": 3,
     "metadata": {},
     "output_type": "execute_result"
    }
   ],
   "source": [
    "⎕ ← (col1 ← M[;1] × N[1;]) + (col2 ← M[;2] × N[2;])"
   ]
  },
  {
   "cell_type": "markdown",
   "metadata": {},
   "source": [
    "## APL Calculation"
   ]
  },
  {
   "cell_type": "markdown",
   "metadata": {},
   "source": [
    "### Dot"
   ]
  },
  {
   "cell_type": "markdown",
   "metadata": {},
   "source": [
    "in APL we would normally not write is all out but would write it using the dot (`.`) function.  Let's figure out what that is and how it works.\n",
    "\n",
    "The `.` applies the operators the surround it (`⍺⍺` and `⍵⍵`) in a specific way and order called an inner product.  \n",
    "\n",
    "In our matrix multiplication problem it looks like this.  $\\begin{bmatrix}(1⍵⍵2)⍺⍺(2⍵⍵5)\\\\(1⍵⍵1)⍺⍺(2⍵⍵3)\\end{bmatrix}$\n",
    "\n",
    "Let's walk through this in our matrix multiplication example above one operator at a time to understand it a bit better"
   ]
  },
  {
   "cell_type": "markdown",
   "metadata": {},
   "source": [
    "### Apply the `⍵⍵` argument\n",
    "\n",
    "I like to visualize the first step like this:\n",
    "\n",
    "$\\begin{bmatrix}⍵⍵&&1\\\\&⍵⍵&2\\\\2&5&\\end{bmatrix}$\n",
    "\n",
    "$\\begin{bmatrix}⍵⍵&&1\\\\&⍵⍵&2\\\\1&3&\\end{bmatrix}$\n",
    "\n",
    "\n",
    "We first apply whatever the `⍵⍵` parameter is and combine elements.  Just as we did above manually we need to do multiplication here so we know the `⍵⍵` parameter must be `×`.  These calculation are:"
   ]
  },
  {
   "cell_type": "markdown",
   "metadata": {},
   "source": [
    "Matrix 1:\n",
    "\n",
    "+ `1 × 2 = 2`\n",
    "+ `2 × 5 = 10`\n",
    "\n",
    "Matrix 2:\n",
    "\n",
    "+ `1 × 1 = 1`\n",
    "+ `2 × 3 = 6`"
   ]
  },
  {
   "cell_type": "markdown",
   "metadata": {},
   "source": [
    "So far we have `⍺⍺.×`.  We can show the result of our calculations above in matrices.\n",
    "\n",
    "$\\begin{bmatrix}2&⍺⍺\\\\&10\\end{bmatrix}$\n",
    "\n",
    "$\\begin{bmatrix}1&⍺⍺\\\\&6\\end{bmatrix}$\n",
    "\n",
    "### Apply the ⍺⍺ argument\n",
    "\n",
    "The next thing the `.` operator does is combine all the numbers in each of step 1 resulting matrices using `⍺⍺`.  To get the linear combination we did above we need to add the numbers in each matrix, so the `⍺⍺` operator must be `+`."
   ]
  },
  {
   "cell_type": "markdown",
   "metadata": {},
   "source": [
    "If we do that addition:\n",
    "\n",
    "+ Matrix 1: `2 + 10 = 12`\n",
    "\n",
    "+ Matrix 2: `1 + 6 = 7`\n",
    "\n",
    "Leaving us with our answer of $\\begin{bmatrix}12\\\\7\\end{bmatrix}$\n",
    "\n",
    "So to do matrix multiplication we simply need to use:"
   ]
  },
  {
   "cell_type": "code",
   "execution_count": 90,
   "metadata": {},
   "outputs": [
    {
     "data": {
      "text/html": [
       "<span style=\"white-space:pre; font-family: monospace\">┌→────┐\n",
       "↓17 24│\n",
       "│10 14│\n",
       "└~────┘\n",
       "</span>"
      ]
     },
     "execution_count": 90,
     "metadata": {},
     "output_type": "execute_result"
    }
   ],
   "source": [
    "M +.× N"
   ]
  },
  {
   "cell_type": "markdown",
   "metadata": {},
   "source": [
    "### Dot is flexible"
   ]
  },
  {
   "cell_type": "markdown",
   "metadata": {},
   "source": [
    "This was just 1 example of using the `.` operator.  We used `+` as `⍺⍺` and `×` as `⍵⍵` to fit what we needed for this problem."
   ]
  },
  {
   "cell_type": "markdown",
   "metadata": {},
   "source": [
    "Now that we understand that, we can flip our operators and look at `×.+` instead of `+.×`. We can also do any number of other operators to do lots of different matrix operations.  Take a look at the examples below and try calculating them by hand to see what you get!"
   ]
  },
  {
   "cell_type": "code",
   "execution_count": 5,
   "metadata": {},
   "outputs": [
    {
     "data": {
      "text/html": [
       "<span style=\"white-space:pre; font-family: monospace\">┌→─┐\n",
       "↓12│\n",
       "│ 7│\n",
       "└~─┘\n",
       "</span>"
      ]
     },
     "execution_count": 5,
     "metadata": {},
     "output_type": "execute_result"
    }
   ],
   "source": [
    "⍝ using addition.multiplication (normal matrix multiplication) \n",
    "M+.×N "
   ]
  },
  {
   "cell_type": "code",
   "execution_count": 6,
   "metadata": {},
   "outputs": [
    {
     "data": {
      "text/html": [
       "<span style=\"white-space:pre; font-family: monospace\">┌→─┐\n",
       "↓21│\n",
       "│10│\n",
       "└~─┘\n",
       "</span>"
      ]
     },
     "execution_count": 6,
     "metadata": {},
     "output_type": "execute_result"
    }
   ],
   "source": [
    "⍝ using multiplication.addition\n",
    "M×.+N "
   ]
  },
  {
   "cell_type": "code",
   "execution_count": 7,
   "metadata": {},
   "outputs": [
    {
     "data": {
      "text/html": [
       "<span style=\"white-space:pre; font-family: monospace\">┌→┐\n",
       "↓2│\n",
       "│2│\n",
       "└~┘\n",
       "</span>"
      ]
     },
     "execution_count": 7,
     "metadata": {},
     "output_type": "execute_result"
    }
   ],
   "source": [
    "⍝ using max.min\n",
    "M⌈.⌊N"
   ]
  },
  {
   "cell_type": "code",
   "execution_count": 8,
   "metadata": {},
   "outputs": [
    {
     "data": {
      "text/html": [
       "<span style=\"white-space:pre; font-family: monospace\">┌→─┐\n",
       "↓¯4│\n",
       "│¯3│\n",
       "└~─┘\n",
       "</span>"
      ]
     },
     "execution_count": 8,
     "metadata": {},
     "output_type": "execute_result"
    }
   ],
   "source": [
    "⍝ using addition.subtraction\n",
    "M-.+N"
   ]
  },
  {
   "cell_type": "code",
   "execution_count": 9,
   "metadata": {},
   "outputs": [
    {
     "data": {
      "text/html": [
       "<span style=\"white-space:pre; font-family: monospace\">┌→──────────┐\n",
       "↓5.656854249│\n",
       "│1          │\n",
       "└~──────────┘\n",
       "</span>"
      ]
     },
     "execution_count": 9,
     "metadata": {},
     "output_type": "execute_result"
    }
   ],
   "source": [
    "⍝ using exponent.division\n",
    "M*.÷N"
   ]
  },
  {
   "cell_type": "code",
   "execution_count": 10,
   "metadata": {},
   "outputs": [
    {
     "data": {
      "text/html": [
       "<span style=\"white-space:pre; font-family: monospace\">┌→───────────┐\n",
       "↓1           │\n",
       "│0.6309297536│\n",
       "└~───────────┘\n",
       "</span>"
      ]
     },
     "execution_count": 10,
     "metadata": {},
     "output_type": "execute_result"
    }
   ],
   "source": [
    "⍝ using factorial.natural_log\n",
    "M!.⍟N"
   ]
  },
  {
   "cell_type": "markdown",
   "metadata": {},
   "source": [
    "# Matrix Multiplication (`matrix × matrix`)"
   ]
  },
  {
   "cell_type": "markdown",
   "metadata": {},
   "source": [
    "As you might imagine we can do a variety of shapes.  Because we are simply applying our addition and multiplication operators, any shapes where those operators work works.  Let's go through another example, this time with two 2x2 matrices.\n",
    "\n",
    "First we need to define our variables we want to multiply together."
   ]
  },
  {
   "cell_type": "code",
   "execution_count": 94,
   "metadata": {},
   "outputs": [
    {
     "data": {
      "text/html": [
       "<span style=\"white-space:pre; font-family: monospace\">┌→──┐\n",
       "↓2 5│\n",
       "│1 3│\n",
       "└~──┘\n",
       "</span>"
      ]
     },
     "execution_count": 94,
     "metadata": {},
     "output_type": "execute_result"
    },
    {
     "data": {
      "text/html": [
       "<span style=\"white-space:pre; font-family: monospace\">┌→──┐\n",
       "↓1 2│\n",
       "│3 4│\n",
       "└~──┘\n",
       "</span>"
      ]
     },
     "execution_count": 94,
     "metadata": {},
     "output_type": "execute_result"
    }
   ],
   "source": [
    "⎕ ← M ← 2 2 ⍴ 2 5 1 3\n",
    "⎕ ← N ← 2 2 ⍴ 1 2 3 4"
   ]
  },
  {
   "cell_type": "markdown",
   "metadata": {},
   "source": [
    "### Manual Calculation"
   ]
  },
  {
   "cell_type": "markdown",
   "metadata": {},
   "source": [
    "We learned how to do matrix multiplication earlier which was just taking linear combinations of rows and columns.  Let's try to do that same thing here as well.  In our previous example we were using all scalars because 1 row of `N` was a scalar, but let's just follow our rule and put a vector in and see what happens."
   ]
  },
  {
   "cell_type": "markdown",
   "metadata": {},
   "source": [
    "$\\begin{bmatrix}([1,2]⍵⍵2)⍺⍺([3,4]⍵⍵5)\\\\([1,2]⍵⍵1)⍺⍺([3,4]⍵⍵3)\\end{bmatrix}$"
   ]
  },
  {
   "cell_type": "markdown",
   "metadata": {},
   "source": [
    "As you can see this matrix multiplication is still just a linear combination taking the rows of N × the column of M.  I believe it is most intuitive to think of matrix multiplication as a linear combination of the columns of M.  \n",
    "\n",
    ">Note:  There are many other ways to define functions to get the same number (such as using looping or recursion).  The most intuitive way to think about something is not necessarily the most efficient way to program a function to tell a computer to calculate the number (which will depend on what programming language you are using)."
   ]
  },
  {
   "cell_type": "code",
   "execution_count": 106,
   "metadata": {},
   "outputs": [
    {
     "data": {
      "text/html": [
       "<span style=\"white-space:pre; font-family: monospace\">┌→────────────────┐\n",
       "│ ┌→────┐ ┌→────┐ │\n",
       "│ │17 24│ │10 14│ │\n",
       "│ └~────┘ └~────┘ │\n",
       "└∊────────────────┘\n",
       "</span>"
      ]
     },
     "execution_count": 106,
     "metadata": {},
     "output_type": "execute_result"
    }
   ],
   "source": [
    "⎕←ans ← ((1 2 × 2) + (3 4 × 5)) ((1 2 × 1) + (3 4 × 3))"
   ]
  },
  {
   "cell_type": "markdown",
   "metadata": {},
   "source": [
    "To make it equivilant to the apl operator we need to reshape this array of arrays into a 2 × 2"
   ]
  },
  {
   "cell_type": "code",
   "execution_count": 107,
   "metadata": {},
   "outputs": [
    {
     "data": {
      "text/html": [
       "<span style=\"white-space:pre; font-family: monospace\">┌→────┐\n",
       "↓17 24│\n",
       "│10 14│\n",
       "└~────┘\n",
       "</span>"
      ]
     },
     "execution_count": 107,
     "metadata": {},
     "output_type": "execute_result"
    }
   ],
   "source": [
    "⎕ ← ans ← 2 2 ⍴ ∊ ans"
   ]
  },
  {
   "cell_type": "markdown",
   "metadata": {},
   "source": [
    "Let's use the matrix multiplication in APL to prove that it's really getting the same answer.  We can use `≡`to test for equality"
   ]
  },
  {
   "cell_type": "code",
   "execution_count": 108,
   "metadata": {},
   "outputs": [
    {
     "data": {
      "text/html": [
       "<span style=\"white-space:pre; font-family: monospace\"> \n",
       "1\n",
       " \n",
       "</span>"
      ]
     },
     "execution_count": 108,
     "metadata": {},
     "output_type": "execute_result"
    }
   ],
   "source": [
    "ans ≡ M +.× N"
   ]
  },
  {
   "cell_type": "markdown",
   "metadata": {},
   "source": [
    "We can also see this in the same matrix format we did in our first example of a matrix and a vector, which is doing the same thing but I think illustrates it clearer.  Let's start with our problem again:\n",
    "\n",
    "$\\begin{bmatrix}2&5\\\\1&3\\end{bmatrix}$\n",
    "$\\begin{bmatrix}1&2\\\\3&4\\end{bmatrix}$"
   ]
  },
  {
   "cell_type": "markdown",
   "metadata": {},
   "source": [
    "### Apply the `⍵⍵` argument"
   ]
  },
  {
   "cell_type": "markdown",
   "metadata": {},
   "source": [
    "$\\begin{bmatrix}⍵⍵&&[1,2]\\\\&⍵⍵&[3,4]\\\\2&5&\\end{bmatrix}$\n",
    "\n",
    "$\\begin{bmatrix}⍵⍵&&[1,2]\\\\&⍵⍵&[3,4]\\\\1&3&\\end{bmatrix}$\n",
    "\n",
    "Since `⍵⍵` is `×` we do that first and get to our next step "
   ]
  },
  {
   "cell_type": "markdown",
   "metadata": {},
   "source": [
    "### Apply the ⍺⍺ argument"
   ]
  },
  {
   "cell_type": "markdown",
   "metadata": {},
   "source": [
    "$\\begin{bmatrix}[2,4]&⍺⍺\\\\&[15,20]\\end{bmatrix}$\n",
    "\n",
    "$\\begin{bmatrix}[1,2]&⍺⍺\\\\&[9,12]\\end{bmatrix}$\n",
    "\n",
    "`⍺⍺` is `+` so we can do the addition to end with"
   ]
  },
  {
   "cell_type": "markdown",
   "metadata": {},
   "source": [
    "$\\begin{bmatrix}17&24\\end{bmatrix}$\n",
    "\n",
    "$\\begin{bmatrix}10&14\\end{bmatrix}$"
   ]
  },
  {
   "cell_type": "markdown",
   "metadata": {},
   "source": [
    "Which again matches the inner product that APL does."
   ]
  },
  {
   "cell_type": "code",
   "execution_count": 109,
   "metadata": {},
   "outputs": [
    {
     "data": {
      "text/html": [
       "<span style=\"white-space:pre; font-family: monospace\">┌→────┐\n",
       "↓17 24│\n",
       "│10 14│\n",
       "└~────┘\n",
       "</span>"
      ]
     },
     "execution_count": 109,
     "metadata": {},
     "output_type": "execute_result"
    }
   ],
   "source": [
    "M +.× N"
   ]
  }
 ],
 "metadata": {
  "kernelspec": {
   "display_name": "Dyalog APL",
   "language": "apl",
   "name": "dyalog-kernel"
  },
  "language_info": {
   "file_extension": ".apl",
   "mimetype": "text/apl",
   "name": "APL"
  },
  "toc": {
   "base_numbering": 1,
   "nav_menu": {},
   "number_sections": true,
   "sideBar": true,
   "skip_h1_title": false,
   "title_cell": "Table of Contents",
   "title_sidebar": "Contents",
   "toc_cell": false,
   "toc_position": {},
   "toc_section_display": true,
   "toc_window_display": false
  }
 },
 "nbformat": 4,
 "nbformat_minor": 4
}
