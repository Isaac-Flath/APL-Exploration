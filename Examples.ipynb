{
 "cells": [
  {
   "cell_type": "raw",
   "id": "7d2e1a79",
   "metadata": {},
   "source": [
    "---\n",
    "title: \"Example Patterns\"\n",
    "author: \"Isaac Flath\"\n",
    "date: \"2022-07-17\"\n",
    "categories: [Dyalog, APL, Tabular]\n",
    "draft: true\n",
    "---"
   ]
  },
  {
   "cell_type": "markdown",
   "id": "2e3d8d80",
   "metadata": {},
   "source": [
    "## `+`: + : Plus"
   ]
  },
  {
   "cell_type": "markdown",
   "id": "8be1d4ad",
   "metadata": {
    "heading_collapsed": true
   },
   "source": [
    "### Conjugate"
   ]
  },
  {
   "cell_type": "markdown",
   "id": "724f843d",
   "metadata": {
    "heading_collapsed": true
   },
   "source": [
    "### Plus"
   ]
  },
  {
   "cell_type": "markdown",
   "id": "1fa11902",
   "metadata": {
    "heading_collapsed": true,
    "hidden": true
   },
   "source": [
    "#### Matrix Multiplication "
   ]
  },
  {
   "cell_type": "code",
   "execution_count": 1,
   "id": "45bac2c2",
   "metadata": {
    "hidden": true
   },
   "outputs": [
    {
     "data": {
      "text/html": [
       "<span style=\"white-space:pre; font-family: monospace\"> 7  4\n",
       "15 10\n",
       "</span>"
      ]
     },
     "execution_count": 1,
     "metadata": {},
     "output_type": "execute_result"
    }
   ],
   "source": [
    "M1 ← 2 2 ⍴ ⍳4\n",
    "M2 ← 2 2 ⍴ ⍳4 - 1\n",
    "M1 +.× M2"
   ]
  },
  {
   "cell_type": "markdown",
   "id": "898d9c11",
   "metadata": {
    "heading_collapsed": true,
    "hidden": true
   },
   "source": [
    "#### Sum Aggregation "
   ]
  },
  {
   "cell_type": "code",
   "execution_count": 2,
   "id": "1a4d0bb7",
   "metadata": {
    "hidden": true
   },
   "outputs": [
    {
     "data": {
      "text/html": [
       "<span style=\"white-space:pre; font-family: monospace\">1 2 3\n",
       "4 5 6\n",
       "</span>"
      ]
     },
     "execution_count": 2,
     "metadata": {},
     "output_type": "execute_result"
    },
    {
     "data": {
      "text/html": [
       "<span style=\"white-space:pre; font-family: monospace\">6 15\n",
       "</span>"
      ]
     },
     "execution_count": 2,
     "metadata": {},
     "output_type": "execute_result"
    },
    {
     "data": {
      "text/html": [
       "<span style=\"white-space:pre; font-family: monospace\">5 7 9\n",
       "</span>"
      ]
     },
     "execution_count": 2,
     "metadata": {},
     "output_type": "execute_result"
    },
    {
     "data": {
      "text/html": [
       "<span style=\"white-space:pre; font-family: monospace\">5 7 9\n",
       "</span>"
      ]
     },
     "execution_count": 2,
     "metadata": {},
     "output_type": "execute_result"
    },
    {
     "data": {
      "text/html": [
       "<span style=\"white-space:pre; font-family: monospace\">21\n",
       "</span>"
      ]
     },
     "execution_count": 2,
     "metadata": {},
     "output_type": "execute_result"
    },
    {
     "data": {
      "text/html": [
       "<span style=\"white-space:pre; font-family: monospace\">1 3  6\n",
       "4 9 15\n",
       "</span>"
      ]
     },
     "execution_count": 2,
     "metadata": {},
     "output_type": "execute_result"
    }
   ],
   "source": [
    "⎕ ← M ← 2 3 ⍴ ⍳6\n",
    "⍝ Row Sum\n",
    "+/ M\n",
    "\n",
    "⍝ Col Sum\n",
    "+⌿ M\n",
    "\n",
    "⍝ Custom axis sum\n",
    "+/[1] M\n",
    "\n",
    "⍝ Full Sum\n",
    "+/, M\n",
    "\n",
    "⍝ Cumulative Sum\n",
    "+\\ M"
   ]
  },
  {
   "cell_type": "markdown",
   "id": "fc35c260",
   "metadata": {
    "heading_collapsed": true,
    "hidden": true
   },
   "source": [
    "#### Normalize"
   ]
  },
  {
   "cell_type": "code",
   "execution_count": 49,
   "id": "820b7e00",
   "metadata": {
    "hidden": true
   },
   "outputs": [
    {
     "data": {
      "text/html": [
       "<span style=\"white-space:pre; font-family: monospace\">0.1 0.2 0.3 0.4\n",
       "</span>"
      ]
     },
     "execution_count": 49,
     "metadata": {},
     "output_type": "execute_result"
    }
   ],
   "source": [
    "(⊢÷+⌿) ⍳4"
   ]
  },
  {
   "cell_type": "markdown",
   "id": "798f7953",
   "metadata": {
    "heading_collapsed": true,
    "hidden": true
   },
   "source": [
    "#### Count Matches "
   ]
  },
  {
   "cell_type": "code",
   "execution_count": 50,
   "id": "70c8f532",
   "metadata": {
    "hidden": true
   },
   "outputs": [
    {
     "data": {
      "text/html": [
       "<span style=\"white-space:pre; font-family: monospace\">2\n",
       "</span>"
      ]
     },
     "execution_count": 50,
     "metadata": {},
     "output_type": "execute_result"
    },
    {
     "data": {
      "text/html": [
       "<span style=\"white-space:pre; font-family: monospace\">2\n",
       "</span>"
      ]
     },
     "execution_count": 50,
     "metadata": {},
     "output_type": "execute_result"
    }
   ],
   "source": [
    "V1 ← 1 2 3 ⋄ V2 ← 1 3 3\n",
    "\n",
    "⍝ Via inner product\n",
    "V1 +.= V2\n",
    "\n",
    "⍝ Via Sum\n",
    "+/ V1 = V2"
   ]
  },
  {
   "cell_type": "markdown",
   "id": "d2c193f1",
   "metadata": {
    "heading_collapsed": true,
    "hidden": true
   },
   "source": [
    "#### Mean Squared Error"
   ]
  },
  {
   "cell_type": "code",
   "execution_count": 43,
   "id": "8c964f11",
   "metadata": {
    "hidden": true
   },
   "outputs": [
    {
     "data": {
      "text/html": [
       "<span style=\"white-space:pre; font-family: monospace\">7.5\n",
       "</span>"
      ]
     },
     "execution_count": 43,
     "metadata": {},
     "output_type": "execute_result"
    }
   ],
   "source": [
    "MSE ← {(SE←+/,×⍨⍵) ÷ ×/⍴ ⍵}\n",
    "MSE ⍳4"
   ]
  },
  {
   "cell_type": "markdown",
   "id": "f86f6dc2",
   "metadata": {
    "heading_collapsed": true,
    "hidden": true
   },
   "source": [
    "#### Mean Absolute Error"
   ]
  },
  {
   "cell_type": "code",
   "execution_count": 46,
   "id": "19aff98c",
   "metadata": {
    "hidden": true
   },
   "outputs": [
    {
     "data": {
      "text/html": [
       "<span style=\"white-space:pre; font-family: monospace\">4 5\n",
       "</span>"
      ]
     },
     "execution_count": 46,
     "metadata": {},
     "output_type": "execute_result"
    }
   ],
   "source": [
    "+/| 2 3 ⍴ 1 ¯2"
   ]
  },
  {
   "cell_type": "markdown",
   "id": "e5027a1d",
   "metadata": {
    "heading_collapsed": true
   },
   "source": [
    "## `-`: - : Minus"
   ]
  },
  {
   "cell_type": "markdown",
   "id": "a730e868",
   "metadata": {
    "heading_collapsed": true,
    "hidden": true
   },
   "source": [
    "### Negate"
   ]
  },
  {
   "cell_type": "markdown",
   "id": "dc84232c",
   "metadata": {
    "heading_collapsed": true,
    "hidden": true
   },
   "source": [
    "### Minus"
   ]
  },
  {
   "cell_type": "markdown",
   "id": "bb3e898c",
   "metadata": {},
   "source": [
    "## `×`: `- : Times"
   ]
  },
  {
   "cell_type": "markdown",
   "id": "f2faf151",
   "metadata": {
    "heading_collapsed": true
   },
   "source": [
    "### Direction"
   ]
  },
  {
   "cell_type": "markdown",
   "id": "b1a6279e",
   "metadata": {},
   "source": [
    "### Times"
   ]
  },
  {
   "cell_type": "markdown",
   "id": "807f91c5",
   "metadata": {
    "heading_collapsed": true
   },
   "source": [
    "#### Matrix Multiplication"
   ]
  },
  {
   "cell_type": "code",
   "execution_count": 7,
   "id": "0e4d47b6",
   "metadata": {
    "hidden": true
   },
   "outputs": [
    {
     "data": {
      "text/html": [
       "<span style=\"white-space:pre; font-family: monospace\"> 7  4\n",
       "15 10\n",
       "</span>"
      ]
     },
     "execution_count": 7,
     "metadata": {},
     "output_type": "execute_result"
    }
   ],
   "source": [
    "M1 ← 2 2 ⍴ ⍳4\n",
    "M2 ← 2 2 ⍴ ⍳4 - 1\n",
    "M1 +.× M2"
   ]
  },
  {
   "cell_type": "markdown",
   "id": "836b00cb",
   "metadata": {
    "heading_collapsed": true
   },
   "source": [
    "#### Product Aggregation "
   ]
  },
  {
   "cell_type": "code",
   "execution_count": 8,
   "id": "05678ead",
   "metadata": {
    "hidden": true
   },
   "outputs": [
    {
     "data": {
      "text/html": [
       "<span style=\"white-space:pre; font-family: monospace\">1 2 3\n",
       "4 5 6\n",
       "</span>"
      ]
     },
     "execution_count": 8,
     "metadata": {},
     "output_type": "execute_result"
    },
    {
     "data": {
      "text/html": [
       "<span style=\"white-space:pre; font-family: monospace\">6 120\n",
       "</span>"
      ]
     },
     "execution_count": 8,
     "metadata": {},
     "output_type": "execute_result"
    },
    {
     "data": {
      "text/html": [
       "<span style=\"white-space:pre; font-family: monospace\">4 10 18\n",
       "</span>"
      ]
     },
     "execution_count": 8,
     "metadata": {},
     "output_type": "execute_result"
    },
    {
     "data": {
      "text/html": [
       "<span style=\"white-space:pre; font-family: monospace\">4 10 18\n",
       "</span>"
      ]
     },
     "execution_count": 8,
     "metadata": {},
     "output_type": "execute_result"
    },
    {
     "data": {
      "text/html": [
       "<span style=\"white-space:pre; font-family: monospace\">720\n",
       "</span>"
      ]
     },
     "execution_count": 8,
     "metadata": {},
     "output_type": "execute_result"
    },
    {
     "data": {
      "text/html": [
       "<span style=\"white-space:pre; font-family: monospace\">1  2   6\n",
       "4 20 120\n",
       "</span>"
      ]
     },
     "execution_count": 8,
     "metadata": {},
     "output_type": "execute_result"
    }
   ],
   "source": [
    "⎕ ← M ← 2 3 ⍴ ⍳6\n",
    "⍝ Row product\n",
    "×/ M\n",
    "\n",
    "⍝ Col product\n",
    "×⌿ M\n",
    "\n",
    "⍝ Custom axis product\n",
    "×/[1] M\n",
    "\n",
    "⍝ Full product\n",
    "×/, M\n",
    "\n",
    "⍝ Cumulative product\n",
    "×\\ M"
   ]
  },
  {
   "cell_type": "markdown",
   "id": "839c8977",
   "metadata": {},
   "source": [
    "#### Number of elements in array/axis"
   ]
  },
  {
   "cell_type": "code",
   "execution_count": 50,
   "id": "48ca3d11",
   "metadata": {},
   "outputs": [
    {
     "data": {
      "text/html": [
       "<span style=\"white-space:pre; font-family: monospace\">72\n",
       "</span>"
      ]
     },
     "execution_count": 50,
     "metadata": {},
     "output_type": "execute_result"
    },
    {
     "data": {
      "text/html": [
       "<span style=\"white-space:pre; font-family: monospace\">2\n",
       "</span>"
      ]
     },
     "execution_count": 50,
     "metadata": {},
     "output_type": "execute_result"
    },
    {
     "data": {
      "text/html": [
       "<span style=\"white-space:pre; font-family: monospace\">6\n",
       "</span>"
      ]
     },
     "execution_count": 50,
     "metadata": {},
     "output_type": "execute_result"
    },
    {
     "data": {
      "text/html": [
       "<span style=\"white-space:pre; font-family: monospace\">4\n",
       "</span>"
      ]
     },
     "execution_count": 50,
     "metadata": {},
     "output_type": "execute_result"
    },
    {
     "data": {
      "text/html": [
       "<span style=\"white-space:pre; font-family: monospace\">6\n",
       "</span>"
      ]
     },
     "execution_count": 50,
     "metadata": {},
     "output_type": "execute_result"
    },
    {
     "data": {
      "text/html": [
       "<span style=\"white-space:pre; font-family: monospace\">12\n",
       "</span>"
      ]
     },
     "execution_count": 50,
     "metadata": {},
     "output_type": "execute_result"
    },
    {
     "data": {
      "text/html": [
       "<span style=\"white-space:pre; font-family: monospace\">8\n",
       "</span>"
      ]
     },
     "execution_count": 50,
     "metadata": {},
     "output_type": "execute_result"
    }
   ],
   "source": [
    "M ← ⍳ 2 3 4\n",
    "S ← 'Bob' 'John'\n",
    "\n",
    "⍝Number of elements in array \n",
    "⍴∊ M ⍝ Counts elements in nested arrays\n",
    "⍴, S ⍝ Counts elements (nested array = 1 element)\n",
    "\n",
    "shape ← ⍴ M\n",
    "\n",
    "⍝ multiply all but last axis\n",
    "×/¯1↓ shape\n",
    "\n",
    "⍝ mutliply all but first 2 axis\n",
    "×/2↓ shape\n",
    "\n",
    "⍝ Multiply first 2 axis\n",
    "×/2↑ shape\n",
    "\n",
    "⍝ Multiply last 2 axis\n",
    "×/¯2↑ shape\n",
    "\n",
    "⍝ Multiply custom mask\n",
    "×/ 1 0 1 / shape"
   ]
  },
  {
   "cell_type": "markdown",
   "id": "f9ddc2e7",
   "metadata": {
    "heading_collapsed": true
   },
   "source": [
    "#### Mean Squared Error"
   ]
  },
  {
   "cell_type": "code",
   "execution_count": 36,
   "id": "46f03e2c",
   "metadata": {
    "hidden": true
   },
   "outputs": [
    {
     "data": {
      "text/html": [
       "<span style=\"white-space:pre; font-family: monospace\">7.5\n",
       "</span>"
      ]
     },
     "execution_count": 36,
     "metadata": {},
     "output_type": "execute_result"
    }
   ],
   "source": [
    "MSE ← {(SE←+/,×⍨⍵) ÷ ×/⍴ ⍵}\n",
    "MSE ⍳4"
   ]
  },
  {
   "cell_type": "markdown",
   "id": "2ee9377f",
   "metadata": {
    "heading_collapsed": true
   },
   "source": [
    "#### Get True Elements "
   ]
  },
  {
   "cell_type": "code",
   "execution_count": 39,
   "id": "aa7ce4b7",
   "metadata": {
    "hidden": true
   },
   "outputs": [
    {
     "data": {
      "text/html": [
       "<span style=\"white-space:pre; font-family: monospace\">0 2 0 4\n",
       "</span>"
      ]
     },
     "execution_count": 39,
     "metadata": {},
     "output_type": "execute_result"
    }
   ],
   "source": [
    "0 1 0 1 × ⍳4"
   ]
  },
  {
   "cell_type": "markdown",
   "id": "4e68599b",
   "metadata": {
    "heading_collapsed": true
   },
   "source": [
    "#### Percentages"
   ]
  },
  {
   "cell_type": "code",
   "execution_count": 14,
   "id": "3fc2518b",
   "metadata": {
    "hidden": true
   },
   "outputs": [
    {
     "data": {
      "text/html": [
       "<span style=\"white-space:pre; font-family: monospace\">1 2 3\n",
       "4 5 6\n",
       "</span>"
      ]
     },
     "execution_count": 14,
     "metadata": {},
     "output_type": "execute_result"
    },
    {
     "data": {
      "text/html": [
       "<span style=\"white-space:pre; font-family: monospace\">16.6667 33.3333 50\n",
       "26.6667 33.3333 40\n",
       "</span>"
      ]
     },
     "execution_count": 14,
     "metadata": {},
     "output_type": "execute_result"
    },
    {
     "data": {
      "text/html": [
       "<span style=\"white-space:pre; font-family: monospace\">20 28.5714 33.3333\n",
       "80 71.4286 66.6667\n",
       "</span>"
      ]
     },
     "execution_count": 14,
     "metadata": {},
     "output_type": "execute_result"
    },
    {
     "data": {
      "text/html": [
       "<span style=\"white-space:pre; font-family: monospace\">0.047619 0.0952381 0.142857\n",
       "0.190476 0.238095  0.285714\n",
       "</span>"
      ]
     },
     "execution_count": 14,
     "metadata": {},
     "output_type": "execute_result"
    },
    {
     "data": {
      "text/html": [
       "<span style=\"white-space:pre; font-family: monospace\">0.047619 0.142857 0.285714 0.47619 0.714286 1\n",
       "</span>"
      ]
     },
     "execution_count": 14,
     "metadata": {},
     "output_type": "execute_result"
    }
   ],
   "source": [
    "⎕ ← M ← 2 3 ⍴ ⍳6\n",
    "⍝ Row percentages\n",
    "(100×⊢÷⍤1 0+/) M\n",
    "\n",
    "⍝ Col percentages\n",
    "(100×⊢÷⍤1+⌿) M\n",
    "\n",
    "⍝ Full percentages\n",
    "M ÷ +/,M\n",
    "\n",
    "⍝ Cumulative percentages (ie pareto)\n",
    "+\\, M ÷ +/,M"
   ]
  },
  {
   "cell_type": "markdown",
   "id": "0788ab36",
   "metadata": {
    "heading_collapsed": true
   },
   "source": [
    "## `÷`: `= : Divide"
   ]
  },
  {
   "cell_type": "markdown",
   "id": "f55fbc7e",
   "metadata": {
    "heading_collapsed": true,
    "hidden": true
   },
   "source": [
    "### Reciprocal"
   ]
  },
  {
   "cell_type": "markdown",
   "id": "597a5964",
   "metadata": {
    "heading_collapsed": true,
    "hidden": true
   },
   "source": [
    "#### Roots\n",
    "\n",
    "> Get Square, Cube, or other roots"
   ]
  },
  {
   "cell_type": "code",
   "execution_count": 15,
   "id": "5b8f09c7",
   "metadata": {
    "hidden": true
   },
   "outputs": [
    {
     "data": {
      "text/html": [
       "<span style=\"white-space:pre; font-family: monospace\">2 3\n",
       "</span>"
      ]
     },
     "execution_count": 15,
     "metadata": {},
     "output_type": "execute_result"
    },
    {
     "data": {
      "text/html": [
       "<span style=\"white-space:pre; font-family: monospace\">2 3\n",
       "</span>"
      ]
     },
     "execution_count": 15,
     "metadata": {},
     "output_type": "execute_result"
    }
   ],
   "source": [
    "⍝ Cube root\n",
    "8 27*÷3\n",
    "\n",
    "⍝ Root 4\n",
    "16 81*÷4"
   ]
  },
  {
   "cell_type": "markdown",
   "id": "64364c2e",
   "metadata": {
    "heading_collapsed": true,
    "hidden": true
   },
   "source": [
    "### Division"
   ]
  },
  {
   "cell_type": "markdown",
   "id": "371949d9",
   "metadata": {
    "heading_collapsed": true
   },
   "source": [
    "## `*`: `p : Star"
   ]
  },
  {
   "cell_type": "markdown",
   "id": "f21dfd78",
   "metadata": {
    "heading_collapsed": true,
    "hidden": true
   },
   "source": [
    "### Exponential"
   ]
  },
  {
   "cell_type": "markdown",
   "id": "ea8e8981",
   "metadata": {
    "heading_collapsed": true,
    "hidden": true
   },
   "source": [
    "### Power"
   ]
  },
  {
   "cell_type": "markdown",
   "id": "68f72bb1",
   "metadata": {
    "heading_collapsed": true
   },
   "source": [
    "## `⍟`:  `* : Log"
   ]
  },
  {
   "cell_type": "markdown",
   "id": "52527435",
   "metadata": {
    "heading_collapsed": true,
    "hidden": true
   },
   "source": [
    "### Natural Log"
   ]
  },
  {
   "cell_type": "markdown",
   "id": "3547dcd6",
   "metadata": {
    "heading_collapsed": true,
    "hidden": true
   },
   "source": [
    "### Log"
   ]
  },
  {
   "cell_type": "markdown",
   "id": "930b9c14",
   "metadata": {
    "heading_collapsed": true
   },
   "source": [
    "## `⌹` : `+ : Domino"
   ]
  },
  {
   "cell_type": "markdown",
   "id": "efac068f",
   "metadata": {
    "heading_collapsed": true,
    "hidden": true
   },
   "source": [
    "### Matrix Inverse"
   ]
  },
  {
   "cell_type": "markdown",
   "id": "2b94c2fd",
   "metadata": {
    "heading_collapsed": true,
    "hidden": true
   },
   "source": [
    "### Matrix Divide"
   ]
  },
  {
   "cell_type": "markdown",
   "id": "d2420770",
   "metadata": {
    "heading_collapsed": true
   },
   "source": [
    "## `○` : `o : Circle"
   ]
  },
  {
   "cell_type": "markdown",
   "id": "049dad14",
   "metadata": {
    "heading_collapsed": true,
    "hidden": true
   },
   "source": [
    "### Pi Times"
   ]
  },
  {
   "cell_type": "markdown",
   "id": "48aacc4c",
   "metadata": {
    "heading_collapsed": true,
    "hidden": true
   },
   "source": [
    "### Circular Functions"
   ]
  },
  {
   "cell_type": "markdown",
   "id": "a9048c8b",
   "metadata": {
    "heading_collapsed": true
   },
   "source": [
    "## `!` : ! : Exclamation Mark"
   ]
  },
  {
   "cell_type": "markdown",
   "id": "11a87030",
   "metadata": {
    "heading_collapsed": true,
    "hidden": true
   },
   "source": [
    "### Factorial"
   ]
  },
  {
   "cell_type": "markdown",
   "id": "cc017e31",
   "metadata": {
    "heading_collapsed": true,
    "hidden": true
   },
   "source": [
    "### Binomial"
   ]
  },
  {
   "cell_type": "markdown",
   "id": "3da1768c",
   "metadata": {
    "heading_collapsed": true
   },
   "source": [
    "## `?` : ? : Question Mark"
   ]
  },
  {
   "cell_type": "markdown",
   "id": "6f98d1ae",
   "metadata": {
    "heading_collapsed": true,
    "hidden": true
   },
   "source": [
    "### Roll"
   ]
  },
  {
   "cell_type": "markdown",
   "id": "9b0669e2",
   "metadata": {
    "heading_collapsed": true,
    "hidden": true
   },
   "source": [
    "### Deal"
   ]
  },
  {
   "cell_type": "markdown",
   "id": "a5567c88",
   "metadata": {
    "heading_collapsed": true
   },
   "source": [
    "## `|` : | : Stile"
   ]
  },
  {
   "cell_type": "markdown",
   "id": "97963e9f",
   "metadata": {
    "heading_collapsed": true,
    "hidden": true
   },
   "source": [
    "### Magnitude"
   ]
  },
  {
   "cell_type": "markdown",
   "id": "bdd21c1b",
   "metadata": {
    "heading_collapsed": true,
    "hidden": true
   },
   "source": [
    "### Residue"
   ]
  },
  {
   "cell_type": "markdown",
   "id": "951973ee",
   "metadata": {
    "heading_collapsed": true
   },
   "source": [
    "## `⌈` : `s : Upstile"
   ]
  },
  {
   "cell_type": "markdown",
   "id": "8b088424",
   "metadata": {
    "heading_collapsed": true,
    "hidden": true
   },
   "source": [
    "### Ceiling"
   ]
  },
  {
   "cell_type": "markdown",
   "id": "910e9e89",
   "metadata": {
    "heading_collapsed": true,
    "hidden": true
   },
   "source": [
    "### Max"
   ]
  },
  {
   "cell_type": "markdown",
   "id": "08ff5f32",
   "metadata": {
    "heading_collapsed": true
   },
   "source": [
    "## `⌊` : `d : Downstile"
   ]
  },
  {
   "cell_type": "markdown",
   "id": "857431ad",
   "metadata": {
    "heading_collapsed": true,
    "hidden": true
   },
   "source": [
    "### Floor"
   ]
  },
  {
   "cell_type": "markdown",
   "id": "afd9f294",
   "metadata": {
    "heading_collapsed": true,
    "hidden": true
   },
   "source": [
    "### Min"
   ]
  },
  {
   "cell_type": "markdown",
   "id": "b4f65b86",
   "metadata": {
    "heading_collapsed": true
   },
   "source": [
    "## `⍳`: `i : Iota"
   ]
  },
  {
   "cell_type": "markdown",
   "id": "6a36254c",
   "metadata": {
    "heading_collapsed": true,
    "hidden": true
   },
   "source": [
    "### Index Generator"
   ]
  },
  {
   "cell_type": "markdown",
   "id": "1a0284c3",
   "metadata": {
    "heading_collapsed": true,
    "hidden": true
   },
   "source": [
    "### Index Of"
   ]
  },
  {
   "cell_type": "markdown",
   "id": "c5c71023",
   "metadata": {
    "heading_collapsed": true
   },
   "source": [
    "## `⍸`: `I : Iota Underbar"
   ]
  },
  {
   "cell_type": "markdown",
   "id": "d6f7f2ac",
   "metadata": {
    "heading_collapsed": true,
    "hidden": true
   },
   "source": [
    "### Where"
   ]
  },
  {
   "cell_type": "markdown",
   "id": "02fc1eaf",
   "metadata": {
    "heading_collapsed": true,
    "hidden": true
   },
   "source": [
    "### Interval Index"
   ]
  },
  {
   "cell_type": "markdown",
   "id": "5ab7af79",
   "metadata": {
    "heading_collapsed": true
   },
   "source": [
    "## `=`: = : Equal"
   ]
  },
  {
   "cell_type": "markdown",
   "id": "fec611fc",
   "metadata": {
    "heading_collapsed": true,
    "hidden": true
   },
   "source": [
    "### Equal To"
   ]
  },
  {
   "cell_type": "markdown",
   "id": "fb8a3b4a",
   "metadata": {
    "heading_collapsed": true
   },
   "source": [
    "## `≠`: `8 : Not Equal"
   ]
  },
  {
   "cell_type": "markdown",
   "id": "0c199b39",
   "metadata": {
    "heading_collapsed": true,
    "hidden": true
   },
   "source": [
    "### Unique Mark"
   ]
  },
  {
   "cell_type": "markdown",
   "id": "cd29689c",
   "metadata": {
    "heading_collapsed": true,
    "hidden": true
   },
   "source": [
    "### Not Equal to"
   ]
  },
  {
   "cell_type": "markdown",
   "id": "dc582c5f",
   "metadata": {
    "heading_collapsed": true
   },
   "source": [
    "## `≤`: `4 : Less Than or Equal To"
   ]
  },
  {
   "cell_type": "markdown",
   "id": "5cc131bb",
   "metadata": {
    "heading_collapsed": true,
    "hidden": true
   },
   "source": [
    "### Less Than or Equal To"
   ]
  },
  {
   "cell_type": "markdown",
   "id": "42afb8a9",
   "metadata": {
    "heading_collapsed": true
   },
   "source": [
    "## `<`: < : Less Than"
   ]
  },
  {
   "cell_type": "markdown",
   "id": "ff1a1f23",
   "metadata": {
    "heading_collapsed": true,
    "hidden": true
   },
   "source": [
    "### Less Than"
   ]
  },
  {
   "cell_type": "markdown",
   "id": "d434af56",
   "metadata": {
    "heading_collapsed": true
   },
   "source": [
    "## `>`: > : Greater Than"
   ]
  },
  {
   "cell_type": "markdown",
   "id": "6f519893",
   "metadata": {
    "heading_collapsed": true,
    "hidden": true
   },
   "source": [
    "### Greater Than"
   ]
  },
  {
   "cell_type": "markdown",
   "id": "25a3cdf8",
   "metadata": {
    "heading_collapsed": true
   },
   "source": [
    "## `≥` : `6 : Greater Than or Equal To"
   ]
  },
  {
   "cell_type": "markdown",
   "id": "0c1e65cd",
   "metadata": {
    "heading_collapsed": true,
    "hidden": true
   },
   "source": [
    "### Greater Than or Equal To"
   ]
  },
  {
   "cell_type": "markdown",
   "id": "8ae24702",
   "metadata": {
    "heading_collapsed": true
   },
   "source": [
    "## `≡`: `: Equal Underbar"
   ]
  },
  {
   "cell_type": "markdown",
   "id": "63d99a0a",
   "metadata": {
    "heading_collapsed": true,
    "hidden": true
   },
   "source": [
    "### Depth"
   ]
  },
  {
   "cell_type": "markdown",
   "id": "5d508c53",
   "metadata": {
    "heading_collapsed": true,
    "hidden": true
   },
   "source": [
    "### Match"
   ]
  },
  {
   "cell_type": "markdown",
   "id": "feedb1b9",
   "metadata": {
    "heading_collapsed": true
   },
   "source": [
    "## `≢`: `\" : Equal Underbar Slash"
   ]
  },
  {
   "cell_type": "markdown",
   "id": "0a2e46d3",
   "metadata": {
    "heading_collapsed": true,
    "hidden": true
   },
   "source": [
    "### Tally"
   ]
  },
  {
   "cell_type": "markdown",
   "id": "d1e28426",
   "metadata": {
    "heading_collapsed": true,
    "hidden": true
   },
   "source": [
    "### Not Match"
   ]
  },
  {
   "cell_type": "markdown",
   "id": "0555c012",
   "metadata": {
    "heading_collapsed": true
   },
   "source": [
    "## `∨`: `9 : Logical Or"
   ]
  },
  {
   "cell_type": "markdown",
   "id": "d2b490f7",
   "metadata": {
    "heading_collapsed": true,
    "hidden": true
   },
   "source": [
    "### Greatest Common Divisor"
   ]
  },
  {
   "cell_type": "markdown",
   "id": "bc6eec30",
   "metadata": {
    "heading_collapsed": true
   },
   "source": [
    "## `∧`: `0 : Logical And"
   ]
  },
  {
   "cell_type": "markdown",
   "id": "46462dcb",
   "metadata": {
    "heading_collapsed": true,
    "hidden": true
   },
   "source": [
    "### Lowest Common Multiple"
   ]
  },
  {
   "cell_type": "markdown",
   "id": "7ad98ed9",
   "metadata": {
    "heading_collapsed": true
   },
   "source": [
    "## `⍲`: `0 : Logical Nand"
   ]
  },
  {
   "cell_type": "markdown",
   "id": "25783263",
   "metadata": {
    "heading_collapsed": true,
    "hidden": true
   },
   "source": [
    "### Nand"
   ]
  },
  {
   "cell_type": "markdown",
   "id": "1e125ff9",
   "metadata": {
    "heading_collapsed": true
   },
   "source": [
    "## `⍱`: `9 : Logical Nor"
   ]
  },
  {
   "cell_type": "markdown",
   "id": "534a4140",
   "metadata": {
    "heading_collapsed": true,
    "hidden": true
   },
   "source": [
    "### Nor"
   ]
  },
  {
   "cell_type": "markdown",
   "id": "bff8f239",
   "metadata": {
    "heading_collapsed": true
   },
   "source": [
    "## `⊥`: `b : Up Tack"
   ]
  },
  {
   "cell_type": "markdown",
   "id": "42d150b3",
   "metadata": {
    "heading_collapsed": true,
    "hidden": true
   },
   "source": [
    "### Decode"
   ]
  },
  {
   "cell_type": "markdown",
   "id": "e56ba82a",
   "metadata": {
    "heading_collapsed": true
   },
   "source": [
    "## `⊤`: `n : Down Tack"
   ]
  },
  {
   "cell_type": "markdown",
   "id": "68f9d67f",
   "metadata": {
    "heading_collapsed": true,
    "hidden": true
   },
   "source": [
    "### Encode"
   ]
  },
  {
   "cell_type": "markdown",
   "id": "efc4be96",
   "metadata": {
    "heading_collapsed": true
   },
   "source": [
    "## `⊣`: `| : Left Tack"
   ]
  },
  {
   "cell_type": "markdown",
   "id": "ada48dfe",
   "metadata": {
    "heading_collapsed": true,
    "hidden": true
   },
   "source": [
    "### Same"
   ]
  },
  {
   "cell_type": "markdown",
   "id": "570ec173",
   "metadata": {
    "heading_collapsed": true,
    "hidden": true
   },
   "source": [
    "### Left"
   ]
  },
  {
   "cell_type": "markdown",
   "id": "b03171c8",
   "metadata": {
    "heading_collapsed": true
   },
   "source": [
    "## `⊢`: `\\ : Right Tack"
   ]
  },
  {
   "cell_type": "markdown",
   "id": "f132b985",
   "metadata": {
    "heading_collapsed": true,
    "hidden": true
   },
   "source": [
    "### Same"
   ]
  },
  {
   "cell_type": "markdown",
   "id": "45044d28",
   "metadata": {
    "heading_collapsed": true,
    "hidden": true
   },
   "source": [
    "### Right"
   ]
  },
  {
   "cell_type": "markdown",
   "id": "1cf449f9",
   "metadata": {
    "heading_collapsed": true
   },
   "source": [
    "## `↑`: `y : Up Arrow"
   ]
  },
  {
   "cell_type": "markdown",
   "id": "f6703a2c",
   "metadata": {
    "heading_collapsed": true,
    "hidden": true
   },
   "source": [
    "### Mix"
   ]
  },
  {
   "cell_type": "markdown",
   "id": "3a76697a",
   "metadata": {
    "heading_collapsed": true,
    "hidden": true
   },
   "source": [
    "### Take"
   ]
  },
  {
   "cell_type": "markdown",
   "id": "695f6466",
   "metadata": {
    "heading_collapsed": true
   },
   "source": [
    "## `↓`: `u : Down Arrow"
   ]
  },
  {
   "cell_type": "markdown",
   "id": "90a0dcae",
   "metadata": {
    "heading_collapsed": true,
    "hidden": true
   },
   "source": [
    "### Split"
   ]
  },
  {
   "cell_type": "markdown",
   "id": "58199b34",
   "metadata": {
    "heading_collapsed": true,
    "hidden": true
   },
   "source": [
    "### Drop"
   ]
  },
  {
   "cell_type": "markdown",
   "id": "543923d6",
   "metadata": {
    "heading_collapsed": true
   },
   "source": [
    "## `⊂`: `z : Left Shoe"
   ]
  },
  {
   "cell_type": "markdown",
   "id": "a97ee9f1",
   "metadata": {
    "heading_collapsed": true,
    "hidden": true
   },
   "source": [
    "### Enclose"
   ]
  },
  {
   "cell_type": "markdown",
   "id": "f910cc26",
   "metadata": {
    "heading_collapsed": true,
    "hidden": true
   },
   "source": [
    "### Partitioned Enclose"
   ]
  },
  {
   "cell_type": "markdown",
   "id": "23c03a23",
   "metadata": {
    "heading_collapsed": true
   },
   "source": [
    "## `⊃` : `x : Right Shoe"
   ]
  },
  {
   "cell_type": "markdown",
   "id": "c4eda4e5",
   "metadata": {
    "heading_collapsed": true,
    "hidden": true
   },
   "source": [
    "### First"
   ]
  },
  {
   "cell_type": "markdown",
   "id": "ae66bae8",
   "metadata": {
    "heading_collapsed": true,
    "hidden": true
   },
   "source": [
    "### Pick"
   ]
  },
  {
   "cell_type": "markdown",
   "id": "ea06ab06",
   "metadata": {
    "heading_collapsed": true
   },
   "source": [
    "## `⊆`: `Z : Left Shoe Underbar"
   ]
  },
  {
   "cell_type": "markdown",
   "id": "c091b279",
   "metadata": {
    "heading_collapsed": true,
    "hidden": true
   },
   "source": [
    "### Nest"
   ]
  },
  {
   "cell_type": "markdown",
   "id": "08e51450",
   "metadata": {
    "heading_collapsed": true,
    "hidden": true
   },
   "source": [
    "### Partition"
   ]
  },
  {
   "cell_type": "markdown",
   "id": "d8991a8d",
   "metadata": {
    "heading_collapsed": true
   },
   "source": [
    "## `⎕`: `l : Squad"
   ]
  },
  {
   "cell_type": "markdown",
   "id": "48c4a16c",
   "metadata": {
    "heading_collapsed": true,
    "hidden": true
   },
   "source": [
    "### Materialize"
   ]
  },
  {
   "cell_type": "markdown",
   "id": "7f03533d",
   "metadata": {
    "heading_collapsed": true,
    "hidden": true
   },
   "source": [
    "### Index"
   ]
  },
  {
   "cell_type": "markdown",
   "id": "ab22b743",
   "metadata": {
    "heading_collapsed": true
   },
   "source": [
    "## `⍒`: `# : Grade Down"
   ]
  },
  {
   "cell_type": "markdown",
   "id": "5fb50c58",
   "metadata": {
    "heading_collapsed": true,
    "hidden": true
   },
   "source": [
    "### Grade Down"
   ]
  },
  {
   "cell_type": "markdown",
   "id": "334bfe29",
   "metadata": {
    "heading_collapsed": true,
    "hidden": true
   },
   "source": [
    "### Dyadic Grade Down"
   ]
  },
  {
   "cell_type": "markdown",
   "id": "86f60307",
   "metadata": {
    "heading_collapsed": true
   },
   "source": [
    "## `⍋`: `$ : Grade Up"
   ]
  },
  {
   "cell_type": "markdown",
   "id": "c79e4887",
   "metadata": {
    "heading_collapsed": true,
    "hidden": true
   },
   "source": [
    "### Grade Up"
   ]
  },
  {
   "cell_type": "markdown",
   "id": "c46f8b58",
   "metadata": {
    "heading_collapsed": true,
    "hidden": true
   },
   "source": [
    "### Dyadic Grade Up"
   ]
  },
  {
   "cell_type": "markdown",
   "id": "8f49452b",
   "metadata": {
    "heading_collapsed": true
   },
   "source": [
    "## `∊`: `e : Epsilon"
   ]
  },
  {
   "cell_type": "markdown",
   "id": "e366a47c",
   "metadata": {
    "heading_collapsed": true,
    "hidden": true
   },
   "source": [
    "### Enlist"
   ]
  },
  {
   "cell_type": "markdown",
   "id": "2ce08bf8",
   "metadata": {
    "heading_collapsed": true,
    "hidden": true
   },
   "source": [
    "### Membership"
   ]
  },
  {
   "cell_type": "markdown",
   "id": "00cbc1e6",
   "metadata": {
    "heading_collapsed": true
   },
   "source": [
    "## `⍷`: `E : Epsilon Underbar"
   ]
  },
  {
   "cell_type": "markdown",
   "id": "2dfee249",
   "metadata": {
    "heading_collapsed": true,
    "hidden": true
   },
   "source": [
    "### Find"
   ]
  },
  {
   "cell_type": "markdown",
   "id": "a8485396",
   "metadata": {
    "heading_collapsed": true
   },
   "source": [
    "## `∪`: `v : Down Shoe"
   ]
  },
  {
   "cell_type": "markdown",
   "id": "261d4d21",
   "metadata": {
    "heading_collapsed": true,
    "hidden": true
   },
   "source": [
    "### Unique"
   ]
  },
  {
   "cell_type": "markdown",
   "id": "68d481a7",
   "metadata": {
    "heading_collapsed": true,
    "hidden": true
   },
   "source": [
    "### Union"
   ]
  },
  {
   "cell_type": "markdown",
   "id": "6dbbf46d",
   "metadata": {
    "heading_collapsed": true
   },
   "source": [
    "## `∩`: `c : Up Shoe"
   ]
  },
  {
   "cell_type": "markdown",
   "id": "be9fb5cd",
   "metadata": {
    "heading_collapsed": true,
    "hidden": true
   },
   "source": [
    "### Intersection"
   ]
  },
  {
   "cell_type": "markdown",
   "id": "f59bddda",
   "metadata": {
    "heading_collapsed": true
   },
   "source": [
    "## `~`: ~ : Tilde"
   ]
  },
  {
   "cell_type": "markdown",
   "id": "8a9085cc",
   "metadata": {
    "heading_collapsed": true,
    "hidden": true
   },
   "source": [
    "### Not"
   ]
  },
  {
   "cell_type": "markdown",
   "id": "1177991f",
   "metadata": {
    "heading_collapsed": true,
    "hidden": true
   },
   "source": [
    "### Without"
   ]
  },
  {
   "cell_type": "markdown",
   "id": "7dea4dcf",
   "metadata": {
    "heading_collapsed": true
   },
   "source": [
    "## `/`: / : Slash"
   ]
  },
  {
   "cell_type": "markdown",
   "id": "521933f5",
   "metadata": {
    "heading_collapsed": true,
    "hidden": true
   },
   "source": [
    "### Replicate"
   ]
  },
  {
   "cell_type": "markdown",
   "id": "6864929a",
   "metadata": {
    "heading_collapsed": true,
    "hidden": true
   },
   "source": [
    "### Reduce"
   ]
  },
  {
   "cell_type": "markdown",
   "id": "e1edb38f",
   "metadata": {
    "heading_collapsed": true
   },
   "source": [
    "## `\\`: \\ : Backslash"
   ]
  },
  {
   "cell_type": "markdown",
   "id": "b449dd69",
   "metadata": {
    "heading_collapsed": true,
    "hidden": true
   },
   "source": [
    "### Expand"
   ]
  },
  {
   "cell_type": "markdown",
   "id": "74a1f876",
   "metadata": {
    "heading_collapsed": true,
    "hidden": true
   },
   "source": [
    "### Scan"
   ]
  },
  {
   "cell_type": "markdown",
   "id": "b0e80179",
   "metadata": {
    "heading_collapsed": true
   },
   "source": [
    "## `⌿`: `/ : Slash Bar"
   ]
  },
  {
   "cell_type": "markdown",
   "id": "c658eae1",
   "metadata": {
    "heading_collapsed": true,
    "hidden": true
   },
   "source": [
    "### Replicate First"
   ]
  },
  {
   "cell_type": "markdown",
   "id": "f14fcfd2",
   "metadata": {
    "heading_collapsed": true,
    "hidden": true
   },
   "source": [
    "### Reduce First"
   ]
  },
  {
   "cell_type": "markdown",
   "id": "0c72b31d",
   "metadata": {
    "heading_collapsed": true
   },
   "source": [
    "## `⍀`: `. : Backslash Bar"
   ]
  },
  {
   "cell_type": "markdown",
   "id": "77e12c55",
   "metadata": {
    "heading_collapsed": true,
    "hidden": true
   },
   "source": [
    "### Expand First"
   ]
  },
  {
   "cell_type": "markdown",
   "id": "7988cde6",
   "metadata": {
    "heading_collapsed": true,
    "hidden": true
   },
   "source": [
    "### Scan First"
   ]
  },
  {
   "cell_type": "markdown",
   "id": "64ce2fd4",
   "metadata": {
    "heading_collapsed": true
   },
   "source": [
    "## `,`: , : Comma"
   ]
  },
  {
   "cell_type": "markdown",
   "id": "d29a332c",
   "metadata": {
    "heading_collapsed": true,
    "hidden": true
   },
   "source": [
    "### Ravel"
   ]
  },
  {
   "cell_type": "markdown",
   "id": "0aa5b2b0",
   "metadata": {
    "heading_collapsed": true,
    "hidden": true
   },
   "source": [
    "### Catenate"
   ]
  },
  {
   "cell_type": "markdown",
   "id": "83553ef3",
   "metadata": {
    "heading_collapsed": true
   },
   "source": [
    "## `⍪`: `< : Comma Bar"
   ]
  },
  {
   "cell_type": "markdown",
   "id": "47b45956",
   "metadata": {
    "heading_collapsed": true,
    "hidden": true
   },
   "source": [
    "### Table"
   ]
  },
  {
   "cell_type": "markdown",
   "id": "b415f741",
   "metadata": {
    "heading_collapsed": true,
    "hidden": true
   },
   "source": [
    "### Catenate First"
   ]
  },
  {
   "cell_type": "markdown",
   "id": "f1c683c8",
   "metadata": {
    "heading_collapsed": true
   },
   "source": [
    "## `⍴`: `r : Rho"
   ]
  },
  {
   "cell_type": "markdown",
   "id": "231e342c",
   "metadata": {
    "heading_collapsed": true,
    "hidden": true
   },
   "source": [
    "### Shape"
   ]
  },
  {
   "cell_type": "markdown",
   "id": "3b8f832a",
   "metadata": {
    "heading_collapsed": true,
    "hidden": true
   },
   "source": [
    "### Reshape"
   ]
  },
  {
   "cell_type": "markdown",
   "id": "132d504f",
   "metadata": {
    "heading_collapsed": true
   },
   "source": [
    "## `⌽`: `% : Circle Stile"
   ]
  },
  {
   "cell_type": "markdown",
   "id": "f845edb5",
   "metadata": {
    "heading_collapsed": true,
    "hidden": true
   },
   "source": [
    "### Reverse"
   ]
  },
  {
   "cell_type": "markdown",
   "id": "07cd0064",
   "metadata": {
    "heading_collapsed": true,
    "hidden": true
   },
   "source": [
    "### Rotate"
   ]
  },
  {
   "cell_type": "markdown",
   "id": "8a60dca9",
   "metadata": {
    "heading_collapsed": true
   },
   "source": [
    "## `⊖`: `& : Circle Bar"
   ]
  },
  {
   "cell_type": "markdown",
   "id": "1f3ea685",
   "metadata": {
    "heading_collapsed": true,
    "hidden": true
   },
   "source": [
    "### Reverse First"
   ]
  },
  {
   "cell_type": "markdown",
   "id": "1a2e5f2a",
   "metadata": {
    "heading_collapsed": true,
    "hidden": true
   },
   "source": [
    "### Rotate First"
   ]
  },
  {
   "cell_type": "markdown",
   "id": "83273244",
   "metadata": {
    "heading_collapsed": true
   },
   "source": [
    "## `⍉`: `^ : Transpose"
   ]
  },
  {
   "cell_type": "markdown",
   "id": "688b570b",
   "metadata": {
    "heading_collapsed": true,
    "hidden": true
   },
   "source": [
    "### Transpose"
   ]
  },
  {
   "cell_type": "markdown",
   "id": "1ad75bbd",
   "metadata": {
    "heading_collapsed": true,
    "hidden": true
   },
   "source": [
    "### Dyadic Transpose"
   ]
  },
  {
   "cell_type": "markdown",
   "id": "b5f3b8c0",
   "metadata": {
    "heading_collapsed": true
   },
   "source": [
    "## `¨`: `1 : Diaeresis"
   ]
  },
  {
   "cell_type": "markdown",
   "id": "3e9fbb77",
   "metadata": {
    "heading_collapsed": true,
    "hidden": true
   },
   "source": [
    "### Each"
   ]
  },
  {
   "cell_type": "markdown",
   "id": "8625a6e3",
   "metadata": {
    "heading_collapsed": true
   },
   "source": [
    "## `⍨`: `T : Tilde Diaeresis"
   ]
  },
  {
   "cell_type": "markdown",
   "id": "fbc14e78",
   "metadata": {
    "heading_collapsed": true,
    "hidden": true
   },
   "source": [
    "### Commute"
   ]
  },
  {
   "cell_type": "markdown",
   "id": "c1e2d244",
   "metadata": {
    "heading_collapsed": true,
    "hidden": true
   },
   "source": [
    "### Constant"
   ]
  },
  {
   "cell_type": "markdown",
   "id": "45afeb31",
   "metadata": {
    "heading_collapsed": true
   },
   "source": [
    "## `⍣`: `P : Star Diaeresis"
   ]
  },
  {
   "cell_type": "markdown",
   "id": "99c60062",
   "metadata": {
    "heading_collapsed": true,
    "hidden": true
   },
   "source": [
    "### Power"
   ]
  },
  {
   "cell_type": "markdown",
   "id": "9a87a212",
   "metadata": {
    "heading_collapsed": true
   },
   "source": [
    "## `.`: . :  Dot"
   ]
  },
  {
   "cell_type": "markdown",
   "id": "cda26bad",
   "metadata": {
    "heading_collapsed": true,
    "hidden": true
   },
   "source": [
    "### Product "
   ]
  },
  {
   "cell_type": "markdown",
   "id": "b7f20469",
   "metadata": {
    "heading_collapsed": true
   },
   "source": [
    "## `∘`:  `j : Jot"
   ]
  },
  {
   "cell_type": "markdown",
   "id": "3e1b11b0",
   "metadata": {
    "heading_collapsed": true,
    "hidden": true
   },
   "source": [
    "### Beside and Bind"
   ]
  },
  {
   "cell_type": "markdown",
   "id": "2bbc4069",
   "metadata": {
    "heading_collapsed": true
   },
   "source": [
    "## `⍤`: `J : Jot Diaeresis"
   ]
  },
  {
   "cell_type": "markdown",
   "id": "32af8403",
   "metadata": {
    "heading_collapsed": true,
    "hidden": true
   },
   "source": [
    "### Atop"
   ]
  },
  {
   "cell_type": "markdown",
   "id": "0bf27482",
   "metadata": {
    "heading_collapsed": true,
    "hidden": true
   },
   "source": [
    "### Rank"
   ]
  },
  {
   "cell_type": "markdown",
   "id": "cbf01c5c",
   "metadata": {
    "heading_collapsed": true
   },
   "source": [
    "## `⍥`: `O : Circle Diaeresis"
   ]
  },
  {
   "cell_type": "markdown",
   "id": "f4e3969a",
   "metadata": {
    "heading_collapsed": true,
    "hidden": true
   },
   "source": [
    "### Over"
   ]
  },
  {
   "cell_type": "markdown",
   "id": "12c93e26",
   "metadata": {
    "heading_collapsed": true
   },
   "source": [
    "## `@`: @ : At"
   ]
  },
  {
   "cell_type": "markdown",
   "id": "e36a57f6",
   "metadata": {
    "heading_collapsed": true,
    "hidden": true
   },
   "source": [
    "### At "
   ]
  },
  {
   "cell_type": "markdown",
   "id": "53a893f0",
   "metadata": {
    "heading_collapsed": true
   },
   "source": [
    "## `⍞`: `{ : Quote Quad"
   ]
  },
  {
   "cell_type": "markdown",
   "id": "708dab60",
   "metadata": {
    "heading_collapsed": true,
    "hidden": true
   },
   "source": [
    "### Character Input"
   ]
  },
  {
   "cell_type": "markdown",
   "id": "32f4d3c3",
   "metadata": {
    "heading_collapsed": true,
    "hidden": true
   },
   "source": [
    "### Output"
   ]
  },
  {
   "cell_type": "markdown",
   "id": "aa542942",
   "metadata": {
    "heading_collapsed": true
   },
   "source": [
    "## `⎕`: `l : Quad"
   ]
  },
  {
   "cell_type": "markdown",
   "id": "49e6d05e",
   "metadata": {
    "heading_collapsed": true,
    "hidden": true
   },
   "source": [
    "### Evaluated Input"
   ]
  },
  {
   "cell_type": "markdown",
   "id": "e758fefe",
   "metadata": {
    "heading_collapsed": true,
    "hidden": true
   },
   "source": [
    "### Output"
   ]
  },
  {
   "cell_type": "markdown",
   "id": "33733c58",
   "metadata": {
    "heading_collapsed": true
   },
   "source": [
    "## `⍠`: `? : Quad Colon"
   ]
  },
  {
   "cell_type": "markdown",
   "id": "2d182540",
   "metadata": {
    "heading_collapsed": true,
    "hidden": true
   },
   "source": [
    "### Variant"
   ]
  },
  {
   "cell_type": "markdown",
   "id": "fe885921",
   "metadata": {
    "heading_collapsed": true
   },
   "source": [
    "## `⌸`: `K : Quad Equal"
   ]
  },
  {
   "cell_type": "markdown",
   "id": "cbffc8a8",
   "metadata": {
    "heading_collapsed": true,
    "hidden": true
   },
   "source": [
    "### Key"
   ]
  },
  {
   "cell_type": "markdown",
   "id": "22c2d6d7",
   "metadata": {
    "heading_collapsed": true
   },
   "source": [
    "## `⌺`: `~ : Quad Diamond"
   ]
  },
  {
   "cell_type": "markdown",
   "id": "292bd496",
   "metadata": {
    "heading_collapsed": true,
    "hidden": true
   },
   "source": [
    "### Stencil"
   ]
  },
  {
   "cell_type": "markdown",
   "id": "1828a303",
   "metadata": {
    "heading_collapsed": true
   },
   "source": [
    "## `⌶`: `! : I-Beam"
   ]
  },
  {
   "cell_type": "markdown",
   "id": "ad223697",
   "metadata": {
    "heading_collapsed": true,
    "hidden": true
   },
   "source": [
    "### I-Beam"
   ]
  },
  {
   "cell_type": "markdown",
   "id": "f5d20677",
   "metadata": {
    "heading_collapsed": true
   },
   "source": [
    "## `⍎`: `; : Hydrant"
   ]
  },
  {
   "cell_type": "markdown",
   "id": "9286d56b",
   "metadata": {
    "heading_collapsed": true,
    "hidden": true
   },
   "source": [
    "### Execute Expr"
   ]
  },
  {
   "cell_type": "markdown",
   "id": "5c9aed53",
   "metadata": {
    "heading_collapsed": true,
    "hidden": true
   },
   "source": [
    "### Execute Expr in Namespace"
   ]
  },
  {
   "cell_type": "markdown",
   "id": "c97e1e8f",
   "metadata": {
    "heading_collapsed": true
   },
   "source": [
    "## `⍕`: `' : Thorn"
   ]
  },
  {
   "cell_type": "markdown",
   "id": "b8097471",
   "metadata": {
    "heading_collapsed": true,
    "hidden": true
   },
   "source": [
    "### Format"
   ]
  },
  {
   "cell_type": "markdown",
   "id": "a3f051d4",
   "metadata": {
    "heading_collapsed": true,
    "hidden": true
   },
   "source": [
    "### Format by Specification"
   ]
  },
  {
   "cell_type": "markdown",
   "id": "eeae1fa2",
   "metadata": {
    "heading_collapsed": true
   },
   "source": [
    "## `⋄`: ``` : Diamond"
   ]
  },
  {
   "cell_type": "markdown",
   "id": "8f83d4ff",
   "metadata": {
    "heading_collapsed": true,
    "hidden": true
   },
   "source": [
    "### Statement Seperator"
   ]
  },
  {
   "cell_type": "markdown",
   "id": "e1475e1d",
   "metadata": {
    "heading_collapsed": true
   },
   "source": [
    "## `→`: `] : Right Arrow"
   ]
  },
  {
   "cell_type": "markdown",
   "id": "76db3e24",
   "metadata": {
    "heading_collapsed": true,
    "hidden": true
   },
   "source": [
    "### Branch"
   ]
  },
  {
   "cell_type": "markdown",
   "id": "636394c0",
   "metadata": {
    "heading_collapsed": true
   },
   "source": [
    "## `∇`: `g : Del"
   ]
  },
  {
   "cell_type": "markdown",
   "id": "83aa859b",
   "metadata": {
    "heading_collapsed": true,
    "hidden": true
   },
   "source": [
    "### Self Reference"
   ]
  },
  {
   "cell_type": "markdown",
   "id": "11a2d113",
   "metadata": {
    "heading_collapsed": true
   },
   "source": [
    "## `&`: & : Ampersand"
   ]
  },
  {
   "cell_type": "markdown",
   "id": "1864b63d",
   "metadata": {
    "heading_collapsed": true,
    "hidden": true
   },
   "source": [
    "### Spawn"
   ]
  },
  {
   "cell_type": "markdown",
   "id": "37e837ae",
   "metadata": {
    "heading_collapsed": true
   },
   "source": [
    "## `⍬`: `} : Zilde"
   ]
  },
  {
   "cell_type": "markdown",
   "id": "c78af54f",
   "metadata": {
    "heading_collapsed": true,
    "hidden": true
   },
   "source": [
    "### Empty Numeric Vector"
   ]
  },
  {
   "cell_type": "code",
   "execution_count": null,
   "id": "99907fb8",
   "metadata": {
    "hidden": true
   },
   "outputs": [],
   "source": []
  }
 ],
 "metadata": {
  "kernelspec": {
   "display_name": "Dyalog APL",
   "language": "apl",
   "name": "dyalog-kernel"
  },
  "language_info": {
   "file_extension": ".apl",
   "mimetype": "text/apl",
   "name": "APL"
  },
  "toc": {
   "base_numbering": 1,
   "nav_menu": {},
   "number_sections": true,
   "sideBar": true,
   "skip_h1_title": false,
   "title_cell": "Table of Contents",
   "title_sidebar": "Contents",
   "toc_cell": false,
   "toc_position": {},
   "toc_section_display": true,
   "toc_window_display": false
  }
 },
 "nbformat": 4,
 "nbformat_minor": 5
}
