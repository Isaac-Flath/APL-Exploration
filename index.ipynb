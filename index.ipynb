{
 "cells": [
  {
   "cell_type": "raw",
   "id": "39c43717",
   "metadata": {},
   "source": [
    "---\n",
    "title: \"apl\"\n",
    "listing:\n",
    "  contents: posts\n",
    "  sort: \"date desc\"\n",
    "  type: default\n",
    "  categories: true\n",
    "  sort-ui: false\n",
    "  filter-ui: false\n",
    "page-layout: full\n",
    "title-block-banner: true\n",
    "---\n"
   ]
  }
 ],
 "metadata": {
  "kernelspec": {
   "display_name": "Dyalog APL",
   "language": "apl",
   "name": "dyalog-kernel"
  },
  "language_info": {
   "file_extension": ".apl",
   "mimetype": "text/apl",
   "name": "APL"
  },
  "toc": {
   "base_numbering": 1,
   "nav_menu": {},
   "number_sections": true,
   "sideBar": true,
   "skip_h1_title": false,
   "title_cell": "Table of Contents",
   "title_sidebar": "Contents",
   "toc_cell": false,
   "toc_position": {},
   "toc_section_display": true,
   "toc_window_display": false
  }
 },
 "nbformat": 4,
 "nbformat_minor": 5
}
